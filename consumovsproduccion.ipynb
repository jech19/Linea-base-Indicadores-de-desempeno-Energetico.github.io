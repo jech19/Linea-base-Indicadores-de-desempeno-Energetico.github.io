{
 "cells": [
  {
   "cell_type": "code",
   "execution_count": 1,
   "id": "c3951c34-d988-484e-a0b6-af3581c7b154",
   "metadata": {},
   "outputs": [],
   "source": [
    "#Importar librerias necesarias\n",
    "# en el archivo readme encontraras como deben estar los datos de produccion y consumo ademas hay una plantilla entre los archivos"
   ]
  },
  {
   "cell_type": "code",
   "execution_count": 2,
   "id": "d038bae0-dbd8-4b9c-aef4-efed1392a4d8",
   "metadata": {},
   "outputs": [],
   "source": [
    "import pandas as pd\n",
    "import numpy as np\n",
    "import matplotlib.pyplot as plt\n",
    "from scipy.stats import linregress\n",
    "import seaborn as sb"
   ]
  },
  {
   "cell_type": "code",
   "execution_count": 3,
   "id": "f97567b0-ce39-4517-bd11-a72370e6b453",
   "metadata": {},
   "outputs": [],
   "source": [
    "#agregar la direccion de donde se encuentran los datos de produccion y consumo"
   ]
  },
  {
   "cell_type": "code",
   "execution_count": 4,
   "id": "4cf3dacf-2448-4312-aa25-b379e6937ae0",
   "metadata": {},
   "outputs": [],
   "source": [
    "basepath = \"C:/Users/JECH_19/Documents/ciencia datos python\""
   ]
  },
  {
   "cell_type": "code",
   "execution_count": 5,
   "id": "ea5c334a-a18b-4442-867d-5e7f9286e662",
   "metadata": {},
   "outputs": [],
   "source": [
    "#poner el nombre del archivo con su extension"
   ]
  },
  {
   "cell_type": "code",
   "execution_count": 6,
   "id": "d0e248a1-92a3-4566-8a2c-5f2061ec13d7",
   "metadata": {},
   "outputs": [],
   "source": [
    "archivo1= basepath + \"/datos consumo.xlsx\""
   ]
  },
  {
   "cell_type": "code",
   "execution_count": 7,
   "id": "37d26b25-9853-4ce5-8f07-65bfa05809a1",
   "metadata": {},
   "outputs": [],
   "source": [
    "#leeremos el archivo como un pandas dataframe"
   ]
  },
  {
   "cell_type": "code",
   "execution_count": 8,
   "id": "aac8cb08-fd64-4046-86c2-2761a258a35a",
   "metadata": {},
   "outputs": [],
   "source": [
    "dfind = pd.read_excel(archivo1)\n"
   ]
  },
  {
   "cell_type": "code",
   "execution_count": 9,
   "id": "c83b2107-000b-4e44-8ce1-ea822edb8651",
   "metadata": {
    "tags": []
   },
   "outputs": [],
   "source": [
    "#observaremos las columnas que tenemos"
   ]
  },
  {
   "cell_type": "code",
   "execution_count": 10,
   "id": "ca9e916c-6282-4c7d-bc5e-24361bd244e2",
   "metadata": {},
   "outputs": [
    {
     "data": {
      "text/html": [
       "<div>\n",
       "<style scoped>\n",
       "    .dataframe tbody tr th:only-of-type {\n",
       "        vertical-align: middle;\n",
       "    }\n",
       "\n",
       "    .dataframe tbody tr th {\n",
       "        vertical-align: top;\n",
       "    }\n",
       "\n",
       "    .dataframe thead th {\n",
       "        text-align: right;\n",
       "    }\n",
       "</style>\n",
       "<table border=\"1\" class=\"dataframe\">\n",
       "  <thead>\n",
       "    <tr style=\"text-align: right;\">\n",
       "      <th></th>\n",
       "      <th>Año</th>\n",
       "      <th>Mes</th>\n",
       "      <th>Consumo</th>\n",
       "      <th>Producción</th>\n",
       "    </tr>\n",
       "  </thead>\n",
       "  <tbody>\n",
       "    <tr>\n",
       "      <th>0</th>\n",
       "      <td>2004</td>\n",
       "      <td>Enero</td>\n",
       "      <td>7925</td>\n",
       "      <td>274</td>\n",
       "    </tr>\n",
       "    <tr>\n",
       "      <th>1</th>\n",
       "      <td>2004</td>\n",
       "      <td>Febrero</td>\n",
       "      <td>12589</td>\n",
       "      <td>452</td>\n",
       "    </tr>\n",
       "    <tr>\n",
       "      <th>2</th>\n",
       "      <td>2004</td>\n",
       "      <td>Marzo</td>\n",
       "      <td>8547</td>\n",
       "      <td>400</td>\n",
       "    </tr>\n",
       "    <tr>\n",
       "      <th>3</th>\n",
       "      <td>2004</td>\n",
       "      <td>Abril</td>\n",
       "      <td>7695</td>\n",
       "      <td>280</td>\n",
       "    </tr>\n",
       "    <tr>\n",
       "      <th>4</th>\n",
       "      <td>2004</td>\n",
       "      <td>Mayo</td>\n",
       "      <td>10255</td>\n",
       "      <td>352</td>\n",
       "    </tr>\n",
       "  </tbody>\n",
       "</table>\n",
       "</div>"
      ],
      "text/plain": [
       "    Año      Mes  Consumo  Producción\n",
       "0  2004   Enero      7925         274\n",
       "1  2004  Febrero    12589         452\n",
       "2  2004    Marzo     8547         400\n",
       "3  2004    Abril     7695         280\n",
       "4  2004     Mayo    10255         352"
      ]
     },
     "execution_count": 10,
     "metadata": {},
     "output_type": "execute_result"
    }
   ],
   "source": [
    "dfind.head()"
   ]
  },
  {
   "cell_type": "code",
   "execution_count": 11,
   "id": "e99bf056-4321-4e8d-b3e4-7e266c664e04",
   "metadata": {},
   "outputs": [],
   "source": [
    "#con la libreria seaborn observaremos los datos con una linea de regresion"
   ]
  },
  {
   "cell_type": "code",
   "execution_count": 12,
   "id": "5191c9fd-2e03-4b6b-9548-105c2674c91a",
   "metadata": {},
   "outputs": [
    {
     "data": {
      "text/plain": [
       "<AxesSubplot:xlabel='Producción', ylabel='Consumo'>"
      ]
     },
     "execution_count": 12,
     "metadata": {},
     "output_type": "execute_result"
    },
    {
     "data": {
      "image/png": "[encoded data removed]",
      "text/plain": [
       "<Figure size 432x288 with 1 Axes>"
      ]
     },
     "metadata": {
      "needs_background": "light"
     },
     "output_type": "display_data"
    }
   ],
   "source": [
    "sb.regplot(x='Producción', y='Consumo', ci=None, data=dfind)"
   ]
  },
  {
   "cell_type": "code",
   "execution_count": 13,
   "id": "b9e4caa7-b455-4a6e-a968-431e224f4fe3",
   "metadata": {},
   "outputs": [],
   "source": [
    "#sacaremos las ecuaciones de la linea de regresion, como el intercepto con eje, pendiente, y valor de R cuadrado"
   ]
  },
  {
   "cell_type": "code",
   "execution_count": 14,
   "id": "a9952612-e8fe-4912-bfdd-bfea67b70aaa",
   "metadata": {},
   "outputs": [
    {
     "name": "stdout",
     "output_type": "stream",
     "text": [
      "pendiente: 21.8192\n",
      "interseccion eje: 2355\n",
      "R2: 0.8061072469719288\n"
     ]
    }
   ],
   "source": [
    "x = dfind['Producción']\n",
    "y = dfind['Consumo']\n",
    "slope1, intercept1, r_value1, p_value1, std_err1 = linregress(x, y)\n",
    "r2 = r_value1**2\n",
    "slope1=round(slope1, 4)\n",
    "intercept1=round(intercept1)\n",
    "print(\"pendiente:\",slope1) \n",
    "print(\"interseccion eje:\", intercept1)\n",
    "print(\"R2:\", r2)\n"
   ]
  },
  {
   "cell_type": "code",
   "execution_count": 15,
   "id": "46665549-ffc4-43bf-9563-ff6ee3e50c68",
   "metadata": {},
   "outputs": [],
   "source": [
    "#se calculan y añaden las siguientes columnas con sus respectivos valores y se saca la desviacion estandar"
   ]
  },
  {
   "cell_type": "code",
   "execution_count": 16,
   "id": "2291f644-437f-460e-8be3-c067af440c08",
   "metadata": {},
   "outputs": [
    {
     "name": "stdout",
     "output_type": "stream",
     "text": [
      "sumatoria Ei= 235372\n",
      "sumatoria E^2= 2396893776\n",
      "sumatoria Ei*Pi= 83661226\n",
      "Des. estan 883.47696\n"
     ]
    }
   ],
   "source": [
    "dfind['Ecalculado']=((dfind['Producción']*slope1)+intercept1)\n",
    "dfind['E^2']=dfind['Consumo']**2\n",
    "dfind['Ei*Pi']=dfind['Consumo']*dfind['Producción']\n",
    "\n",
    "suma_Ei= dfind['Consumo'].sum()\n",
    "suma_E2=dfind['E^2'].sum()\n",
    "suma_EixPi=dfind['Ei*Pi'].sum()\n",
    "print('sumatoria Ei=', suma_Ei)\n",
    "print('sumatoria E^2=', suma_E2)\n",
    "print('sumatoria Ei*Pi=', suma_EixPi)\n",
    "\n",
    "des_Est=((suma_E2-(intercept1*suma_Ei)-(slope1*suma_EixPi))/(dfind.shape[0]-2))**0.5\n",
    "des_Est=round(des_Est, 5)\n",
    "print('Des. estan',des_Est)\n"
   ]
  },
  {
   "cell_type": "code",
   "execution_count": 17,
   "id": "4a0b06ed-6e64-4e1a-9106-fa9055b21172",
   "metadata": {},
   "outputs": [],
   "source": [
    "#se eliminaran los datos mas irregulares respetando que no se pueden eliminar mas del 30% de los datos "
   ]
  },
  {
   "cell_type": "code",
   "execution_count": 18,
   "id": "a2ba1949-bce0-4c1f-983b-797619aa3134",
   "metadata": {},
   "outputs": [
    {
     "name": "stdout",
     "output_type": "stream",
     "text": [
      "0.0 %\n",
      "0\n",
      "x 4\n",
      "0.0 %\n",
      "0\n",
      "x 3.8\n",
      "0.0 %\n",
      "0\n",
      "x 3.5999999999999996\n",
      "0.0 %\n",
      "0\n",
      "x 3.3999999999999995\n",
      "0.0 %\n",
      "0\n",
      "x 3.1999999999999993\n",
      "0.0 %\n",
      "0\n",
      "x 2.999999999999999\n",
      "4.166666666666666 %\n",
      "1\n",
      "x 2.799999999999999\n",
      "4.166666666666666 %\n",
      "1\n",
      "x 2.5999999999999988\n",
      "4.166666666666666 %\n",
      "1\n",
      "x 2.3999999999999986\n",
      "4.166666666666666 %\n",
      "1\n",
      "x 2.1999999999999984\n",
      "4.166666666666666 %\n",
      "1\n",
      "x 1.9999999999999984\n",
      "4.166666666666666 %\n",
      "1\n",
      "x 1.7999999999999985\n",
      "4.166666666666666 %\n",
      "1\n",
      "x 1.5999999999999985\n",
      "8.333333333333332 %\n",
      "2\n",
      "x 1.3999999999999986\n",
      "12.5 %\n",
      "3\n",
      "x 1.1999999999999986\n",
      "20.833333333333336 %\n",
      "5\n",
      "x 0.9999999999999987\n"
     ]
    }
   ],
   "source": [
    "por_dt_eliminar = 40\n",
    "x=4\n",
    "while (por_dt_eliminar < 15 or por_dt_eliminar > 30):\n",
    "    \n",
    "   dfind['E+(x*Sy,x)']=dfind['Ecalculado']+(des_Est*x)\n",
    "   dfind['E-(x*Sy,x)']=dfind['Ecalculado']-(des_Est*x)\n",
    "\n",
    "   dfind['(E+Sy,x)-Ei']=dfind['E+(x*Sy,x)']-dfind['Consumo']\n",
    "   dfind['Ei-(E-Sy,x)']=dfind['Consumo']-dfind['E-(x*Sy,x)']\n",
    "\n",
    "   dffiltro = dfind.drop(dfind[dfind['(E+Sy,x)-Ei']<0].index)\n",
    "   dffiltro = dffiltro.drop(dffiltro[dffiltro['Ei-(E-Sy,x)']<0].index)\n",
    "   dffiltro.reset_index(drop=True, inplace=True)\n",
    "\n",
    "   dt_eliminar = dfind.shape[0]-dffiltro.shape[0]\n",
    "   por_dt_eliminar=(dt_eliminar/dfind.shape[0])*100\n",
    "   print(por_dt_eliminar,'%')\n",
    "   print(dt_eliminar)\n",
    "   print('x',x)\n",
    "   x = x-0.2\n",
    "   \n"
   ]
  },
  {
   "cell_type": "code",
   "execution_count": 19,
   "id": "804b13b1-91f6-475d-b284-6f3a74e900ad",
   "metadata": {},
   "outputs": [
    {
     "name": "stdout",
     "output_type": "stream",
     "text": [
      "     Año         Mes  Consumo  Producción  Ecalculado        E^2    Ei*Pi  \\\n",
      "0   2004      Enero      7925         274   8333.4608   62805625  2171450   \n",
      "1   2004     Febrero    12589         452  12217.2784  158482921  5690228   \n",
      "2   2004       Marzo     8547         400  11082.6800   73051209  3418800   \n",
      "3   2004       Abril     7695         280   8464.3760   59213025  2154600   \n",
      "4   2004        Mayo    10255         352  10035.3584  105165025  3609760   \n",
      "5   2004       Junio     7584         245   7700.7040   57517056  1858080   \n",
      "6   2004       Julio     9541         301   8922.5792   91030681  2871841   \n",
      "7   2004      Agosto    11254         389  10842.6688  126652516  4377806   \n",
      "8   2004  Septiembre    13251         457  12326.3744  175589001  6055707   \n",
      "9   2004     Octubre     7852         236   7504.3312   61653904  1853072   \n",
      "10  2004   Noviembre     8465         321   9358.9632   71656225  2717265   \n",
      "11  2004   Diciembre     7412         285   8573.4720   54937744  2112420   \n",
      "12  2005      Enero      9575         369  10406.2848   91680625  3533175   \n",
      "13  2005     Febrero     7595         214   7024.3088   57684025  1625330   \n",
      "14  2005       Marzo    11257         401  11104.4992  126720049  4514057   \n",
      "15  2005       Abril    11789         399  11060.8608  138980521  4703811   \n",
      "16  2005        Mayo    12458         497  13199.1424  155201764  6191626   \n",
      "17  2005       Junio     7496         273   8311.6416   56190016  2046408   \n",
      "18  2005       Julio    10879         329   9533.5168  118352641  3579191   \n",
      "19  2005      Agosto     7436         215   7046.1280   55294096  1598740   \n",
      "20  2005  Septiembre    12036         421  11540.8832  144865296  5067156   \n",
      "21  2005     Octubre     9731         298   8857.1216   94692361  2899838   \n",
      "22  2005   Noviembre    10785         364  10297.1888  116316225  3925740   \n",
      "23  2005   Diciembre    11965         425  11628.1600  143161225  5085125   \n",
      "\n",
      "     E+(x*Sy,x)   E-(x*Sy,x)  (E+Sy,x)-Ei  Ei-(E-Sy,x)  \n",
      "0    9216.93776   7449.98384   1291.93776    475.01616  \n",
      "1   13100.75536  11333.80144    511.75536   1255.19856  \n",
      "2   11966.15696  10199.20304   3419.15696  -1652.20304  \n",
      "3    9347.85296   7580.89904   1652.85296    114.10096  \n",
      "4   10918.83536   9151.88144    663.83536   1103.11856  \n",
      "5    8584.18096   6817.22704   1000.18096    766.77296  \n",
      "6    9806.05616   8039.10224    265.05616   1501.89776  \n",
      "7   11726.14576   9959.19184    472.14576   1294.80816  \n",
      "8   13209.85136  11442.89744    -41.14864   1808.10256  \n",
      "9    8387.80816   6620.85424    535.80816   1231.14576  \n",
      "10  10242.44016   8475.48624   1777.44016    -10.48624  \n",
      "11   9456.94896   7689.99504   2044.94896   -277.99504  \n",
      "12  11289.76176   9522.80784   1714.76176     52.19216  \n",
      "13   7907.78576   6140.83184    312.78576   1454.16816  \n",
      "14  11987.97616  10221.02224    730.97616   1035.97776  \n",
      "15  11944.33776  10177.38384    155.33776   1611.61616  \n",
      "16  14082.61936  12315.66544   1624.61936    142.33456  \n",
      "17   9195.11856   7428.16464   1699.11856     67.83536  \n",
      "18  10416.99376   8650.03984   -462.00624   2228.96016  \n",
      "19   7929.60496   6162.65104    493.60496   1273.34896  \n",
      "20  12424.36016  10657.40624    388.36016   1378.59376  \n",
      "21   9740.59856   7973.64464      9.59856   1757.35536  \n",
      "22  11180.66576   9413.71184    395.66576   1371.28816  \n",
      "23  12511.63696  10744.68304    546.63696   1220.31696  \n"
     ]
    }
   ],
   "source": [
    "print(dfind)"
   ]
  },
  {
   "cell_type": "code",
   "execution_count": 20,
   "id": "d422271a-a3f4-47aa-a5aa-f7bc35e5deed",
   "metadata": {},
   "outputs": [],
   "source": [
    "# con seaborn y matplotlib graficaremos la linea base, el limite superior e inferior del consumo."
   ]
  },
  {
   "cell_type": "code",
   "execution_count": 21,
   "id": "17ff76fc-1ab3-4540-aa9f-b99e78b47379",
   "metadata": {},
   "outputs": [
    {
     "data": {
      "image/png": "[encoded data removed]",
      "text/plain": [
       "<Figure size 432x288 with 1 Axes>"
      ]
     },
     "metadata": {
      "needs_background": "light"
     },
     "output_type": "display_data"
    }
   ],
   "source": [
    "fig, ax = plt.subplots()\n",
    "sb.regplot(x='Producción', y='E+(x*Sy,x)', data=dfind, ax=ax, color='r',label = \"LIMITE SUPERIOR\")\n",
    "sb.regplot(x='Producción', y='E-(x*Sy,x)', data=dfind, ax=ax, color='g',label = \"LIMITE INFERIOR\")\n",
    "sb.regplot(x='Producción', y='Consumo',ci=None, data=dfind, ax=ax,label = \"LINEA BASE\")\n",
    "ax.grid(axis = 'both', color = 'gray', linestyle = 'dashed')\n",
    "ax.set_title( \"Produccion vs Consumo\" , size = 24 )\n",
    "plt.legend()\n",
    "plt.show()"
   ]
  },
  {
   "cell_type": "code",
   "execution_count": 22,
   "id": "e41a88cc-a2ca-4c58-85ea-d5aba5d1e39e",
   "metadata": {},
   "outputs": [],
   "source": [
    "#creamos el dataframe con los datos que se eliminaron y borramos las columnas que ya no se utilizaran."
   ]
  },
  {
   "cell_type": "code",
   "execution_count": 23,
   "id": "a2c87fff-68bc-46c7-bc48-75a403fa987d",
   "metadata": {},
   "outputs": [
    {
     "name": "stdout",
     "output_type": "stream",
     "text": [
      "     Año         Mes  Consumo  Producción\n",
      "0   2004      Enero      7925         274\n",
      "1   2004     Febrero    12589         452\n",
      "2   2004       Abril     7695         280\n",
      "3   2004        Mayo    10255         352\n",
      "4   2004       Junio     7584         245\n",
      "5   2004       Julio     9541         301\n",
      "6   2004      Agosto    11254         389\n",
      "7   2004     Octubre     7852         236\n",
      "8   2005      Enero      9575         369\n",
      "9   2005     Febrero     7595         214\n",
      "10  2005       Marzo    11257         401\n",
      "11  2005       Abril    11789         399\n",
      "12  2005        Mayo    12458         497\n",
      "13  2005       Junio     7496         273\n",
      "14  2005      Agosto     7436         215\n",
      "15  2005  Septiembre    12036         421\n",
      "16  2005     Octubre     9731         298\n",
      "17  2005   Noviembre    10785         364\n",
      "18  2005   Diciembre    11965         425\n"
     ]
    }
   ],
   "source": [
    "df_lin_met= dffiltro.drop(['Ecalculado', 'E^2', 'Ei*Pi','E+(x*Sy,x)','E-(x*Sy,x)','(E+Sy,x)-Ei','Ei-(E-Sy,x)'], axis=1)\n",
    "print(df_lin_met)"
   ]
  },
  {
   "cell_type": "code",
   "execution_count": 24,
   "id": "0f2c93f6-65c9-4f86-818a-315e3556430a",
   "metadata": {},
   "outputs": [],
   "source": [
    "#sacaremos las ecuaciones de la linea de regresion, como el intercepto con eje, pendiente, y valor de R cuadrado"
   ]
  },
  {
   "cell_type": "code",
   "execution_count": 25,
   "id": "af426664-bfed-44d4-915a-4eff670ec3f1",
   "metadata": {},
   "outputs": [
    {
     "name": "stdout",
     "output_type": "stream",
     "text": [
      "pendiente: 21.700010195509087\n",
      "interseccion eje: 2517.338668303384\n",
      "R2: 0.9150342958480441\n"
     ]
    }
   ],
   "source": [
    "x = df_lin_met['Producción']\n",
    "y = df_lin_met['Consumo']\n",
    "slope2, intercept2, r_value2, p_value2, std_err2 = linregress(x, y)\n",
    "r22 = r_value2**2\n",
    "print(\"pendiente:\",slope2) \n",
    "print(\"interseccion eje:\", intercept2)\n",
    "print(\"R2:\", r22)"
   ]
  },
  {
   "cell_type": "code",
   "execution_count": 26,
   "id": "e9930689-970f-47c6-99dd-54266244bd40",
   "metadata": {},
   "outputs": [],
   "source": [
    "#se agregan las siguientes columnas con sus valores calculados"
   ]
  },
  {
   "cell_type": "code",
   "execution_count": 27,
   "id": "2722dea9-c07f-42b3-a962-d0603bb914c4",
   "metadata": {},
   "outputs": [],
   "source": [
    "df_lin_met['Consumo teorico']=(slope2*df_lin_met['Producción']+intercept2)\n"
   ]
  },
  {
   "cell_type": "code",
   "execution_count": 28,
   "id": "df8ffc63-708d-4ca6-adcc-7aa663a5ce3c",
   "metadata": {},
   "outputs": [],
   "source": [
    "df_lin_met['Real-Teorico']=df_lin_met['Consumo']-df_lin_met['Consumo teorico']"
   ]
  },
  {
   "cell_type": "code",
   "execution_count": 29,
   "id": "24a226c1-0cb4-472e-a99f-0bd9dff8f54a",
   "metadata": {},
   "outputs": [],
   "source": [
    "#se seleccionan los valores superiores a cero y se eliminan"
   ]
  },
  {
   "cell_type": "code",
   "execution_count": 30,
   "id": "ed34df6a-567a-42f8-8bb3-65d25274b03b",
   "metadata": {},
   "outputs": [],
   "source": [
    "df_lin_met['Diferencia al cuadrado']=df_lin_met['Real-Teorico'].clip(upper=0)\n"
   ]
  },
  {
   "cell_type": "code",
   "execution_count": 31,
   "id": "faa4ea49-4fd3-419c-9734-f5c2623df477",
   "metadata": {},
   "outputs": [],
   "source": [
    "#Se guardan los datos negativos en un dataframe auxiliar y se elevan al cuarado"
   ]
  },
  {
   "cell_type": "code",
   "execution_count": 32,
   "id": "1ceee987-6431-4cef-9971-56b12022a4e5",
   "metadata": {},
   "outputs": [],
   "source": [
    "dfaux=df_lin_met['Diferencia al cuadrado']**2\n"
   ]
  },
  {
   "cell_type": "code",
   "execution_count": 33,
   "id": "76ad7457-a80c-4206-ba0f-d864bc181f80",
   "metadata": {},
   "outputs": [],
   "source": [
    "#se reinicia el index para que comience de 0 y se saca la cantidad de datos que tenemos"
   ]
  },
  {
   "cell_type": "code",
   "execution_count": 34,
   "id": "2e2c1509-b0bf-4e19-a8ce-e084ef6252d9",
   "metadata": {},
   "outputs": [],
   "source": [
    "dfaux = dfaux.drop(dfaux[dfaux==0].index)\n",
    "dfaux.reset_index(drop=True, inplace=True)\n",
    "val_neg=dfaux.shape[0]\n"
   ]
  },
  {
   "cell_type": "code",
   "execution_count": 35,
   "id": "225e66e0-da80-4301-812a-95aed83596d4",
   "metadata": {},
   "outputs": [],
   "source": [
    "#se saca la varianza y la desviacion estandar"
   ]
  },
  {
   "cell_type": "code",
   "execution_count": 36,
   "id": "94b70741-9189-4e4e-9271-9cf404307cd5",
   "metadata": {},
   "outputs": [],
   "source": [
    "varianza=(dfaux.sum())/val_neg"
   ]
  },
  {
   "cell_type": "code",
   "execution_count": 37,
   "id": "6cc665ef-8060-4033-97e0-9062a5cfa1ab",
   "metadata": {},
   "outputs": [
    {
     "name": "stdout",
     "output_type": "stream",
     "text": [
      "varianza=  611243.6837468712\n",
      "Des. Estandar=  781.820749115084\n"
     ]
    }
   ],
   "source": [
    "D_estandar=varianza**0.5\n",
    "print(\"varianza= \",varianza)\n",
    "print(\"Des. Estandar= \",D_estandar)"
   ]
  },
  {
   "cell_type": "code",
   "execution_count": 38,
   "id": "96c9d6e8-44f7-44c0-bbe4-72b76d6862e3",
   "metadata": {},
   "outputs": [],
   "source": [
    "df_lin_met['Linea meta'] = ((slope2*df_lin_met['Producción'])+D_estandar) \n"
   ]
  },
  {
   "cell_type": "code",
   "execution_count": 39,
   "id": "1026bcc0-c1ba-4d0b-be92-9cff5c126082",
   "metadata": {},
   "outputs": [],
   "source": [
    "# se graafica la linea base y la linea meta"
   ]
  },
  {
   "cell_type": "code",
   "execution_count": 40,
   "id": "7173ec0b-6d6c-4507-ac49-80bd3b523380",
   "metadata": {},
   "outputs": [
    {
     "data": {
      "image/png": "[encoded data removed]",
      "text/plain": [
       "<Figure size 432x288 with 1 Axes>"
      ]
     },
     "metadata": {
      "needs_background": "light"
     },
     "output_type": "display_data"
    }
   ],
   "source": [
    "fig, ax = plt.subplots()\n",
    "sb.regplot(x='Producción', y='Linea meta', data=df_lin_met, ax=ax, color='g',label = \"LINEA META\")\n",
    "sb.regplot(x='Producción', y='Consumo',ci=None, data=df_lin_met, ax=ax,label = \"LINEA BASE\")\n",
    "ax.grid(axis = 'both', color = 'gray', linestyle = 'dashed')\n",
    "ax.set_title( \"Produccion vs Consumo\" , size = 24 )\n",
    "plt.legend()\n",
    "plt.show()"
   ]
  },
  {
   "cell_type": "code",
   "execution_count": 41,
   "id": "e317f809-92cb-4586-9f98-8eb213dfbba8",
   "metadata": {},
   "outputs": [],
   "source": [
    "# se calcula el ahrro por año y por mes"
   ]
  },
  {
   "cell_type": "code",
   "execution_count": 42,
   "id": "24059abd-4e7a-4328-937d-ffea3e5f653f",
   "metadata": {},
   "outputs": [],
   "source": [
    "dlt_E0=intercept2-D_estandar\n",
    "prc_enrg=1000\n",
    "Ahrr_mes=dlt_E0*prc_enrg\n",
    "Ahrr_año=Ahrr_mes*12\n"
   ]
  },
  {
   "cell_type": "code",
   "execution_count": 43,
   "id": "e0a2cbce-564d-415d-9bb2-8f8084e12705",
   "metadata": {},
   "outputs": [],
   "source": [
    "# se crea un nuevo data frame correspondiente al indice de consumo, se eliminan las columnas que no se utilizaran y se agregan las nuevas calculadas"
   ]
  },
  {
   "cell_type": "code",
   "execution_count": 44,
   "id": "8888b75d-2016-4fa0-b2a8-ba69138f09b2",
   "metadata": {},
   "outputs": [],
   "source": [
    "df_IC= dffiltro.drop(['Ecalculado', 'E^2', 'Ei*Pi','E+(x*Sy,x)','E-(x*Sy,x)','(E+Sy,x)-Ei','Ei-(E-Sy,x)'], axis=1)"
   ]
  },
  {
   "cell_type": "code",
   "execution_count": 45,
   "id": "b56f0070-19ad-413b-88c4-66307f2f6514",
   "metadata": {},
   "outputs": [],
   "source": [
    "df_IC['IC Real']=df_IC['Consumo']/df_IC['Producción']\n"
   ]
  },
  {
   "cell_type": "code",
   "execution_count": 46,
   "id": "48dee16c-a804-404c-aac4-74bf915905b3",
   "metadata": {},
   "outputs": [],
   "source": [
    "df_IC['IC Teorico']=slope2+(intercept2/df_IC['Producción'])\n"
   ]
  },
  {
   "cell_type": "code",
   "execution_count": 47,
   "id": "106ead9f-2798-4d82-9a4c-01a32f123dcb",
   "metadata": {},
   "outputs": [],
   "source": [
    "df_IC['2*E0/P^3']= (2*intercept2)/(df_IC['Producción'])**3\n"
   ]
  },
  {
   "cell_type": "code",
   "execution_count": 48,
   "id": "b18a9234-b1ef-4b6c-adde-5f966742badd",
   "metadata": {},
   "outputs": [],
   "source": [
    "# se grafica la prodccion vs la segunda derivada"
   ]
  },
  {
   "cell_type": "code",
   "execution_count": 49,
   "id": "38377919-a009-4cba-9bbc-deb7fae7e35c",
   "metadata": {},
   "outputs": [
    {
     "data": {
      "image/png": "[encoded data removed]",
      "text/plain": [
       "<Figure size 432x288 with 1 Axes>"
      ]
     },
     "metadata": {
      "needs_background": "light"
     },
     "output_type": "display_data"
    }
   ],
   "source": [
    "fig, ax = plt.subplots()\n",
    "x=df_IC['Producción']\n",
    "y=df_IC['2*E0/P^3']\n",
    "plt.plot(x, y,'o' ,color='g',label = \"SEGUNDA DERIVADA\")\n",
    "ax.grid(axis = 'both', color = 'gray', linestyle = 'dashed')\n",
    "ax.set_title( \"Produccion vs Segunda derivada\" , size = 24 )\n",
    "plt.legend()\n",
    "plt.show()"
   ]
  },
  {
   "cell_type": "code",
   "execution_count": 50,
   "id": "dab3b3d4-6232-4dae-8e82-26053cbba2f3",
   "metadata": {},
   "outputs": [],
   "source": [
    "#se sacan los valore maximo de X y de Y, tambien el minimo de X"
   ]
  },
  {
   "cell_type": "code",
   "execution_count": 51,
   "id": "36bd88c5-69ff-4a64-9ea5-b3089d9ad713",
   "metadata": {},
   "outputs": [
    {
     "data": {
      "text/plain": [
       "35"
      ]
     },
     "execution_count": 51,
     "metadata": {},
     "output_type": "execute_result"
    }
   ],
   "source": [
    "maxx=round(df_IC['Producción'].max())\n",
    "minx=round(df_IC['Producción'].min())\n",
    "maxy=round(df_IC['IC Real'].max())\n",
    "maxx\n",
    "minx\n",
    "maxy"
   ]
  },
  {
   "cell_type": "code",
   "execution_count": 52,
   "id": "87780260-a727-4428-814e-b3ad99763867",
   "metadata": {},
   "outputs": [],
   "source": [
    "#se grafica la segunda derivada con una linea de tendencia polinomica"
   ]
  },
  {
   "cell_type": "code",
   "execution_count": 53,
   "id": "554c025a-f44f-4331-a1d3-b50d4dedf7bd",
   "metadata": {},
   "outputs": [
    {
     "data": {
      "image/png": "[encoded data removed]",
      "text/plain": [
       "<Figure size 432x288 with 1 Axes>"
      ]
     },
     "metadata": {
      "needs_background": "light"
     },
     "output_type": "display_data"
    }
   ],
   "source": [
    "fig, ax = plt.subplots()\n",
    "x=df_IC['Producción']\n",
    "y=df_IC['IC Real']\n",
    "y1=df_IC['IC Teorico']\n",
    "modelo = np.poly1d (np.polyfit (x, y, 2))\n",
    "plt.plot(x, y,'o' ,color='b',label = \"IC Real\")\n",
    "plt.plot(x, y1,'o' ,color='g',label = \"IC Teorico\")\n",
    "polilinea=np.linspace(minx,maxx,maxy)\n",
    "ax.grid(axis = 'both', color = 'gray', linestyle = 'dashed')\n",
    "ax.set_title( \"Produccion vs Indice de consumo\" , size = 24 )\n",
    "plt.plot(polilinea,modelo(polilinea))\n",
    "plt.legend()\n",
    "plt.show()"
   ]
  },
  {
   "cell_type": "code",
   "execution_count": 54,
   "id": "44507a45-c070-4d90-b722-3e8fbaf886d1",
   "metadata": {},
   "outputs": [
    {
     "name": "stdout",
     "output_type": "stream",
     "text": [
      "promedio de consumo: 9832.526315789473\n",
      "promedio de produccion: 337.10526315789474\n",
      "valor minimo de IC Real: 25.06639839034205\n",
      "valor minimo de IC Teorico: 26.765077938574247\n",
      "potencial de ahorro: 572.6338161277481\n",
      "porcentaje de ahorro: 5.8238727030731585\n",
      "ahorro economico: 572633.8161277481\n",
      "TPH: 720\n",
      "valor de produccion segun IC minimo: 497\n",
      "rata critica: 0.6902777777777778\n",
      "rata de produccion: 0.4682017543859649\n"
     ]
    }
   ],
   "source": [
    "mean_consumo= df_IC['Consumo'].mean()\n",
    "mean_produccion=df_IC['Producción'].mean()\n",
    "\n",
    "min_IC_Teorico=df_IC['IC Teorico'].min()\n",
    "df_val_min=df_IC[df_IC['IC Teorico']==min_IC_Teorico]\n",
    "\n",
    "min_IC_Real=df_val_min['IC Real'].values[0]\n",
    "val_prod_segun_IC_min=df_val_min['Producción'].values[0]\n",
    "pot_ahorro=abs(mean_produccion*(min_IC_Real-min_IC_Teorico))\n",
    "porcen_ahorr=(pot_ahorro/mean_consumo)*100\n",
    "Ah_econo=pot_ahorro*1000\n",
    "TPH=30*24\n",
    "\n",
    "\n",
    "rata_critica=val_prod_segun_IC_min/TPH\n",
    "rata_produccion=mean_produccion/TPH\n",
    "print('promedio de consumo:',mean_consumo)\n",
    "print('promedio de produccion:',mean_produccion)\n",
    "print('valor minimo de IC Real:',min_IC_Real)\n",
    "print('valor minimo de IC Teorico:',min_IC_Teorico)\n",
    "print('potencial de ahorro:',pot_ahorro)\n",
    "print('porcentaje de ahorro:',porcen_ahorr)\n",
    "print('ahorro economico:',Ah_econo)\n",
    "print('TPH:',TPH)\n",
    "print('valor de produccion segun IC minimo:',val_prod_segun_IC_min)\n",
    "print('rata critica:',rata_critica)\n",
    "print('rata de produccion:',rata_produccion)"
   ]
  },
  {
   "cell_type": "code",
   "execution_count": 55,
   "id": "fe5479e0-4fa9-46f0-a14c-8c705232621c",
   "metadata": {},
   "outputs": [],
   "source": [
    "# se crea un dataframe que contine los datos originales y se crea un dataframe para el presupuesto con los datos originales"
   ]
  },
  {
   "cell_type": "code",
   "execution_count": 56,
   "id": "d4f1bf84-1d43-4d60-bcd6-1b4ebb6e73f0",
   "metadata": {},
   "outputs": [],
   "source": [
    "dforg= dfind.drop(['Ecalculado', 'E^2', 'Ei*Pi','E+(x*Sy,x)','E-(x*Sy,x)','(E+Sy,x)-Ei','Ei-(E-Sy,x)'], axis=1)\n",
    "dfpresupuesto=dforg\n",
    "n=len(dfpresupuesto['Producción'])\n",
    "a = 0\n",
    "b = 1"
   ]
  },
  {
   "cell_type": "code",
   "execution_count": 57,
   "id": "32822944-e267-4cbb-8383-60ec524c3945",
   "metadata": {},
   "outputs": [],
   "source": [
    "#sacaremos las ecuaciones de la linea de regresion, como el intercepto con eje, pendiente, y valor de R cuadrado"
   ]
  },
  {
   "cell_type": "code",
   "execution_count": 58,
   "id": "da943ac6-b4a0-4f1c-9031-219b46bbef95",
   "metadata": {},
   "outputs": [
    {
     "name": "stdout",
     "output_type": "stream",
     "text": [
      "pendiente: 21.819236182217036\n",
      "interseccion eje: 2354.988375598622\n",
      "R2: 0.8061072469719288\n"
     ]
    }
   ],
   "source": [
    "x3 = dforg['Producción']\n",
    "y3= dforg['Consumo']\n",
    "slope3, intercept3, r_value3, p_value3, std_err3 = linregress(x3, y3)\n",
    "r23 = r_value3**2\n",
    "print(\"pendiente:\",slope3) \n",
    "print(\"interseccion eje:\", intercept3)\n",
    "print(\"R2:\", r23)"
   ]
  },
  {
   "cell_type": "code",
   "execution_count": 59,
   "id": "775b1664-a97f-49d3-a92a-9860842d8af5",
   "metadata": {},
   "outputs": [],
   "source": [
    "#se introducen la produccion que se planea para los siguientes meses"
   ]
  },
  {
   "cell_type": "code",
   "execution_count": 60,
   "id": "3c1cd1aa-3dd1-4dd2-911b-77079eec9898",
   "metadata": {},
   "outputs": [
    {
     "name": "stdout",
     "output_type": "stream",
     "text": [
      "Introduzca la poduccion planeada del siguiente mes "
     ]
    },
    {
     "name": "stdin",
     "output_type": "stream",
     "text": [
      " 1\n"
     ]
    },
    {
     "name": "stdout",
     "output_type": "stream",
     "text": [
      "presione 0 para agregar otro mes y 1 para finalizar"
     ]
    },
    {
     "name": "stdin",
     "output_type": "stream",
     "text": [
      " 0\n"
     ]
    },
    {
     "name": "stdout",
     "output_type": "stream",
     "text": [
      "Introduzca la poduccion planeada del siguiente mes "
     ]
    },
    {
     "name": "stdin",
     "output_type": "stream",
     "text": [
      " 1\n"
     ]
    },
    {
     "name": "stdout",
     "output_type": "stream",
     "text": [
      "presione 0 para agregar otro mes y 1 para finalizar"
     ]
    },
    {
     "name": "stdin",
     "output_type": "stream",
     "text": [
      " 0\n"
     ]
    },
    {
     "name": "stdout",
     "output_type": "stream",
     "text": [
      "Introduzca la poduccion planeada del siguiente mes "
     ]
    },
    {
     "name": "stdin",
     "output_type": "stream",
     "text": [
      " 1\n"
     ]
    },
    {
     "name": "stdout",
     "output_type": "stream",
     "text": [
      "presione 0 para agregar otro mes y 1 para finalizar"
     ]
    },
    {
     "name": "stdin",
     "output_type": "stream",
     "text": [
      " 1\n"
     ]
    },
    {
     "name": "stdout",
     "output_type": "stream",
     "text": [
      "xxx\n"
     ]
    }
   ],
   "source": [
    "\n",
    "while a == 0:\n",
    "    print('Introduzca la poduccion planeada del siguiente mes ', end='')\n",
    "    p=input()\n",
    "    p=int(p)\n",
    "    dfpresupuesto.at[n,'produccion planeada']=p\n",
    "    print('presione 0 para agregar otro mes y 1 para finalizar', end='')\n",
    "    a = input() \n",
    "    a = int (a)\n",
    "    n = n+1\n",
    "    b = b+1\n",
    "print ('xxx')"
   ]
  },
  {
   "cell_type": "code",
   "execution_count": 61,
   "id": "06e13983-a7ba-47f6-9917-d9b3ea58f9dd",
   "metadata": {},
   "outputs": [
    {
     "name": "stdout",
     "output_type": "stream",
     "text": [
      "xxx\n"
     ]
    }
   ],
   "source": [
    "n1 = (n-b) + 1\n",
    "while n1 != n:\n",
    "    dfpresupuesto.at[n1,'consumo teorico']=(slope3*dfpresupuesto.at[n1,'produccion planeada'])+intercept3\n",
    "    n1 = n1+1\n",
    "    n1 = int(n1)\n",
    "print ('xxx')"
   ]
  },
  {
   "cell_type": "code",
   "execution_count": 62,
   "id": "01f15854-0932-4502-9242-c502e9c6fe78",
   "metadata": {},
   "outputs": [],
   "source": [
    "#se introduce el consumu real que tubo la empresa"
   ]
  },
  {
   "cell_type": "code",
   "execution_count": 63,
   "id": "439a1f0a-399d-46e5-88c3-33408bf5c92e",
   "metadata": {},
   "outputs": [
    {
     "name": "stdout",
     "output_type": "stream",
     "text": [
      "Introduzca consumo real del mes "
     ]
    },
    {
     "name": "stdin",
     "output_type": "stream",
     "text": [
      " 1\n"
     ]
    },
    {
     "name": "stdout",
     "output_type": "stream",
     "text": [
      "Introduzca consumo real del mes "
     ]
    },
    {
     "name": "stdin",
     "output_type": "stream",
     "text": [
      " 1\n"
     ]
    },
    {
     "name": "stdout",
     "output_type": "stream",
     "text": [
      "Introduzca consumo real del mes "
     ]
    },
    {
     "name": "stdin",
     "output_type": "stream",
     "text": [
      " 1\n"
     ]
    },
    {
     "name": "stdout",
     "output_type": "stream",
     "text": [
      "xxx\n"
     ]
    }
   ],
   "source": [
    "n1 = (n-b) + 1\n",
    "\n",
    "while n1 != n:\n",
    "    print('Introduzca consumo real del mes ', end='')\n",
    "    c=input()\n",
    "    c=int(c)\n",
    "    dfpresupuesto.at[n1,'consumo real']=c\n",
    "    n1 = n1+1\n",
    "    n1 = int(n1)\n",
    "print ('xxx')"
   ]
  },
  {
   "cell_type": "code",
   "execution_count": 64,
   "id": "1c3b8306-0165-43e2-bd43-74b083fe1cd6",
   "metadata": {},
   "outputs": [],
   "source": [
    "#se introduce la produccion real del mes"
   ]
  },
  {
   "cell_type": "code",
   "execution_count": null,
   "id": "2afa8762-2d94-4f08-abf7-bfa7e09e3ae2",
   "metadata": {},
   "outputs": [
    {
     "name": "stdout",
     "output_type": "stream",
     "text": [
      "Introduzca produccion real del mes "
     ]
    },
    {
     "name": "stdin",
     "output_type": "stream",
     "text": [
      " 1\n"
     ]
    },
    {
     "name": "stdout",
     "output_type": "stream",
     "text": [
      "Introduzca produccion real del mes "
     ]
    },
    {
     "name": "stdin",
     "output_type": "stream",
     "text": [
      " 1\n"
     ]
    },
    {
     "name": "stdout",
     "output_type": "stream",
     "text": [
      "Introduzca produccion real del mes "
     ]
    },
    {
     "name": "stdin",
     "output_type": "stream",
     "text": [
      " 1\n"
     ]
    },
    {
     "name": "stdout",
     "output_type": "stream",
     "text": [
      "xxx\n"
     ]
    }
   ],
   "source": [
    "n1 = (n-b) + 1\n",
    "while n1 != n:\n",
    "    print('Introduzca produccion real del mes ', end='')\n",
    "    p=input()\n",
    "    p = int(p)\n",
    "    dfpresupuesto.at[n1,'produccion real']=p\n",
    "    n1 = n1+1\n",
    "    n1 = int(n1)\n",
    "print ('xxx')"
   ]
  },
  {
   "cell_type": "code",
   "execution_count": null,
   "id": "236f03f9-55e6-4f22-887a-ace5a8ec0b1a",
   "metadata": {},
   "outputs": [],
   "source": [
    "#se añaden las siguientes columnas y se calculan los datos"
   ]
  },
  {
   "cell_type": "code",
   "execution_count": null,
   "id": "8c70d482-7c37-49e6-9a49-15fc5671b929",
   "metadata": {},
   "outputs": [],
   "source": [
    "dfpresupuesto['Var_pres_pro']=slope3*(dfpresupuesto['produccion real']-dfpresupuesto['produccion planeada'])"
   ]
  },
  {
   "cell_type": "code",
   "execution_count": null,
   "id": "d6cdaec2-ae46-458c-a87d-9bd789922544",
   "metadata": {},
   "outputs": [],
   "source": [
    "dfpresupuesto['E linea base']=(slope3*dfpresupuesto['produccion real'])+intercept3"
   ]
  },
  {
   "cell_type": "code",
   "execution_count": null,
   "id": "9fde8d3a-15ae-4d0e-b07c-449ca5b4aac3",
   "metadata": {},
   "outputs": [],
   "source": [
    "dfpresupuesto['Var_pres_efi']=dfpresupuesto['consumo real']-dfpresupuesto['E linea base']"
   ]
  },
  {
   "cell_type": "code",
   "execution_count": null,
   "id": "728841c2-adbf-4436-8333-ffce0da97997",
   "metadata": {},
   "outputs": [],
   "source": [
    "dfpresupuesto['Var_total']=dfpresupuesto['Var_pres_efi']+dfpresupuesto['Var_pres_pro']"
   ]
  },
  {
   "cell_type": "code",
   "execution_count": null,
   "id": "a7bf2a16-a97c-4edb-9bc1-5f5c8774f94a",
   "metadata": {},
   "outputs": [
    {
     "name": "stdout",
     "output_type": "stream",
     "text": [
      "       Año         Mes  Consumo  Producción  produccion planeada  \\\n",
      "0   2004.0      Enero    7925.0       274.0                  NaN   \n",
      "1   2004.0     Febrero  12589.0       452.0                  NaN   \n",
      "2   2004.0       Marzo   8547.0       400.0                  NaN   \n",
      "3   2004.0       Abril   7695.0       280.0                  NaN   \n",
      "4   2004.0        Mayo  10255.0       352.0                  NaN   \n",
      "5   2004.0       Junio   7584.0       245.0                  NaN   \n",
      "6   2004.0       Julio   9541.0       301.0                  NaN   \n",
      "7   2004.0      Agosto  11254.0       389.0                  NaN   \n",
      "8   2004.0  Septiembre  13251.0       457.0                  NaN   \n",
      "9   2004.0     Octubre   7852.0       236.0                  NaN   \n",
      "10  2004.0   Noviembre   8465.0       321.0                  NaN   \n",
      "11  2004.0   Diciembre   7412.0       285.0                  NaN   \n",
      "12  2005.0      Enero    9575.0       369.0                  NaN   \n",
      "13  2005.0     Febrero   7595.0       214.0                  NaN   \n",
      "14  2005.0       Marzo  11257.0       401.0                  NaN   \n",
      "15  2005.0       Abril  11789.0       399.0                  NaN   \n",
      "16  2005.0        Mayo  12458.0       497.0                  NaN   \n",
      "17  2005.0       Junio   7496.0       273.0                  NaN   \n",
      "18  2005.0       Julio  10879.0       329.0                  NaN   \n",
      "19  2005.0      Agosto   7436.0       215.0                  NaN   \n",
      "20  2005.0  Septiembre  12036.0       421.0                  NaN   \n",
      "21  2005.0     Octubre   9731.0       298.0                  NaN   \n",
      "22  2005.0   Noviembre  10785.0       364.0                  NaN   \n",
      "23  2005.0   Diciembre  11965.0       425.0                  NaN   \n",
      "24     NaN         NaN      NaN         NaN                  1.0   \n",
      "25     NaN         NaN      NaN         NaN                  1.0   \n",
      "26     NaN         NaN      NaN         NaN                  1.0   \n",
      "\n",
      "    consumo teorico  consumo real  produccion real  Var_pres_pro  \\\n",
      "0               NaN           NaN              NaN           NaN   \n",
      "1               NaN           NaN              NaN           NaN   \n",
      "2               NaN           NaN              NaN           NaN   \n",
      "3               NaN           NaN              NaN           NaN   \n",
      "4               NaN           NaN              NaN           NaN   \n",
      "5               NaN           NaN              NaN           NaN   \n",
      "6               NaN           NaN              NaN           NaN   \n",
      "7               NaN           NaN              NaN           NaN   \n",
      "8               NaN           NaN              NaN           NaN   \n",
      "9               NaN           NaN              NaN           NaN   \n",
      "10              NaN           NaN              NaN           NaN   \n",
      "11              NaN           NaN              NaN           NaN   \n",
      "12              NaN           NaN              NaN           NaN   \n",
      "13              NaN           NaN              NaN           NaN   \n",
      "14              NaN           NaN              NaN           NaN   \n",
      "15              NaN           NaN              NaN           NaN   \n",
      "16              NaN           NaN              NaN           NaN   \n",
      "17              NaN           NaN              NaN           NaN   \n",
      "18              NaN           NaN              NaN           NaN   \n",
      "19              NaN           NaN              NaN           NaN   \n",
      "20              NaN           NaN              NaN           NaN   \n",
      "21              NaN           NaN              NaN           NaN   \n",
      "22              NaN           NaN              NaN           NaN   \n",
      "23              NaN           NaN              NaN           NaN   \n",
      "24      2376.807612           1.0              1.0           0.0   \n",
      "25      2376.807612           1.0              1.0           0.0   \n",
      "26      2376.807612           1.0              1.0           0.0   \n",
      "\n",
      "    E linea base  Var_pres_efi    Var_total  \n",
      "0            NaN           NaN          NaN  \n",
      "1            NaN           NaN          NaN  \n",
      "2            NaN           NaN          NaN  \n",
      "3            NaN           NaN          NaN  \n",
      "4            NaN           NaN          NaN  \n",
      "5            NaN           NaN          NaN  \n",
      "6            NaN           NaN          NaN  \n",
      "7            NaN           NaN          NaN  \n",
      "8            NaN           NaN          NaN  \n",
      "9            NaN           NaN          NaN  \n",
      "10           NaN           NaN          NaN  \n",
      "11           NaN           NaN          NaN  \n",
      "12           NaN           NaN          NaN  \n",
      "13           NaN           NaN          NaN  \n",
      "14           NaN           NaN          NaN  \n",
      "15           NaN           NaN          NaN  \n",
      "16           NaN           NaN          NaN  \n",
      "17           NaN           NaN          NaN  \n",
      "18           NaN           NaN          NaN  \n",
      "19           NaN           NaN          NaN  \n",
      "20           NaN           NaN          NaN  \n",
      "21           NaN           NaN          NaN  \n",
      "22           NaN           NaN          NaN  \n",
      "23           NaN           NaN          NaN  \n",
      "24   2376.807612  -2375.807612 -2375.807612  \n",
      "25   2376.807612  -2375.807612 -2375.807612  \n",
      "26   2376.807612  -2375.807612 -2375.807612  \n"
     ]
    }
   ],
   "source": [
    "print(dfpresupuesto)"
   ]
  },
  {
   "cell_type": "code",
   "execution_count": null,
   "id": "71059ec8-dfd4-40d2-a8b4-c9f063e3d812",
   "metadata": {},
   "outputs": [],
   "source": [
    "# se concluye si se fue eficiente en produccion o en consumo"
   ]
  },
  {
   "cell_type": "code",
   "execution_count": null,
   "id": "367875bf-aa26-4b0e-a071-a1f4acf7a380",
   "metadata": {},
   "outputs": [
    {
     "name": "stdout",
     "output_type": "stream",
     "text": [
      "xxx\n"
     ]
    }
   ],
   "source": [
    "n1 = (n-b) + 1\n",
    "\n",
    "while n1 != n:\n",
    "    if dfpresupuesto.at[n1,'Var_pres_pro']>0 and dfpresupuesto.at[n1,'Var_pres_efi']<0:\n",
    "        dfpresupuesto.at[n1,'Observacion']='Fui eficiente en produccion y eficiente en consumo'\n",
    "    if dfpresupuesto.at[n1,'Var_pres_pro']<0 and dfpresupuesto.at[n1,'Var_pres_efi']<0:   \n",
    "        dfpresupuesto.at[n1,'Observacion']='Fui ineficiente en produccion y eficiente en consumo'\n",
    "    if dfpresupuesto.at[n1,'Var_pres_pro']>0 and dfpresupuesto.at[n1,'Var_pres_efi']>0:   \n",
    "        dfpresupuesto.at[n1,'Observacion']='Fui eficiente en produccion e ineficiente en consumo'\n",
    "    if dfpresupuesto.at[n1,'Var_pres_pro']<0 and dfpresupuesto.at[n1,'Var_pres_efi']>0:   \n",
    "        dfpresupuesto.at[n1,'Observacion']='Fui ineficiente en produccion e ineficiente en consumo'\n",
    "    if dfpresupuesto.at[n1,'Var_pres_pro']==0 and dfpresupuesto.at[n1,'Var_pres_efi']>0:   \n",
    "        dfpresupuesto.at[n1,'Observacion']='produccion solicitada e ineficiente en consumo'\n",
    "    if dfpresupuesto.at[n1,'Var_pres_pro']==0 and dfpresupuesto.at[n1,'Var_pres_efi']<0:   \n",
    "        dfpresupuesto.at[n1,'Observacion']='produccion solicitada y eficiente en consumo'\n",
    "    if dfpresupuesto.at[n1,'Var_pres_pro']>0 and dfpresupuesto.at[n1,'Var_pres_efi']==0:   \n",
    "        dfpresupuesto.at[n1,'Observacion']='eficiente en produccion y eficiente en consumo'\n",
    "    if dfpresupuesto.at[n1,'Var_pres_pro']<0 and dfpresupuesto.at[n1,'Var_pres_efi']==0:   \n",
    "        dfpresupuesto.at[n1,'Observacion']='ineficiente en produccion y eficiente en consumo'\n",
    "    if dfpresupuesto.at[n1,'Var_pres_pro']>0 and dfpresupuesto.at[n1,'Var_pres_efi']==0:   \n",
    "        dfpresupuesto.at[n1,'Observacion']='produccion solicitada y eficiente en consumo'\n",
    "    n1 = n1+1\n",
    "print ('xxx')"
   ]
  },
  {
   "cell_type": "code",
   "execution_count": null,
   "id": "271a99f6-db36-4710-89c8-a8c1fc003103",
   "metadata": {},
   "outputs": [
    {
     "name": "stdout",
     "output_type": "stream",
     "text": [
      "       Año         Mes  Consumo  Producción  produccion planeada  \\\n",
      "0   2004.0      Enero    7925.0       274.0                  NaN   \n",
      "1   2004.0     Febrero  12589.0       452.0                  NaN   \n",
      "2   2004.0       Marzo   8547.0       400.0                  NaN   \n",
      "3   2004.0       Abril   7695.0       280.0                  NaN   \n",
      "4   2004.0        Mayo  10255.0       352.0                  NaN   \n",
      "5   2004.0       Junio   7584.0       245.0                  NaN   \n",
      "6   2004.0       Julio   9541.0       301.0                  NaN   \n",
      "7   2004.0      Agosto  11254.0       389.0                  NaN   \n",
      "8   2004.0  Septiembre  13251.0       457.0                  NaN   \n",
      "9   2004.0     Octubre   7852.0       236.0                  NaN   \n",
      "10  2004.0   Noviembre   8465.0       321.0                  NaN   \n",
      "11  2004.0   Diciembre   7412.0       285.0                  NaN   \n",
      "12  2005.0      Enero    9575.0       369.0                  NaN   \n",
      "13  2005.0     Febrero   7595.0       214.0                  NaN   \n",
      "14  2005.0       Marzo  11257.0       401.0                  NaN   \n",
      "15  2005.0       Abril  11789.0       399.0                  NaN   \n",
      "16  2005.0        Mayo  12458.0       497.0                  NaN   \n",
      "17  2005.0       Junio   7496.0       273.0                  NaN   \n",
      "18  2005.0       Julio  10879.0       329.0                  NaN   \n",
      "19  2005.0      Agosto   7436.0       215.0                  NaN   \n",
      "20  2005.0  Septiembre  12036.0       421.0                  NaN   \n",
      "21  2005.0     Octubre   9731.0       298.0                  NaN   \n",
      "22  2005.0   Noviembre  10785.0       364.0                  NaN   \n",
      "23  2005.0   Diciembre  11965.0       425.0                  NaN   \n",
      "24     NaN         NaN      NaN         NaN                  1.0   \n",
      "25     NaN         NaN      NaN         NaN                  1.0   \n",
      "26     NaN         NaN      NaN         NaN                  1.0   \n",
      "\n",
      "    consumo teorico  consumo real  produccion real  Var_pres_pro  \\\n",
      "0               NaN           NaN              NaN           NaN   \n",
      "1               NaN           NaN              NaN           NaN   \n",
      "2               NaN           NaN              NaN           NaN   \n",
      "3               NaN           NaN              NaN           NaN   \n",
      "4               NaN           NaN              NaN           NaN   \n",
      "5               NaN           NaN              NaN           NaN   \n",
      "6               NaN           NaN              NaN           NaN   \n",
      "7               NaN           NaN              NaN           NaN   \n",
      "8               NaN           NaN              NaN           NaN   \n",
      "9               NaN           NaN              NaN           NaN   \n",
      "10              NaN           NaN              NaN           NaN   \n",
      "11              NaN           NaN              NaN           NaN   \n",
      "12              NaN           NaN              NaN           NaN   \n",
      "13              NaN           NaN              NaN           NaN   \n",
      "14              NaN           NaN              NaN           NaN   \n",
      "15              NaN           NaN              NaN           NaN   \n",
      "16              NaN           NaN              NaN           NaN   \n",
      "17              NaN           NaN              NaN           NaN   \n",
      "18              NaN           NaN              NaN           NaN   \n",
      "19              NaN           NaN              NaN           NaN   \n",
      "20              NaN           NaN              NaN           NaN   \n",
      "21              NaN           NaN              NaN           NaN   \n",
      "22              NaN           NaN              NaN           NaN   \n",
      "23              NaN           NaN              NaN           NaN   \n",
      "24      2376.807612           1.0              1.0           0.0   \n",
      "25      2376.807612           1.0              1.0           0.0   \n",
      "26      2376.807612           1.0              1.0           0.0   \n",
      "\n",
      "    E linea base  Var_pres_efi    Var_total  \\\n",
      "0            NaN           NaN          NaN   \n",
      "1            NaN           NaN          NaN   \n",
      "2            NaN           NaN          NaN   \n",
      "3            NaN           NaN          NaN   \n",
      "4            NaN           NaN          NaN   \n",
      "5            NaN           NaN          NaN   \n",
      "6            NaN           NaN          NaN   \n",
      "7            NaN           NaN          NaN   \n",
      "8            NaN           NaN          NaN   \n",
      "9            NaN           NaN          NaN   \n",
      "10           NaN           NaN          NaN   \n",
      "11           NaN           NaN          NaN   \n",
      "12           NaN           NaN          NaN   \n",
      "13           NaN           NaN          NaN   \n",
      "14           NaN           NaN          NaN   \n",
      "15           NaN           NaN          NaN   \n",
      "16           NaN           NaN          NaN   \n",
      "17           NaN           NaN          NaN   \n",
      "18           NaN           NaN          NaN   \n",
      "19           NaN           NaN          NaN   \n",
      "20           NaN           NaN          NaN   \n",
      "21           NaN           NaN          NaN   \n",
      "22           NaN           NaN          NaN   \n",
      "23           NaN           NaN          NaN   \n",
      "24   2376.807612  -2375.807612 -2375.807612   \n",
      "25   2376.807612  -2375.807612 -2375.807612   \n",
      "26   2376.807612  -2375.807612 -2375.807612   \n",
      "\n",
      "                                     Observacion  \n",
      "0                                            NaN  \n",
      "1                                            NaN  \n",
      "2                                            NaN  \n",
      "3                                            NaN  \n",
      "4                                            NaN  \n",
      "5                                            NaN  \n",
      "6                                            NaN  \n",
      "7                                            NaN  \n",
      "8                                            NaN  \n",
      "9                                            NaN  \n",
      "10                                           NaN  \n",
      "11                                           NaN  \n",
      "12                                           NaN  \n",
      "13                                           NaN  \n",
      "14                                           NaN  \n",
      "15                                           NaN  \n",
      "16                                           NaN  \n",
      "17                                           NaN  \n",
      "18                                           NaN  \n",
      "19                                           NaN  \n",
      "20                                           NaN  \n",
      "21                                           NaN  \n",
      "22                                           NaN  \n",
      "23                                           NaN  \n",
      "24  produccion solicitada y eficiente en consumo  \n",
      "25  produccion solicitada y eficiente en consumo  \n",
      "26  produccion solicitada y eficiente en consumo  \n"
     ]
    }
   ],
   "source": [
    "print(dfpresupuesto)"
   ]
  },
  {
   "cell_type": "code",
   "execution_count": null,
   "id": "fd44042e-81d8-4748-8c43-66a7b3a81699",
   "metadata": {},
   "outputs": [],
   "source": [
    "#se guardan nuevamente los datos originales"
   ]
  },
  {
   "cell_type": "code",
   "execution_count": null,
   "id": "60c00c85-166c-45c2-924f-77775b5509e6",
   "metadata": {},
   "outputs": [],
   "source": [
    "dforg= dfind.drop(['Ecalculado', 'E^2', 'Ei*Pi','E+(x*Sy,x)','E-(x*Sy,x)','(E+Sy,x)-Ei','Ei-(E-Sy,x)'], axis=1)"
   ]
  },
  {
   "cell_type": "code",
   "execution_count": null,
   "id": "82667604-ed0a-4ff2-bb1a-b666e778837c",
   "metadata": {},
   "outputs": [],
   "source": [
    "#se crea un nuevo dataframe para el indicador de eficiencia"
   ]
  },
  {
   "cell_type": "code",
   "execution_count": null,
   "id": "8ba94fb6-c4c8-4478-9567-6e320d47a3c7",
   "metadata": {},
   "outputs": [],
   "source": [
    "df_indefic_año2=dforg\n"
   ]
  },
  {
   "cell_type": "code",
   "execution_count": null,
   "id": "9a367aed-4bf6-4c86-bff6-7941e9fa2c40",
   "metadata": {},
   "outputs": [],
   "source": [
    "# se seleecionan solo los datos del año 2"
   ]
  },
  {
   "cell_type": "code",
   "execution_count": null,
   "id": "77163168-5d37-47b8-8562-968ed2e6e333",
   "metadata": {},
   "outputs": [],
   "source": [
    "indexNames=df_indefic_año2[df_indefic_año2['Año']==2004].index"
   ]
  },
  {
   "cell_type": "code",
   "execution_count": null,
   "id": "1038e680-43f7-4992-a257-13f61e7a847f",
   "metadata": {},
   "outputs": [],
   "source": [
    "df_indefic_año2.drop(indexNames, inplace=True)"
   ]
  },
  {
   "cell_type": "code",
   "execution_count": null,
   "id": "4282d423-4ed6-43ec-b9a5-9f0b54e62a59",
   "metadata": {},
   "outputs": [],
   "source": [
    "df_indefic_año2.reset_index(drop=True, inplace=True)"
   ]
  },
  {
   "cell_type": "code",
   "execution_count": null,
   "id": "28109296-9859-405c-a83c-812d395fc93c",
   "metadata": {},
   "outputs": [
    {
     "name": "stdout",
     "output_type": "stream",
     "text": [
      "     Año         Mes  Consumo  Producción\n",
      "0   2005      Enero      9575         369\n",
      "1   2005     Febrero     7595         214\n",
      "2   2005       Marzo    11257         401\n",
      "3   2005       Abril    11789         399\n",
      "4   2005        Mayo    12458         497\n",
      "5   2005       Junio     7496         273\n",
      "6   2005       Julio    10879         329\n",
      "7   2005      Agosto     7436         215\n",
      "8   2005  Septiembre    12036         421\n",
      "9   2005     Octubre     9731         298\n",
      "10  2005   Noviembre    10785         364\n",
      "11  2005   Diciembre    11965         425\n"
     ]
    }
   ],
   "source": [
    "print(df_indefic_año2)"
   ]
  },
  {
   "cell_type": "code",
   "execution_count": null,
   "id": "bc8a61d1-957c-4c3a-b89d-0e1ebdc19082",
   "metadata": {},
   "outputs": [],
   "source": [
    "dforg= dfind.drop(['Ecalculado', 'E^2', 'Ei*Pi','E+(x*Sy,x)','E-(x*Sy,x)','(E+Sy,x)-Ei','Ei-(E-Sy,x)'], axis=1)"
   ]
  },
  {
   "cell_type": "code",
   "execution_count": null,
   "id": "b1bac78e-51df-449b-86e0-6b8e877de2f9",
   "metadata": {},
   "outputs": [],
   "source": [
    "# se seleccionan solo los datos de año 1"
   ]
  },
  {
   "cell_type": "code",
   "execution_count": null,
   "id": "ebcdd18f-5484-41a8-8a38-1b4d3e1125da",
   "metadata": {},
   "outputs": [],
   "source": [
    "df_indefic_año1=dforg"
   ]
  },
  {
   "cell_type": "code",
   "execution_count": null,
   "id": "a4979757-217b-44fe-bf5c-4bab65f20c1f",
   "metadata": {},
   "outputs": [],
   "source": [
    "\n",
    "indexNames=df_indefic_año1[df_indefic_año1['Año']==2005].index"
   ]
  },
  {
   "cell_type": "code",
   "execution_count": null,
   "id": "3ea00066-f11c-4016-ad08-8a854555b023",
   "metadata": {},
   "outputs": [],
   "source": [
    "df_indefic_año1.drop(indexNames, inplace=True)\n"
   ]
  },
  {
   "cell_type": "code",
   "execution_count": null,
   "id": "2093804c-5335-4e30-b635-40033586f5a4",
   "metadata": {},
   "outputs": [
    {
     "name": "stdout",
     "output_type": "stream",
     "text": [
      "     Año         Mes  Consumo  Producción\n",
      "0   2004      Enero      7925         274\n",
      "1   2004     Febrero    12589         452\n",
      "2   2004       Marzo     8547         400\n",
      "3   2004       Abril     7695         280\n",
      "4   2004        Mayo    10255         352\n",
      "5   2004       Junio     7584         245\n",
      "6   2004       Julio     9541         301\n",
      "7   2004      Agosto    11254         389\n",
      "8   2004  Septiembre    13251         457\n",
      "9   2004     Octubre     7852         236\n",
      "10  2004   Noviembre     8465         321\n",
      "11  2004   Diciembre     7412         285\n"
     ]
    }
   ],
   "source": [
    "print(df_indefic_año1)"
   ]
  },
  {
   "cell_type": "code",
   "execution_count": null,
   "id": "2633e354-3b26-4460-a19b-2723784358f6",
   "metadata": {},
   "outputs": [],
   "source": [
    "#sacaremos las ecuaciones de la linea de regresion, como el intercepto con eje, pendiente, y valor de R cuadrado del año 1"
   ]
  },
  {
   "cell_type": "code",
   "execution_count": null,
   "id": "9e1142e9-51fe-4cb2-b378-d86845ba9743",
   "metadata": {},
   "outputs": [
    {
     "name": "stdout",
     "output_type": "stream",
     "text": [
      "pendiente: 23.422621695721897\n",
      "interseccion eje: 1572.241182556514\n",
      "R2: 0.776889131352878\n"
     ]
    }
   ],
   "source": [
    "x4 = df_indefic_año1['Producción']\n",
    "y4= df_indefic_año1['Consumo']\n",
    "slope4, intercept4, r_value4, p_value4, std_err4 = linregress(x4, y4)\n",
    "r24 = r_value4**2\n",
    "print(\"pendiente:\",slope4) \n",
    "print(\"interseccion eje:\", intercept4)\n",
    "print(\"R2:\", r24)"
   ]
  },
  {
   "cell_type": "code",
   "execution_count": null,
   "id": "47a48325-1a19-47cc-8247-9b6e6fca4516",
   "metadata": {},
   "outputs": [],
   "source": []
  },
  {
   "cell_type": "code",
   "execution_count": null,
   "id": "179d121b-6fca-403f-81b4-3718dc1857d6",
   "metadata": {},
   "outputs": [
    {
     "name": "stdout",
     "output_type": "stream",
     "text": [
      "sumatoria Ei= 112370\n",
      "sumatoria E^2= 1097754932\n",
      "sumatoria Ei*Pi= 38891029\n",
      "1007.5877476316872\n"
     ]
    }
   ],
   "source": [
    "\n",
    "df_indefic_año1['Ecalculado']=((df_indefic_año1['Producción']*slope4)+intercept4)\n",
    "\n",
    "df_indefic_año1['E^2']=df_indefic_año1['Consumo']**2\n",
    "\n",
    "df_indefic_año1['Ei*Pi']=df_indefic_año1['Consumo']*df_indefic_año1['Producción']\n",
    "\n",
    "\n",
    "suma_Ei= df_indefic_año1['Consumo'].sum()\n",
    "suma_E2=df_indefic_año1['E^2'].sum()\n",
    "suma_EixPi=df_indefic_año1['Ei*Pi'].sum()\n",
    "print('sumatoria Ei=', suma_Ei)\n",
    "print('sumatoria E^2=', suma_E2)\n",
    "print('sumatoria Ei*Pi=', suma_EixPi)\n",
    "\n",
    "des_Est=((suma_E2-(intercept4*suma_Ei)-(slope4*suma_EixPi))/(df_indefic_año1.shape[0]-2))**0.5\n",
    "print(des_Est)"
   ]
  },
  {
   "cell_type": "code",
   "execution_count": null,
   "id": "fb5c3ecf-b67a-4c2f-b96e-a674a14495e1",
   "metadata": {},
   "outputs": [],
   "source": [
    "dfaux1=df_indefic_año1.drop(['Ecalculado', 'E^2', 'Ei*Pi'], axis=1)"
   ]
  },
  {
   "cell_type": "code",
   "execution_count": null,
   "id": "fc15bc29-8b20-4563-97b6-b4a3646f9138",
   "metadata": {},
   "outputs": [
    {
     "data": {
      "text/html": [
       "<div>\n",
       "<style scoped>\n",
       "    .dataframe tbody tr th:only-of-type {\n",
       "        vertical-align: middle;\n",
       "    }\n",
       "\n",
       "    .dataframe tbody tr th {\n",
       "        vertical-align: top;\n",
       "    }\n",
       "\n",
       "    .dataframe thead th {\n",
       "        text-align: right;\n",
       "    }\n",
       "</style>\n",
       "<table border=\"1\" class=\"dataframe\">\n",
       "  <thead>\n",
       "    <tr style=\"text-align: right;\">\n",
       "      <th></th>\n",
       "      <th>Año</th>\n",
       "      <th>Mes</th>\n",
       "      <th>Consumo</th>\n",
       "      <th>Producción</th>\n",
       "      <th>Ecalculado</th>\n",
       "      <th>E^2</th>\n",
       "      <th>Ei*Pi</th>\n",
       "    </tr>\n",
       "  </thead>\n",
       "  <tbody>\n",
       "    <tr>\n",
       "      <th>0</th>\n",
       "      <td>2004</td>\n",
       "      <td>Enero</td>\n",
       "      <td>7925</td>\n",
       "      <td>274</td>\n",
       "      <td>7990.039527</td>\n",
       "      <td>62805625</td>\n",
       "      <td>2171450</td>\n",
       "    </tr>\n",
       "    <tr>\n",
       "      <th>1</th>\n",
       "      <td>2004</td>\n",
       "      <td>Febrero</td>\n",
       "      <td>12589</td>\n",
       "      <td>452</td>\n",
       "      <td>12159.266189</td>\n",
       "      <td>158482921</td>\n",
       "      <td>5690228</td>\n",
       "    </tr>\n",
       "    <tr>\n",
       "      <th>2</th>\n",
       "      <td>2004</td>\n",
       "      <td>Marzo</td>\n",
       "      <td>8547</td>\n",
       "      <td>400</td>\n",
       "      <td>10941.289861</td>\n",
       "      <td>73051209</td>\n",
       "      <td>3418800</td>\n",
       "    </tr>\n",
       "    <tr>\n",
       "      <th>3</th>\n",
       "      <td>2004</td>\n",
       "      <td>Abril</td>\n",
       "      <td>7695</td>\n",
       "      <td>280</td>\n",
       "      <td>8130.575257</td>\n",
       "      <td>59213025</td>\n",
       "      <td>2154600</td>\n",
       "    </tr>\n",
       "    <tr>\n",
       "      <th>4</th>\n",
       "      <td>2004</td>\n",
       "      <td>Mayo</td>\n",
       "      <td>10255</td>\n",
       "      <td>352</td>\n",
       "      <td>9817.004019</td>\n",
       "      <td>105165025</td>\n",
       "      <td>3609760</td>\n",
       "    </tr>\n",
       "    <tr>\n",
       "      <th>5</th>\n",
       "      <td>2004</td>\n",
       "      <td>Junio</td>\n",
       "      <td>7584</td>\n",
       "      <td>245</td>\n",
       "      <td>7310.783498</td>\n",
       "      <td>57517056</td>\n",
       "      <td>1858080</td>\n",
       "    </tr>\n",
       "    <tr>\n",
       "      <th>6</th>\n",
       "      <td>2004</td>\n",
       "      <td>Julio</td>\n",
       "      <td>9541</td>\n",
       "      <td>301</td>\n",
       "      <td>8622.450313</td>\n",
       "      <td>91030681</td>\n",
       "      <td>2871841</td>\n",
       "    </tr>\n",
       "    <tr>\n",
       "      <th>7</th>\n",
       "      <td>2004</td>\n",
       "      <td>Agosto</td>\n",
       "      <td>11254</td>\n",
       "      <td>389</td>\n",
       "      <td>10683.641022</td>\n",
       "      <td>126652516</td>\n",
       "      <td>4377806</td>\n",
       "    </tr>\n",
       "    <tr>\n",
       "      <th>8</th>\n",
       "      <td>2004</td>\n",
       "      <td>Septiembre</td>\n",
       "      <td>13251</td>\n",
       "      <td>457</td>\n",
       "      <td>12276.379298</td>\n",
       "      <td>175589001</td>\n",
       "      <td>6055707</td>\n",
       "    </tr>\n",
       "    <tr>\n",
       "      <th>9</th>\n",
       "      <td>2004</td>\n",
       "      <td>Octubre</td>\n",
       "      <td>7852</td>\n",
       "      <td>236</td>\n",
       "      <td>7099.979903</td>\n",
       "      <td>61653904</td>\n",
       "      <td>1853072</td>\n",
       "    </tr>\n",
       "    <tr>\n",
       "      <th>10</th>\n",
       "      <td>2004</td>\n",
       "      <td>Noviembre</td>\n",
       "      <td>8465</td>\n",
       "      <td>321</td>\n",
       "      <td>9090.902747</td>\n",
       "      <td>71656225</td>\n",
       "      <td>2717265</td>\n",
       "    </tr>\n",
       "    <tr>\n",
       "      <th>11</th>\n",
       "      <td>2004</td>\n",
       "      <td>Diciembre</td>\n",
       "      <td>7412</td>\n",
       "      <td>285</td>\n",
       "      <td>8247.688366</td>\n",
       "      <td>54937744</td>\n",
       "      <td>2112420</td>\n",
       "    </tr>\n",
       "  </tbody>\n",
       "</table>\n",
       "</div>"
      ],
      "text/plain": [
       "     Año         Mes  Consumo  Producción    Ecalculado        E^2    Ei*Pi\n",
       "0   2004      Enero      7925         274   7990.039527   62805625  2171450\n",
       "1   2004     Febrero    12589         452  12159.266189  158482921  5690228\n",
       "2   2004       Marzo     8547         400  10941.289861   73051209  3418800\n",
       "3   2004       Abril     7695         280   8130.575257   59213025  2154600\n",
       "4   2004        Mayo    10255         352   9817.004019  105165025  3609760\n",
       "5   2004       Junio     7584         245   7310.783498   57517056  1858080\n",
       "6   2004       Julio     9541         301   8622.450313   91030681  2871841\n",
       "7   2004      Agosto    11254         389  10683.641022  126652516  4377806\n",
       "8   2004  Septiembre    13251         457  12276.379298  175589001  6055707\n",
       "9   2004     Octubre     7852         236   7099.979903   61653904  1853072\n",
       "10  2004   Noviembre     8465         321   9090.902747   71656225  2717265\n",
       "11  2004   Diciembre     7412         285   8247.688366   54937744  2112420"
      ]
     },
     "execution_count": 94,
     "metadata": {},
     "output_type": "execute_result"
    }
   ],
   "source": [
    "df_indefic_año1"
   ]
  },
  {
   "cell_type": "code",
   "execution_count": null,
   "id": "a888bb6b-d943-4f1d-8f70-40f73ad3ab4f",
   "metadata": {},
   "outputs": [
    {
     "name": "stdout",
     "output_type": "stream",
     "text": [
      "0.0 %\n",
      "0\n",
      "4\n",
      "0.0 %\n",
      "0\n",
      "3.8\n",
      "0.0 %\n",
      "0\n",
      "3.5999999999999996\n",
      "0.0 %\n",
      "0\n",
      "3.3999999999999995\n",
      "0.0 %\n",
      "0\n",
      "3.1999999999999993\n",
      "0.0 %\n",
      "0\n",
      "2.999999999999999\n",
      "0.0 %\n",
      "0\n",
      "2.799999999999999\n",
      "0.0 %\n",
      "0\n",
      "2.5999999999999988\n",
      "0.0 %\n",
      "0\n",
      "2.3999999999999986\n",
      "8.333333333333332 %\n",
      "1\n",
      "2.1999999999999984\n"
     ]
    }
   ],
   "source": [
    "por_dt_eliminar1 = 40\n",
    "x=4\n",
    "while (por_dt_eliminar1 < 1 or por_dt_eliminar1 > 30):\n",
    "    \n",
    "   df_indefic_año1['E+(x*Sy,x)']=df_indefic_año1['Ecalculado']+(des_Est*x)\n",
    "   df_indefic_año1['E-(x*Sy,x)']=df_indefic_año1['Ecalculado']-(des_Est*x)\n",
    "\n",
    "   df_indefic_año1['(E+Sy,x)-Ei']=df_indefic_año1['E+(x*Sy,x)']-df_indefic_año1['Consumo']\n",
    "   df_indefic_año1['Ei-(E-Sy,x)']=df_indefic_año1['Consumo']-df_indefic_año1['E-(x*Sy,x)']\n",
    "\n",
    "   dffiltro1 = df_indefic_año1.drop(df_indefic_año1[df_indefic_año1['(E+Sy,x)-Ei']<0].index)\n",
    "   dffiltro1 = dffiltro1.drop(dffiltro1[dffiltro1['Ei-(E-Sy,x)']<0].index)\n",
    "   dffiltro1.reset_index(drop=True, inplace=True)\n",
    "\n",
    "   dt_eliminar1 = df_indefic_año1.shape[0]-dffiltro1.shape[0]\n",
    "   por_dt_eliminar1=(dt_eliminar1/df_indefic_año1.shape[0])*100\n",
    "   print(por_dt_eliminar1,'%')\n",
    "   print(dt_eliminar1)\n",
    "   print(x)\n",
    "   x = x-0.2\n",
    "   \n"
   ]
  },
  {
   "cell_type": "code",
   "execution_count": null,
   "id": "417c8fc9-7f91-472a-a6fd-ef249ed1c510",
   "metadata": {},
   "outputs": [
    {
     "name": "stdout",
     "output_type": "stream",
     "text": [
      "     Año         Mes  Consumo  Producción    Ecalculado        E^2    Ei*Pi  \\\n",
      "0   2004      Enero      7925         274   7990.039527   62805625  2171450   \n",
      "1   2004     Febrero    12589         452  12159.266189  158482921  5690228   \n",
      "2   2004       Marzo     8547         400  10941.289861   73051209  3418800   \n",
      "3   2004       Abril     7695         280   8130.575257   59213025  2154600   \n",
      "4   2004        Mayo    10255         352   9817.004019  105165025  3609760   \n",
      "5   2004       Junio     7584         245   7310.783498   57517056  1858080   \n",
      "6   2004       Julio     9541         301   8622.450313   91030681  2871841   \n",
      "7   2004      Agosto    11254         389  10683.641022  126652516  4377806   \n",
      "8   2004  Septiembre    13251         457  12276.379298  175589001  6055707   \n",
      "9   2004     Octubre     7852         236   7099.979903   61653904  1853072   \n",
      "10  2004   Noviembre     8465         321   9090.902747   71656225  2717265   \n",
      "11  2004   Diciembre     7412         285   8247.688366   54937744  2112420   \n",
      "\n",
      "      E+(x*Sy,x)    E-(x*Sy,x)  (E+Sy,x)-Ei  Ei-(E-Sy,x)  \n",
      "0   10206.732572   5773.346482  2281.732572  2151.653518  \n",
      "1   14375.959234   9942.573144  1786.959234  2646.426856  \n",
      "2   13157.982906   8724.596816  4610.982906  -177.596816  \n",
      "3   10347.268302   5913.882213  2652.268302  1781.117787  \n",
      "4   12033.697064   7600.310975  1778.697064  2654.689025  \n",
      "5    9527.476543   5094.090453  1943.476543  2489.909547  \n",
      "6   10839.143358   6405.757268  1298.143358  3135.242732  \n",
      "7   12900.334067   8466.947977  1646.334067  2787.052023  \n",
      "8   14493.072342  10059.686253  1242.072342  3191.313747  \n",
      "9    9316.672948   4883.286858  1464.672948  2968.713142  \n",
      "10  11307.595792   6874.209702  2842.595792  1590.790298  \n",
      "11  10464.381411   6030.995321  3052.381411  1381.004679  \n"
     ]
    }
   ],
   "source": [
    "print(df_indefic_año1)"
   ]
  },
  {
   "cell_type": "code",
   "execution_count": null,
   "id": "932163a4-1835-42d4-9562-f1d4d21fa40f",
   "metadata": {},
   "outputs": [
    {
     "data": {
      "image/png": "[encoded data removed]",
      "text/plain": [
       "<Figure size 432x288 with 1 Axes>"
      ]
     },
     "metadata": {
      "needs_background": "light"
     },
     "output_type": "display_data"
    }
   ],
   "source": [
    "fig, ax = plt.subplots()\n",
    "sb.regplot(x='Producción', y='E+(x*Sy,x)', data=df_indefic_año1, ax=ax, color='r',label = \"LIMITE SUPERIOR\")\n",
    "sb.regplot(x='Producción', y='E-(x*Sy,x)', data=df_indefic_año1, ax=ax, color='g',label = \"LIMITE INFERIOR\")\n",
    "sb.regplot(x='Producción', y='Consumo',ci=None, data=df_indefic_año1, ax=ax,label = \"LINEA BASE\")\n",
    "ax.grid(axis = 'both', color = 'gray', linestyle = 'dashed')\n",
    "ax.set_title( \"Produccion vs Consumo\" , size = 24 )\n",
    "plt.legend()\n",
    "plt.show()"
   ]
  },
  {
   "cell_type": "code",
   "execution_count": null,
   "id": "17fc4a3e-0a1f-41c9-a654-60dd82336c0b",
   "metadata": {},
   "outputs": [],
   "source": []
  },
  {
   "cell_type": "code",
   "execution_count": null,
   "id": "6e1fd276-6448-476e-8705-2e61c8515122",
   "metadata": {},
   "outputs": [],
   "source": [
    "dffiltro1=dffiltro1.drop(['Ecalculado','E^2','Ei*Pi','E+(x*Sy,x)','E-(x*Sy,x)','(E+Sy,x)-Ei','Ei-(E-Sy,x)'],axis=1)"
   ]
  },
  {
   "cell_type": "code",
   "execution_count": null,
   "id": "a8269df9-2b71-4dbe-96b7-fb5ca63f7035",
   "metadata": {},
   "outputs": [],
   "source": []
  },
  {
   "cell_type": "code",
   "execution_count": null,
   "id": "cd11d3f0-05d0-4dda-ac0f-c669c04a0fae",
   "metadata": {},
   "outputs": [
    {
     "name": "stdout",
     "output_type": "stream",
     "text": [
      "pendiente: 26.378905497877447\n",
      "interseccion eje: 824.5428592385651\n",
      "R2: 0.9245420691304512\n"
     ]
    }
   ],
   "source": [
    "x = dffiltro1['Producción']\n",
    "y = dffiltro1['Consumo']\n",
    "slope5, intercept5, r_value5, p_value5, std_err5 = linregress(x, y)\n",
    "r25 = r_value5**2\n",
    "print(\"pendiente:\",slope5) \n",
    "print(\"interseccion eje:\", intercept5)\n",
    "print(\"R2:\", r25)"
   ]
  },
  {
   "cell_type": "code",
   "execution_count": null,
   "id": "eff9bf29-f394-4881-b43d-6d111f3741f5",
   "metadata": {},
   "outputs": [],
   "source": [
    "dffiltro1['Consumo teorico']=(slope5*dffiltro1['Producción']+intercept5)\n"
   ]
  },
  {
   "cell_type": "code",
   "execution_count": null,
   "id": "230cb3f3-b76b-41bd-b6d2-c64665f12863",
   "metadata": {},
   "outputs": [],
   "source": [
    "dffiltro1['Real-Teorico']=dffiltro1['Consumo']-dffiltro1['Consumo teorico']"
   ]
  },
  {
   "cell_type": "code",
   "execution_count": null,
   "id": "8a74710f-fd9e-4b24-9242-f3dcd64eee83",
   "metadata": {},
   "outputs": [],
   "source": [
    "dffiltro1['Diferencia al cuadrado']=(dffiltro1['Real-Teorico'].clip(upper=0))**2\n"
   ]
  },
  {
   "cell_type": "code",
   "execution_count": null,
   "id": "4637cacc-ec93-4714-9fff-e1158d37a620",
   "metadata": {},
   "outputs": [
    {
     "name": "stdout",
     "output_type": "stream",
     "text": [
      "     Año         Mes  Consumo  Producción  Consumo teorico  Real-Teorico  \\\n",
      "0   2004      Enero      7925         274      8052.362966   -127.362966   \n",
      "1   2004     Febrero    12589         452     12747.808144   -158.808144   \n",
      "2   2004       Abril     7695         280      8210.636399   -515.636399   \n",
      "3   2004        Mayo    10255         352     10109.917594    145.082406   \n",
      "4   2004       Junio     7584         245      7287.374706    296.625294   \n",
      "5   2004       Julio     9541         301      8764.593414    776.406586   \n",
      "6   2004      Agosto    11254         389     11085.937098    168.062902   \n",
      "7   2004  Septiembre    13251         457     12879.702672    371.297328   \n",
      "8   2004     Octubre     7852         236      7049.964557    802.035443   \n",
      "9   2004   Noviembre     8465         321      9292.171524   -827.171524   \n",
      "10  2004   Diciembre     7412         285      8342.530926   -930.530926   \n",
      "\n",
      "    Diferencia al cuadrado  \n",
      "0             16221.325021  \n",
      "1             25220.026689  \n",
      "2            265880.895607  \n",
      "3                 0.000000  \n",
      "4                 0.000000  \n",
      "5                 0.000000  \n",
      "6                 0.000000  \n",
      "7                 0.000000  \n",
      "8                 0.000000  \n",
      "9            684212.730211  \n",
      "10           865887.804491  \n"
     ]
    }
   ],
   "source": [
    "print(dffiltro1)"
   ]
  },
  {
   "cell_type": "code",
   "execution_count": null,
   "id": "dbeacbbe-fe68-4d09-8f5b-b15b07d7c71f",
   "metadata": {},
   "outputs": [
    {
     "data": {
      "text/plain": [
       "0      16221.325021\n",
       "1      25220.026689\n",
       "2     265880.895607\n",
       "3          0.000000\n",
       "4          0.000000\n",
       "5          0.000000\n",
       "6          0.000000\n",
       "7          0.000000\n",
       "8          0.000000\n",
       "9     684212.730211\n",
       "10    865887.804491\n",
       "Name: Diferencia al cuadrado, dtype: float64"
      ]
     },
     "execution_count": 104,
     "metadata": {},
     "output_type": "execute_result"
    }
   ],
   "source": [
    "dfaux1=dffiltro1['Diferencia al cuadrado']\n",
    "dfaux1"
   ]
  },
  {
   "cell_type": "code",
   "execution_count": null,
   "id": "57555ecb-2fc5-4bdd-ad81-2f2eebd9058d",
   "metadata": {},
   "outputs": [
    {
     "data": {
      "text/plain": [
       "5"
      ]
     },
     "execution_count": 105,
     "metadata": {},
     "output_type": "execute_result"
    }
   ],
   "source": [
    "dfaux1 = dfaux1.drop(dfaux1[dfaux1==0].index)\n",
    "dfaux1.reset_index(drop=True, inplace=True)\n",
    "val_neg1=dfaux1.shape[0]\n",
    "val_neg1"
   ]
  },
  {
   "cell_type": "code",
   "execution_count": null,
   "id": "56ef1203-8272-4718-ad3f-0714a85bf670",
   "metadata": {},
   "outputs": [],
   "source": [
    "varianza1=(dfaux1.sum()/val_neg1)"
   ]
  },
  {
   "cell_type": "code",
   "execution_count": null,
   "id": "ef7d5820-7b02-4fa4-9268-8bca72c9d2c5",
   "metadata": {},
   "outputs": [
    {
     "name": "stdout",
     "output_type": "stream",
     "text": [
      "varianza=  371484.5564038856\n",
      "Des. Estandar=  609.4953292715913\n"
     ]
    }
   ],
   "source": [
    "D_estandar1=varianza1**0.5\n",
    "print(\"varianza= \",varianza1)\n",
    "print(\"Des. Estandar= \",D_estandar1)\n"
   ]
  },
  {
   "cell_type": "code",
   "execution_count": null,
   "id": "e3e120d6-031d-4fc3-86b1-78a925c1f880",
   "metadata": {},
   "outputs": [],
   "source": [
    "dffiltro1['Linea meta'] = ((slope5*dffiltro1['Producción'])+D_estandar1) \n"
   ]
  },
  {
   "cell_type": "code",
   "execution_count": null,
   "id": "23848df2-1f75-4ec3-9496-68ddefd0d0cd",
   "metadata": {},
   "outputs": [
    {
     "name": "stdout",
     "output_type": "stream",
     "text": [
      "     Año         Mes  Consumo  Producción  Consumo teorico  Real-Teorico  \\\n",
      "0   2004      Enero      7925         274      8052.362966   -127.362966   \n",
      "1   2004     Febrero    12589         452     12747.808144   -158.808144   \n",
      "2   2004       Abril     7695         280      8210.636399   -515.636399   \n",
      "3   2004        Mayo    10255         352     10109.917594    145.082406   \n",
      "4   2004       Junio     7584         245      7287.374706    296.625294   \n",
      "5   2004       Julio     9541         301      8764.593414    776.406586   \n",
      "6   2004      Agosto    11254         389     11085.937098    168.062902   \n",
      "7   2004  Septiembre    13251         457     12879.702672    371.297328   \n",
      "8   2004     Octubre     7852         236      7049.964557    802.035443   \n",
      "9   2004   Noviembre     8465         321      9292.171524   -827.171524   \n",
      "10  2004   Diciembre     7412         285      8342.530926   -930.530926   \n",
      "\n",
      "    Diferencia al cuadrado    Linea meta  \n",
      "0             16221.325021   7837.315436  \n",
      "1             25220.026689  12532.760614  \n",
      "2            265880.895607   7995.588869  \n",
      "3                 0.000000   9894.870065  \n",
      "4                 0.000000   7072.327176  \n",
      "5                 0.000000   8549.545884  \n",
      "6                 0.000000  10870.889568  \n",
      "7                 0.000000  12664.655142  \n",
      "8                 0.000000   6834.917027  \n",
      "9            684212.730211   9077.123994  \n",
      "10           865887.804491   8127.483396  \n"
     ]
    }
   ],
   "source": [
    "print(dffiltro1)"
   ]
  },
  {
   "cell_type": "code",
   "execution_count": null,
   "id": "4ebe9c99-4f9c-4cf2-9be1-de6e4e72e82f",
   "metadata": {},
   "outputs": [
    {
     "data": {
      "image/png": "[encoded data removed]",
      "text/plain": [
       "<Figure size 432x288 with 1 Axes>"
      ]
     },
     "metadata": {
      "needs_background": "light"
     },
     "output_type": "display_data"
    }
   ],
   "source": [
    "fig, ax = plt.subplots()\n",
    "sb.regplot(x='Producción', y='Linea meta', data=dffiltro1, ax=ax, color='g',label = \"LINEA META\")\n",
    "sb.regplot(x='Producción', y='Consumo',ci=None, data=dffiltro1, ax=ax,label = \"LINEA BASE\")\n",
    "ax.grid(axis = 'both', color = 'gray', linestyle = 'dashed')\n",
    "ax.set_title( \"Produccion vs Consumo\" , size = 24 )\n",
    "plt.legend()\n",
    "plt.show()"
   ]
  },
  {
   "cell_type": "code",
   "execution_count": null,
   "id": "7f9f2942-cd32-4c89-879f-c2313bfea341",
   "metadata": {},
   "outputs": [],
   "source": [
    "# se calculan los datos del año 2 para el indicador de eficiencia en base 100"
   ]
  },
  {
   "cell_type": "code",
   "execution_count": null,
   "id": "16c5c026-b101-4f75-bd53-a5d8d050d1bd",
   "metadata": {},
   "outputs": [],
   "source": [
    "df_indefic_año2['EL=mlb*Preal+E0LB']=(slope5*df_indefic_año2['Producción'])+intercept5"
   ]
  },
  {
   "cell_type": "code",
   "execution_count": null,
   "id": "06622c12-7347-48e5-b0cb-2ff49efab739",
   "metadata": {},
   "outputs": [],
   "source": [
    "df_indefic_año2['Em=mlm*Preal+E0Lm']=(slope5*df_indefic_año2['Producción'])+D_estandar1"
   ]
  },
  {
   "cell_type": "code",
   "execution_count": null,
   "id": "49985f51-070e-4eed-9d26-b18a216ee03c",
   "metadata": {},
   "outputs": [],
   "source": [
    "df_indefic_año2['lb100=(Elb/Ereal)*100']=(df_indefic_año2['EL=mlb*Preal+E0LB']/df_indefic_año2['Consumo'])*100"
   ]
  },
  {
   "cell_type": "code",
   "execution_count": null,
   "id": "65bc06d3-29e4-428b-a791-9df0a421570a",
   "metadata": {},
   "outputs": [],
   "source": [
    "df_indefic_año2['lb100=(Elm/Ereal)*100']=(df_indefic_año2['Em=mlm*Preal+E0Lm']/df_indefic_año2['Consumo'])*100"
   ]
  },
  {
   "cell_type": "code",
   "execution_count": null,
   "id": "84d8fab6-d629-4602-be19-8ca555f3c831",
   "metadata": {},
   "outputs": [],
   "source": [
    "df_indefic_año2.reset_index(drop=True, inplace=True)\n",
    "tam=(df_indefic_año2.shape[0])\n",
    "tam\n",
    "naux=0"
   ]
  },
  {
   "cell_type": "code",
   "execution_count": null,
   "id": "7cc7e4dc-8ebb-4a8f-8081-60f330b5cae5",
   "metadata": {},
   "outputs": [
    {
     "data": {
      "text/plain": [
       "12"
      ]
     },
     "execution_count": 117,
     "metadata": {},
     "output_type": "execute_result"
    }
   ],
   "source": [
    "tam"
   ]
  },
  {
   "cell_type": "code",
   "execution_count": null,
   "id": "27525068-4920-4daa-9229-f915c428a6ab",
   "metadata": {},
   "outputs": [],
   "source": [
    "\n",
    "while (naux<tam):\n",
    "    df_indefic_año2.at[naux,'a']=naux\n",
    "    df_indefic_año2['b']=100\n",
    "    df_indefic_año2['c']=120\n",
    "    df_indefic_año2['d']=80\n",
    "    naux=naux+1\n",
    "   \n",
    "    "
   ]
  },
  {
   "cell_type": "code",
   "execution_count": null,
   "id": "5092b312-d027-4db7-8b93-b9491f3fd7ed",
   "metadata": {},
   "outputs": [
    {
     "name": "stdout",
     "output_type": "stream",
     "text": [
      "     Año         Mes  Consumo  Producción  EL=mlb*Preal+E0LB  \\\n",
      "0   2005      Enero      9575         369       10558.358988   \n",
      "1   2005     Febrero     7595         214        6469.628636   \n",
      "2   2005       Marzo    11257         401       11402.483964   \n",
      "3   2005       Abril    11789         399       11349.726153   \n",
      "4   2005        Mayo    12458         497       13934.858892   \n",
      "5   2005       Junio     7496         273        8025.984060   \n",
      "6   2005       Julio    10879         329        9503.202768   \n",
      "7   2005      Agosto     7436         215        6496.007541   \n",
      "8   2005  Septiembre    12036         421       11930.062074   \n",
      "9   2005     Octubre     9731         298        8685.456698   \n",
      "10  2005   Noviembre    10785         364       10426.464460   \n",
      "11  2005   Diciembre    11965         425       12035.577696   \n",
      "\n",
      "    Em=mlm*Preal+E0Lm  lb100=(Elb/Ereal)*100  lb100=(Elm/Ereal)*100     a  \\\n",
      "0        10343.311458             110.270068             108.024141   0.0   \n",
      "1         6254.581106              85.182734              82.351298   1.0   \n",
      "2        11187.436434             101.292387              99.382042   2.0   \n",
      "3        11134.678623              96.273867              94.449730   3.0   \n",
      "4        13719.811362             111.854703             110.128523   4.0   \n",
      "5         7810.936530             107.070225             104.201394   5.0   \n",
      "6         9288.155238              87.353643              85.376921   6.0   \n",
      "7         6280.960011              87.358896              84.466918   7.0   \n",
      "8        11715.014544              99.119824              97.333122   8.0   \n",
      "9         8470.409168              89.255541              87.045619   9.0   \n",
      "10       10211.416930              96.675609              94.681659  10.0   \n",
      "11       11820.530166             100.589868              98.792563  11.0   \n",
      "\n",
      "      b    c   d  \n",
      "0   100  120  80  \n",
      "1   100  120  80  \n",
      "2   100  120  80  \n",
      "3   100  120  80  \n",
      "4   100  120  80  \n",
      "5   100  120  80  \n",
      "6   100  120  80  \n",
      "7   100  120  80  \n",
      "8   100  120  80  \n",
      "9   100  120  80  \n",
      "10  100  120  80  \n",
      "11  100  120  80  \n"
     ]
    }
   ],
   "source": [
    "print(df_indefic_año2)"
   ]
  },
  {
   "cell_type": "code",
   "execution_count": null,
   "id": "c9a15e46-a78e-4ee3-9b1e-0347db2349a2",
   "metadata": {},
   "outputs": [],
   "source": [
    "# se grafica el indicador de eficiencia en base 100"
   ]
  },
  {
   "cell_type": "code",
   "execution_count": null,
   "id": "a2c024e0-21b7-4dc9-bdba-de5d712aa834",
   "metadata": {},
   "outputs": [
    {
     "data": {
      "image/png": "[encoded data removed]",
      "text/plain": [
       "<Figure size 432x288 with 1 Axes>"
      ]
     },
     "metadata": {
      "needs_background": "light"
     },
     "output_type": "display_data"
    }
   ],
   "source": [
    "fig, ax = plt.subplots()\n",
    "sb.lineplot(x='a', y='c',ci=None, data=df_indefic_año2, ax=ax, color='g',label = \"LIMITE SUPERIOR ZONA CUMPLIMIENTO\")\n",
    "sb.lineplot(x='a', y='d',ci=None, data=df_indefic_año2, ax=ax, color='r',label = \"LIMITE INFERIOR ZONA NO CUMPLIMIENTO\")\n",
    "sb.lineplot(x='a', y='lb100=(Elb/Ereal)*100',ci=None, data=df_indefic_año2, ax=ax, color='b',label = \"E LINEA BASE\")\n",
    "sb.lineplot(x='a', y='lb100=(Elm/Ereal)*100',ci=None, data=df_indefic_año2, ax=ax, color='m',label = \"E LINEA META\")\n",
    "sb.lineplot(x='a', y='b',ci=None, data=df_indefic_año2, ax=ax, color='gray' ,label = \"LINEA BASE 100\")\n",
    "ax.grid(axis = 'both', color = 'gray', linestyle = 'dashed')\n",
    "ax.set_title( \"Produccion vs Consumo\" , size = 24 )\n",
    "plt.xticks(range(0,naux,1))\n",
    "plt.xlabel(\"X Label\",color='w')\n",
    "plt.ylabel(\"INDICADOR BASE 100\", size = 16)\n",
    "plt.legend(bbox_to_anchor=(1.05, 1.0), loc='upper left')\n",
    "plt.show()"
   ]
  },
  {
   "cell_type": "code",
   "execution_count": null,
   "id": "7c0570d7-039e-4004-87b6-93e0fcb302ef",
   "metadata": {},
   "outputs": [],
   "source": []
  }
 ],
 "metadata": {
  "kernelspec": {
   "display_name": "Python 3 (ipykernel)",
   "language": "python",
   "name": "python3"
  },
  "language_info": {
   "codemirror_mode": {
    "name": "ipython",
    "version": 3
   },
   "file_extension": ".py",
   "mimetype": "text/x-python",
   "name": "python",
   "nbconvert_exporter": "python",
   "pygments_lexer": "ipython3",
   "version": "3.9.12"
  }
 },
 "nbformat": 4,
 "nbformat_minor": 5
}
