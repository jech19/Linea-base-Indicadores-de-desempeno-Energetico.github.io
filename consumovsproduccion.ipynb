{
 "cells": [
  {
   "cell_type": "code",
   "execution_count": 1,
   "id": "c3951c34-d988-484e-a0b6-af3581c7b154",
   "metadata": {},
   "outputs": [],
   "source": [
    "#Importar librerias necesarias\n",
    "# en el archivo readme encontraras como deben estar los datos de produccion y consumo ademas hay una plantilla entre los archivos"
   ]
  },
  {
   "cell_type": "code",
   "execution_count": 2,
   "id": "d038bae0-dbd8-4b9c-aef4-efed1392a4d8",
   "metadata": {},
   "outputs": [],
   "source": [
    "import pandas as pd\n",
    "import numpy as np\n",
    "import matplotlib.pyplot as plt\n",
    "from scipy.stats import linregress\n",
    "import seaborn as sb"
   ]
  },
  {
   "cell_type": "code",
   "execution_count": 3,
   "id": "f97567b0-ce39-4517-bd11-a72370e6b453",
   "metadata": {},
   "outputs": [],
   "source": [
    "#agregar la direccion de donde se encuentran los datos de produccion y consumo"
   ]
  },
  {
   "cell_type": "code",
   "execution_count": 4,
   "id": "4cf3dacf-2448-4312-aa25-b379e6937ae0",
   "metadata": {},
   "outputs": [],
   "source": [
    "basepath = \"C:/Users/JECH_19/Documents/ciencia datos python\""
   ]
  },
  {
   "cell_type": "code",
   "execution_count": 5,
   "id": "ea5c334a-a18b-4442-867d-5e7f9286e662",
   "metadata": {},
   "outputs": [],
   "source": [
    "#poner el nombre del archivo con su extension"
   ]
  },
  {
   "cell_type": "code",
   "execution_count": 6,
   "id": "d0e248a1-92a3-4566-8a2c-5f2061ec13d7",
   "metadata": {},
   "outputs": [],
   "source": [
    "archivo1= basepath + \"/prueba.xlsx\""
   ]
  },
  {
   "cell_type": "code",
   "execution_count": 7,
   "id": "37d26b25-9853-4ce5-8f07-65bfa05809a1",
   "metadata": {},
   "outputs": [],
   "source": [
    "#leeremos el archivo como un pandas dataframe"
   ]
  },
  {
   "cell_type": "code",
   "execution_count": 8,
   "id": "aac8cb08-fd64-4046-86c2-2761a258a35a",
   "metadata": {},
   "outputs": [],
   "source": [
    "dfind = pd.read_excel(archivo1)\n"
   ]
  },
  {
   "cell_type": "code",
   "execution_count": 9,
   "id": "c83b2107-000b-4e44-8ce1-ea822edb8651",
   "metadata": {},
   "outputs": [],
   "source": [
    "#observaremos las columnas que tenemos"
   ]
  },
  {
   "cell_type": "code",
   "execution_count": 10,
   "id": "ca9e916c-6282-4c7d-bc5e-24361bd244e2",
   "metadata": {},
   "outputs": [
    {
     "data": {
      "text/html": [
       "<div>\n",
       "<style scoped>\n",
       "    .dataframe tbody tr th:only-of-type {\n",
       "        vertical-align: middle;\n",
       "    }\n",
       "\n",
       "    .dataframe tbody tr th {\n",
       "        vertical-align: top;\n",
       "    }\n",
       "\n",
       "    .dataframe thead th {\n",
       "        text-align: right;\n",
       "    }\n",
       "</style>\n",
       "<table border=\"1\" class=\"dataframe\">\n",
       "  <thead>\n",
       "    <tr style=\"text-align: right;\">\n",
       "      <th></th>\n",
       "      <th>Año</th>\n",
       "      <th>Mes</th>\n",
       "      <th>Consumo en Kpc</th>\n",
       "      <th>Producción Ton.</th>\n",
       "    </tr>\n",
       "  </thead>\n",
       "  <tbody>\n",
       "    <tr>\n",
       "      <th>0</th>\n",
       "      <td>1998</td>\n",
       "      <td>Enero</td>\n",
       "      <td>134880</td>\n",
       "      <td>2385730</td>\n",
       "    </tr>\n",
       "    <tr>\n",
       "      <th>1</th>\n",
       "      <td>1998</td>\n",
       "      <td>Febrero</td>\n",
       "      <td>138240</td>\n",
       "      <td>2040070</td>\n",
       "    </tr>\n",
       "    <tr>\n",
       "      <th>2</th>\n",
       "      <td>1998</td>\n",
       "      <td>Marzo</td>\n",
       "      <td>138480</td>\n",
       "      <td>2161680</td>\n",
       "    </tr>\n",
       "    <tr>\n",
       "      <th>3</th>\n",
       "      <td>1998</td>\n",
       "      <td>Abril</td>\n",
       "      <td>122880</td>\n",
       "      <td>2103370</td>\n",
       "    </tr>\n",
       "    <tr>\n",
       "      <th>4</th>\n",
       "      <td>1998</td>\n",
       "      <td>Mayo</td>\n",
       "      <td>155280</td>\n",
       "      <td>2401320</td>\n",
       "    </tr>\n",
       "  </tbody>\n",
       "</table>\n",
       "</div>"
      ],
      "text/plain": [
       "    Año      Mes  Consumo en Kpc  Producción Ton.\n",
       "0  1998    Enero          134880          2385730\n",
       "1  1998  Febrero          138240          2040070\n",
       "2  1998    Marzo          138480          2161680\n",
       "3  1998    Abril          122880          2103370\n",
       "4  1998     Mayo          155280          2401320"
      ]
     },
     "execution_count": 10,
     "metadata": {},
     "output_type": "execute_result"
    }
   ],
   "source": [
    "dfind.head()"
   ]
  },
  {
   "cell_type": "code",
   "execution_count": 11,
   "id": "e99bf056-4321-4e8d-b3e4-7e266c664e04",
   "metadata": {},
   "outputs": [],
   "source": [
    "#con la libreria seaborn observaremos los datos con una linea de regresion"
   ]
  },
  {
   "cell_type": "code",
   "execution_count": 12,
   "id": "5191c9fd-2e03-4b6b-9548-105c2674c91a",
   "metadata": {},
   "outputs": [
    {
     "data": {
      "text/plain": [
       "<AxesSubplot:xlabel='Producción Ton.', ylabel='Consumo en Kpc'>"
      ]
     },
     "execution_count": 12,
     "metadata": {},
     "output_type": "execute_result"
    },
    {
     "data": {
      "image/png": "[encoded data removed]",
      "text/plain": [
       "<Figure size 432x288 with 1 Axes>"
      ]
     },
     "metadata": {
      "needs_background": "light"
     },
     "output_type": "display_data"
    }
   ],
   "source": [
    "sb.regplot(x='Producción Ton.', y='Consumo en Kpc', ci=None, data=dfind)"
   ]
  },
  {
   "cell_type": "code",
   "execution_count": 13,
   "id": "b9e4caa7-b455-4a6e-a968-431e224f4fe3",
   "metadata": {},
   "outputs": [],
   "source": [
    "#sacaremos las ecuaciones de la linea de regresion, como el intercepto con eje, pendiente, y valor de R cuadrado"
   ]
  },
  {
   "cell_type": "code",
   "execution_count": 14,
   "id": "a9952612-e8fe-4912-bfdd-bfea67b70aaa",
   "metadata": {},
   "outputs": [
    {
     "name": "stdout",
     "output_type": "stream",
     "text": [
      "pendiente: 0.0493\n",
      "interseccion eje: 34995\n",
      "R2: 0.7753139270861864\n"
     ]
    }
   ],
   "source": [
    "x = dfind['Producción Ton.']\n",
    "y = dfind['Consumo en Kpc']\n",
    "slope1, intercept1, r_value1, p_value1, std_err1 = linregress(x, y)\n",
    "r2 = r_value1**2\n",
    "slope1=round(slope1, 4)\n",
    "intercept1=round(intercept1)\n",
    "print(\"pendiente:\",slope1) \n",
    "print(\"interseccion eje:\", intercept1)\n",
    "print(\"R2:\", r2)\n"
   ]
  },
  {
   "cell_type": "code",
   "execution_count": 15,
   "id": "46665549-ffc4-43bf-9563-ff6ee3e50c68",
   "metadata": {},
   "outputs": [],
   "source": [
    "#se calculan y añaden las siguientes columnas con sus respectivos valores y se saca la desviacion estandar"
   ]
  },
  {
   "cell_type": "code",
   "execution_count": 16,
   "id": "2291f644-437f-460e-8be3-c067af440c08",
   "metadata": {},
   "outputs": [
    {
     "name": "stdout",
     "output_type": "stream",
     "text": [
      "sumatoria Ei= 3966621\n",
      "sumatoria E^2= 683143852105\n",
      "sumatoria Ei*Pi= 10914732989285\n",
      "Des. estan 16835.58709\n"
     ]
    }
   ],
   "source": [
    "dfind['Ecalculado']=((dfind['Producción Ton.']*slope1)+intercept1)\n",
    "dfind['E^2']=dfind['Consumo en Kpc']**2\n",
    "dfind['Ei*Pi']=dfind['Consumo en Kpc']*dfind['Producción Ton.']\n",
    "\n",
    "suma_Ei= dfind['Consumo en Kpc'].sum()\n",
    "suma_E2=dfind['E^2'].sum()\n",
    "suma_EixPi=dfind['Ei*Pi'].sum()\n",
    "print('sumatoria Ei=', suma_Ei)\n",
    "print('sumatoria E^2=', suma_E2)\n",
    "print('sumatoria Ei*Pi=', suma_EixPi)\n",
    "\n",
    "des_Est=((suma_E2-(intercept1*suma_Ei)-(slope1*suma_EixPi))/(dfind.shape[0]-2))**0.5\n",
    "des_Est=round(des_Est, 5)\n",
    "print('Des. estan',des_Est)\n"
   ]
  },
  {
   "cell_type": "code",
   "execution_count": 17,
   "id": "4a0b06ed-6e64-4e1a-9106-fa9055b21172",
   "metadata": {},
   "outputs": [],
   "source": [
    "#se eliminaran los datos mas irregulares respetando que no se pueden eliminar mas del 30% de los datos "
   ]
  },
  {
   "cell_type": "code",
   "execution_count": 18,
   "id": "a2ba1949-bce0-4c1f-983b-797619aa3134",
   "metadata": {},
   "outputs": [
    {
     "name": "stdout",
     "output_type": "stream",
     "text": [
      "0.0 %\n",
      "0\n",
      "x 4\n",
      "0.0 %\n",
      "0\n",
      "x 3.8\n",
      "0.0 %\n",
      "0\n",
      "x 3.5999999999999996\n",
      "0.0 %\n",
      "0\n",
      "x 3.3999999999999995\n",
      "0.0 %\n",
      "0\n",
      "x 3.1999999999999993\n",
      "0.0 %\n",
      "0\n",
      "x 2.999999999999999\n",
      "0.0 %\n",
      "0\n",
      "x 2.799999999999999\n",
      "4.166666666666666 %\n",
      "1\n",
      "x 2.5999999999999988\n",
      "8.333333333333332 %\n",
      "2\n",
      "x 2.3999999999999986\n",
      "8.333333333333332 %\n",
      "2\n",
      "x 2.1999999999999984\n",
      "8.333333333333332 %\n",
      "2\n",
      "x 1.9999999999999984\n",
      "8.333333333333332 %\n",
      "2\n",
      "x 1.7999999999999985\n",
      "8.333333333333332 %\n",
      "2\n",
      "x 1.5999999999999985\n",
      "8.333333333333332 %\n",
      "2\n",
      "x 1.3999999999999986\n",
      "16.666666666666664 %\n",
      "4\n",
      "x 1.1999999999999986\n"
     ]
    }
   ],
   "source": [
    "por_dt_eliminar = 40\n",
    "x=4\n",
    "while (por_dt_eliminar < 15 or por_dt_eliminar > 30):\n",
    "    \n",
    "   dfind['E+(x*Sy,x)']=dfind['Ecalculado']+(des_Est*x)\n",
    "   dfind['E-(x*Sy,x)']=dfind['Ecalculado']-(des_Est*x)\n",
    "\n",
    "   dfind['(E+Sy,x)-Ei']=dfind['E+(x*Sy,x)']-dfind['Consumo en Kpc']\n",
    "   dfind['Ei-(E-Sy,x)']=dfind['Consumo en Kpc']-dfind['E-(x*Sy,x)']\n",
    "\n",
    "   dffiltro = dfind.drop(dfind[dfind['(E+Sy,x)-Ei']<0].index)\n",
    "   dffiltro = dffiltro.drop(dffiltro[dffiltro['Ei-(E-Sy,x)']<0].index)\n",
    "   dffiltro.reset_index(drop=True, inplace=True)\n",
    "\n",
    "   dt_eliminar = dfind.shape[0]-dffiltro.shape[0]\n",
    "   por_dt_eliminar=(dt_eliminar/dfind.shape[0])*100\n",
    "   print(por_dt_eliminar,'%')\n",
    "   print(dt_eliminar)\n",
    "   print('x',x)\n",
    "   x = x-0.2\n",
    "   \n"
   ]
  },
  {
   "cell_type": "code",
   "execution_count": 19,
   "id": "804b13b1-91f6-475d-b284-6f3a74e900ad",
   "metadata": {},
   "outputs": [
    {
     "name": "stdout",
     "output_type": "stream",
     "text": [
      "     Año         Mes  Consumo en Kpc  Producción Ton.   Ecalculado  \\\n",
      "0   1998       Enero          134880          2385730  152611.4890   \n",
      "1   1998     Febrero          138240          2040070  135570.4510   \n",
      "2   1998       Marzo          138480          2161680  141565.8240   \n",
      "3   1998       Abril          122880          2103370  138691.1410   \n",
      "4   1998        Mayo          155280          2401320  153380.0760   \n",
      "5   1998       Junio          157920          2537565  160096.9545   \n",
      "6   1998       Julio          159600          2303359  148550.5987   \n",
      "7   1998      Agosto          177600          2811775  173615.5075   \n",
      "8   1998  Septiembre          158880          2337090  150213.5370   \n",
      "9   1998     Octubre          131040          2157733  141371.2369   \n",
      "10  1998   Noviembre          143760          2300890  148428.8770   \n",
      "11  1998   Diciembre          153840          2282175  147506.2275   \n",
      "12  1999       Enero          150480          2595580  162957.0940   \n",
      "13  1999     Febrero          108240          1929556  130122.1108   \n",
      "14  1999       Marzo          153120          2420295  154315.5435   \n",
      "15  1999       Abril          159720          2509785  158727.4005   \n",
      "16  1999        Mayo          165817          2656455  165958.2315   \n",
      "17  1999       Junio          198000          2875225  176743.5925   \n",
      "18  1999       Julio          176880          2804464  173255.0752   \n",
      "19  1999      Agosto          171600          2635296  164915.0928   \n",
      "20  1999  Septiembre          235580          3145100  190048.4300   \n",
      "21  1999     Octubre          210560          3505180  207800.3740   \n",
      "22  1999   Noviembre          246570          3967284  230582.1012   \n",
      "23  1999   Diciembre          217654          4550585  259338.8405   \n",
      "\n",
      "            E^2         Ei*Pi     E+(x*Sy,x)     E-(x*Sy,x)   (E+Sy,x)-Ei  \\\n",
      "0   18192614400  321787262400  172814.193508  132408.784492  37934.193508   \n",
      "1   19110297600  282019276800  155773.155508  115367.746492  17533.155508   \n",
      "2   19176710400  299349446400  161768.528508  121363.119492  23288.528508   \n",
      "3   15099494400  258462105600  158893.845508  118488.436492  36013.845508   \n",
      "4   24111878400  372876969600  173582.780508  133177.371492  18302.780508   \n",
      "5   24938726400  400732264800  180299.659008  139894.249992  22379.659008   \n",
      "6   25472160000  367616096400  168753.303208  128347.894192   9153.303208   \n",
      "7   31541760000  499371240000  193818.212008  153412.802992  16218.212008   \n",
      "8   25242854400  371316859200  170416.241508  130010.832492  11536.241508   \n",
      "9   17171481600  282749332320  161573.941408  121168.532392  30533.941408   \n",
      "10  20666937600  330775946400  168631.581508  128226.172492  24871.581508   \n",
      "11  23666745600  351089802000  167708.932008  127303.522992  13868.932008   \n",
      "12  22644230400  390582878400  183159.798508  142754.389492  32679.798508   \n",
      "13  11715897600  208855141440  150324.815308  109919.406292  42084.815308   \n",
      "14  23445734400  370595570400  174518.248008  134112.838992  21398.248008   \n",
      "15  25510478400  400862860200  178930.105008  138524.695992  19210.105008   \n",
      "16  27495277489  440485398735  186160.936008  145755.526992  20343.936008   \n",
      "17  39204000000  569294550000  196946.297008  156540.887992  -1053.702992   \n",
      "18  31286534400  496053592320  193457.779708  153052.370692  16577.779708   \n",
      "19  29446560000  452216793600  185117.797308  144712.388292  13517.797308   \n",
      "20  55497936400  740922658000  210251.134508  169845.725492 -25328.865492   \n",
      "21  44335513600  738050700800  228003.078508  187597.669492  17443.078508   \n",
      "22  60796764900  978213215880  250784.805708  210379.396692   4214.805708   \n",
      "23  47373263716  990453027590  279541.545008  239136.135992  61887.545008   \n",
      "\n",
      "     Ei-(E-Sy,x)  \n",
      "0    2471.215508  \n",
      "1   22872.253508  \n",
      "2   17116.880508  \n",
      "3    4391.563508  \n",
      "4   22102.628508  \n",
      "5   18025.750008  \n",
      "6   31252.105808  \n",
      "7   24187.197008  \n",
      "8   28869.167508  \n",
      "9    9871.467608  \n",
      "10  15533.827508  \n",
      "11  26536.477008  \n",
      "12   7725.610508  \n",
      "13  -1679.406292  \n",
      "14  19007.161008  \n",
      "15  21195.304008  \n",
      "16  20061.473008  \n",
      "17  41459.112008  \n",
      "18  23827.629308  \n",
      "19  26887.611708  \n",
      "20  65734.274508  \n",
      "21  22962.330508  \n",
      "22  36190.603308  \n",
      "23 -21482.135992  \n"
     ]
    }
   ],
   "source": [
    "print(dfind)"
   ]
  },
  {
   "cell_type": "code",
   "execution_count": 20,
   "id": "d422271a-a3f4-47aa-a5aa-f7bc35e5deed",
   "metadata": {},
   "outputs": [],
   "source": [
    "# con seaborn y matplotlib graficaremos la linea base, el limite superior e inferior del consumo."
   ]
  },
  {
   "cell_type": "code",
   "execution_count": 21,
   "id": "17ff76fc-1ab3-4540-aa9f-b99e78b47379",
   "metadata": {},
   "outputs": [
    {
     "data": {
      "image/png": "[encoded data removed]",
      "text/plain": [
       "<Figure size 432x288 with 1 Axes>"
      ]
     },
     "metadata": {
      "needs_background": "light"
     },
     "output_type": "display_data"
    }
   ],
   "source": [
    "fig, ax = plt.subplots()\n",
    "sb.regplot(x='Producción Ton.', y='E+(x*Sy,x)', data=dfind, ax=ax, color='r',label = \"LIMITE SUPERIOR\")\n",
    "sb.regplot(x='Producción Ton.', y='E-(x*Sy,x)', data=dfind, ax=ax, color='g',label = \"LIMITE INFERIOR\")\n",
    "sb.regplot(x='Producción Ton.', y='Consumo en Kpc',ci=None, data=dfind, ax=ax,label = \"LINEA BASE\")\n",
    "ax.grid(axis = 'both', color = 'gray', linestyle = 'dashed')\n",
    "ax.set_title( \"Produccion vs Consumo\" , size = 24 )\n",
    "plt.legend()\n",
    "plt.show()"
   ]
  },
  {
   "cell_type": "code",
   "execution_count": 22,
   "id": "e41a88cc-a2ca-4c58-85ea-d5aba5d1e39e",
   "metadata": {},
   "outputs": [],
   "source": [
    "#creamos el dataframe con los datos que se eliminaron y borramos las columnas que ya no se utilizaran."
   ]
  },
  {
   "cell_type": "code",
   "execution_count": 23,
   "id": "a2c87fff-68bc-46c7-bc48-75a403fa987d",
   "metadata": {},
   "outputs": [
    {
     "name": "stdout",
     "output_type": "stream",
     "text": [
      "     Año         Mes  Consumo en Kpc  Producción Ton.\n",
      "0   1998       Enero          134880          2385730\n",
      "1   1998     Febrero          138240          2040070\n",
      "2   1998       Marzo          138480          2161680\n",
      "3   1998       Abril          122880          2103370\n",
      "4   1998        Mayo          155280          2401320\n",
      "5   1998       Junio          157920          2537565\n",
      "6   1998       Julio          159600          2303359\n",
      "7   1998      Agosto          177600          2811775\n",
      "8   1998  Septiembre          158880          2337090\n",
      "9   1998     Octubre          131040          2157733\n",
      "10  1998   Noviembre          143760          2300890\n",
      "11  1998   Diciembre          153840          2282175\n",
      "12  1999       Enero          150480          2595580\n",
      "13  1999       Marzo          153120          2420295\n",
      "14  1999       Abril          159720          2509785\n",
      "15  1999        Mayo          165817          2656455\n",
      "16  1999       Julio          176880          2804464\n",
      "17  1999      Agosto          171600          2635296\n",
      "18  1999     Octubre          210560          3505180\n",
      "19  1999   Noviembre          246570          3967284\n"
     ]
    }
   ],
   "source": [
    "df_lin_met= dffiltro.drop(['Ecalculado', 'E^2', 'Ei*Pi','E+(x*Sy,x)','E-(x*Sy,x)','(E+Sy,x)-Ei','Ei-(E-Sy,x)'], axis=1)\n",
    "print(df_lin_met)"
   ]
  },
  {
   "cell_type": "code",
   "execution_count": 24,
   "id": "0f2c93f6-65c9-4f86-818a-315e3556430a",
   "metadata": {},
   "outputs": [],
   "source": [
    "#sacaremos las ecuaciones de la linea de regresion, como el intercepto con eje, pendiente, y valor de R cuadrado"
   ]
  },
  {
   "cell_type": "code",
   "execution_count": 25,
   "id": "af426664-bfed-44d4-915a-4eff670ec3f1",
   "metadata": {},
   "outputs": [
    {
     "name": "stdout",
     "output_type": "stream",
     "text": [
      "pendiente: 0.0579470939089483\n",
      "interseccion eje: 12832.462825853232\n",
      "R2: 0.9243316228473009\n"
     ]
    }
   ],
   "source": [
    "x = df_lin_met['Producción Ton.']\n",
    "y = df_lin_met['Consumo en Kpc']\n",
    "slope2, intercept2, r_value2, p_value2, std_err2 = linregress(x, y)\n",
    "r22 = r_value2**2\n",
    "print(\"pendiente:\",slope2) \n",
    "print(\"interseccion eje:\", intercept2)\n",
    "print(\"R2:\", r22)"
   ]
  },
  {
   "cell_type": "code",
   "execution_count": 26,
   "id": "e9930689-970f-47c6-99dd-54266244bd40",
   "metadata": {},
   "outputs": [],
   "source": [
    "#se agregan las siguientes columnas con sus valores calculados"
   ]
  },
  {
   "cell_type": "code",
   "execution_count": 27,
   "id": "2722dea9-c07f-42b3-a962-d0603bb914c4",
   "metadata": {},
   "outputs": [],
   "source": [
    "df_lin_met['Consumo teorico']=(slope2*df_lin_met['Producción Ton.']+intercept2)\n"
   ]
  },
  {
   "cell_type": "code",
   "execution_count": 28,
   "id": "df8ffc63-708d-4ca6-adcc-7aa663a5ce3c",
   "metadata": {},
   "outputs": [],
   "source": [
    "df_lin_met['Real-Teorico']=df_lin_met['Consumo en Kpc']-df_lin_met['Consumo teorico']"
   ]
  },
  {
   "cell_type": "code",
   "execution_count": 29,
   "id": "24a226c1-0cb4-472e-a99f-0bd9dff8f54a",
   "metadata": {},
   "outputs": [],
   "source": [
    "#se seleccionan los valores superiores a cero y se eliminan"
   ]
  },
  {
   "cell_type": "code",
   "execution_count": 30,
   "id": "ed34df6a-567a-42f8-8bb3-65d25274b03b",
   "metadata": {},
   "outputs": [],
   "source": [
    "df_lin_met['Diferencia al cuadrado']=df_lin_met['Real-Teorico'].clip(upper=0)\n"
   ]
  },
  {
   "cell_type": "code",
   "execution_count": 31,
   "id": "faa4ea49-4fd3-419c-9734-f5c2623df477",
   "metadata": {},
   "outputs": [],
   "source": [
    "#Se guardan los datos negativos en un dataframe auxiliar y se elevan al cuarado"
   ]
  },
  {
   "cell_type": "code",
   "execution_count": 32,
   "id": "1ceee987-6431-4cef-9971-56b12022a4e5",
   "metadata": {},
   "outputs": [],
   "source": [
    "dfaux=df_lin_met['Diferencia al cuadrado']**2\n"
   ]
  },
  {
   "cell_type": "code",
   "execution_count": 33,
   "id": "76ad7457-a80c-4206-ba0f-d864bc181f80",
   "metadata": {},
   "outputs": [],
   "source": [
    "#se reinicia el index para que comience de 0 y se saca la cantidad de datos que tenemos"
   ]
  },
  {
   "cell_type": "code",
   "execution_count": 34,
   "id": "2e2c1509-b0bf-4e19-a8ce-e084ef6252d9",
   "metadata": {},
   "outputs": [],
   "source": [
    "dfaux = dfaux.drop(dfaux[dfaux==0].index)\n",
    "dfaux.reset_index(drop=True, inplace=True)\n",
    "val_neg=dfaux.shape[0]\n"
   ]
  },
  {
   "cell_type": "code",
   "execution_count": 35,
   "id": "225e66e0-da80-4301-812a-95aed83596d4",
   "metadata": {},
   "outputs": [],
   "source": [
    "#se saca la varianza y la desviacion estandar"
   ]
  },
  {
   "cell_type": "code",
   "execution_count": 36,
   "id": "94b70741-9189-4e4e-9271-9cf404307cd5",
   "metadata": {},
   "outputs": [],
   "source": [
    "varianza=(dfaux.sum())/val_neg"
   ]
  },
  {
   "cell_type": "code",
   "execution_count": 37,
   "id": "6cc665ef-8060-4033-97e0-9062a5cfa1ab",
   "metadata": {},
   "outputs": [
    {
     "name": "stdout",
     "output_type": "stream",
     "text": [
      "varianza=  81427386.48336557\n",
      "Des. Estandar=  9023.71245571165\n"
     ]
    }
   ],
   "source": [
    "D_estandar=varianza**0.5\n",
    "print(\"varianza= \",varianza)\n",
    "print(\"Des. Estandar= \",D_estandar)"
   ]
  },
  {
   "cell_type": "code",
   "execution_count": 38,
   "id": "96c9d6e8-44f7-44c0-bbe4-72b76d6862e3",
   "metadata": {},
   "outputs": [],
   "source": [
    "df_lin_met['Linea meta'] = ((slope2*df_lin_met['Producción Ton.'])+D_estandar) \n"
   ]
  },
  {
   "cell_type": "code",
   "execution_count": 39,
   "id": "1026bcc0-c1ba-4d0b-be92-9cff5c126082",
   "metadata": {},
   "outputs": [],
   "source": [
    "# se graafica la linea base y la linea meta"
   ]
  },
  {
   "cell_type": "code",
   "execution_count": 40,
   "id": "7173ec0b-6d6c-4507-ac49-80bd3b523380",
   "metadata": {},
   "outputs": [
    {
     "data": {
      "image/png": "[encoded data removed]",
      "text/plain": [
       "<Figure size 432x288 with 1 Axes>"
      ]
     },
     "metadata": {
      "needs_background": "light"
     },
     "output_type": "display_data"
    }
   ],
   "source": [
    "fig, ax = plt.subplots()\n",
    "sb.regplot(x='Producción Ton.', y='Linea meta', data=df_lin_met, ax=ax, color='g',label = \"LINEA META\")\n",
    "sb.regplot(x='Producción Ton.', y='Consumo en Kpc',ci=None, data=df_lin_met, ax=ax,label = \"LINEA BASE\")\n",
    "ax.grid(axis = 'both', color = 'gray', linestyle = 'dashed')\n",
    "ax.set_title( \"Produccion vs Consumo\" , size = 24 )\n",
    "plt.legend()\n",
    "plt.show()"
   ]
  },
  {
   "cell_type": "code",
   "execution_count": 41,
   "id": "e317f809-92cb-4586-9f98-8eb213dfbba8",
   "metadata": {},
   "outputs": [],
   "source": [
    "# se calcula el ahrro por año y por mes"
   ]
  },
  {
   "cell_type": "code",
   "execution_count": 42,
   "id": "24059abd-4e7a-4328-937d-ffea3e5f653f",
   "metadata": {},
   "outputs": [],
   "source": [
    "dlt_E0=intercept2-D_estandar\n",
    "prc_enrg=1000\n",
    "Ahrr_mes=dlt_E0*prc_enrg\n",
    "Ahrr_año=Ahrr_mes*12\n"
   ]
  },
  {
   "cell_type": "code",
   "execution_count": 43,
   "id": "e0a2cbce-564d-415d-9bb2-8f8084e12705",
   "metadata": {},
   "outputs": [],
   "source": [
    "# se crea un nuevo data frame correspondiente al indice de consumo, se eliminan las columnas que no se utilizaran y se agregan las nuevas calculadas"
   ]
  },
  {
   "cell_type": "code",
   "execution_count": 44,
   "id": "8888b75d-2016-4fa0-b2a8-ba69138f09b2",
   "metadata": {},
   "outputs": [],
   "source": [
    "df_IC= dffiltro.drop(['Ecalculado', 'E^2', 'Ei*Pi','E+(x*Sy,x)','E-(x*Sy,x)','(E+Sy,x)-Ei','Ei-(E-Sy,x)'], axis=1)"
   ]
  },
  {
   "cell_type": "code",
   "execution_count": 45,
   "id": "b56f0070-19ad-413b-88c4-66307f2f6514",
   "metadata": {},
   "outputs": [],
   "source": [
    "df_IC['IC Real']=df_IC['Consumo en Kpc']/df_IC['Producción Ton.']\n"
   ]
  },
  {
   "cell_type": "code",
   "execution_count": 46,
   "id": "48dee16c-a804-404c-aac4-74bf915905b3",
   "metadata": {},
   "outputs": [],
   "source": [
    "df_IC['IC Teorico']=slope2+(intercept2/df_IC['Producción Ton.'])\n"
   ]
  },
  {
   "cell_type": "code",
   "execution_count": 47,
   "id": "106ead9f-2798-4d82-9a4c-01a32f123dcb",
   "metadata": {},
   "outputs": [],
   "source": [
    "df_IC['2*E0/P^3']= (2*intercept2)/(df_IC['Producción Ton.'])**3\n"
   ]
  },
  {
   "cell_type": "code",
   "execution_count": 48,
   "id": "b18a9234-b1ef-4b6c-adde-5f966742badd",
   "metadata": {},
   "outputs": [],
   "source": [
    "# se grafica la prodccion vs la segunda derivada"
   ]
  },
  {
   "cell_type": "code",
   "execution_count": 49,
   "id": "38377919-a009-4cba-9bbc-deb7fae7e35c",
   "metadata": {},
   "outputs": [
    {
     "data": {
      "image/png": "[encoded data removed]",
      "text/plain": [
       "<Figure size 432x288 with 1 Axes>"
      ]
     },
     "metadata": {
      "needs_background": "light"
     },
     "output_type": "display_data"
    }
   ],
   "source": [
    "fig, ax = plt.subplots()\n",
    "x=df_IC['Producción Ton.']\n",
    "y=df_IC['2*E0/P^3']\n",
    "plt.plot(x, y,'o' ,color='g',label = \"SEGUNDA DERIVADA\")\n",
    "ax.grid(axis = 'both', color = 'gray', linestyle = 'dashed')\n",
    "ax.set_title( \"Produccion vs Segunda derivada\" , size = 24 )\n",
    "plt.legend()\n",
    "plt.show()"
   ]
  },
  {
   "cell_type": "code",
   "execution_count": 50,
   "id": "dab3b3d4-6232-4dae-8e82-26053cbba2f3",
   "metadata": {},
   "outputs": [],
   "source": [
    "#se sacan los valore maximo de X y de Y, tambien el minimo de X"
   ]
  },
  {
   "cell_type": "code",
   "execution_count": 51,
   "id": "36bd88c5-69ff-4a64-9ea5-b3089d9ad713",
   "metadata": {},
   "outputs": [
    {
     "data": {
      "text/plain": [
       "0"
      ]
     },
     "execution_count": 51,
     "metadata": {},
     "output_type": "execute_result"
    }
   ],
   "source": [
    "maxx=round(df_IC['Producción Ton.'].max())\n",
    "minx=round(df_IC['Producción Ton.'].min())\n",
    "maxy=round(df_IC['IC Real'].max())\n",
    "maxx\n",
    "minx\n",
    "maxy"
   ]
  },
  {
   "cell_type": "code",
   "execution_count": 52,
   "id": "87780260-a727-4428-814e-b3ad99763867",
   "metadata": {},
   "outputs": [],
   "source": [
    "#se grafica la segunda derivada con una linea de tendencia polinomica"
   ]
  },
  {
   "cell_type": "code",
   "execution_count": 53,
   "id": "554c025a-f44f-4331-a1d3-b50d4dedf7bd",
   "metadata": {},
   "outputs": [
    {
     "data": {
      "image/png": "[encoded data removed]",
      "text/plain": [
       "<Figure size 432x288 with 1 Axes>"
      ]
     },
     "metadata": {
      "needs_background": "light"
     },
     "output_type": "display_data"
    }
   ],
   "source": [
    "fig, ax = plt.subplots()\n",
    "x=df_IC['Producción Ton.']\n",
    "y=df_IC['IC Real']\n",
    "y1=df_IC['IC Teorico']\n",
    "modelo = np.poly1d (np.polyfit (x, y, 2))\n",
    "plt.plot(x, y,'o' ,color='b',label = \"IC Real\")\n",
    "plt.plot(x, y1,'o' ,color='g',label = \"IC Teorico\")\n",
    "polilinea=np.linspace(minx,maxx,maxy)\n",
    "ax.grid(axis = 'both', color = 'gray', linestyle = 'dashed')\n",
    "ax.set_title( \"Produccion vs Indice de consumo\" , size = 24 )\n",
    "plt.plot(polilinea,modelo(polilinea))\n",
    "plt.legend()\n",
    "plt.show()"
   ]
  },
  {
   "cell_type": "code",
   "execution_count": 54,
   "id": "44507a45-c070-4d90-b722-3e8fbaf886d1",
   "metadata": {},
   "outputs": [
    {
     "name": "stdout",
     "output_type": "stream",
     "text": [
      "promedio de consumo: 160357.35\n",
      "promedio de produccion: 2545854.8\n",
      "valor minimo de IC Real: 0.062150831652082385\n",
      "valor minimo de IC Teorico: 0.06118166517378672\n",
      "potencial de ahorro: 2467.3571307681204\n",
      "porcentaje de ahorro: 1.5386617019850481\n",
      "ahorro economico: 2467357.1307681203\n",
      "TPH: 720\n",
      "valor de produccion segun IC minimo: 3967284\n",
      "rata critica: 5510.116666666667\n",
      "rata de produccion: 3535.909444444444\n"
     ]
    }
   ],
   "source": [
    "mean_consumo= df_IC['Consumo en Kpc'].mean()\n",
    "mean_produccion=df_IC['Producción Ton.'].mean()\n",
    "\n",
    "min_IC_Teorico=df_IC['IC Teorico'].min()\n",
    "df_val_min=df_IC[df_IC['IC Teorico']==min_IC_Teorico]\n",
    "\n",
    "min_IC_Real=df_val_min['IC Real'].values[0]\n",
    "val_prod_segun_IC_min=df_val_min['Producción Ton.'].values[0]\n",
    "pot_ahorro=abs(mean_produccion*(min_IC_Real-min_IC_Teorico))\n",
    "porcen_ahorr=(pot_ahorro/mean_consumo)*100\n",
    "Ah_econo=pot_ahorro*1000\n",
    "TPH=30*24\n",
    "\n",
    "\n",
    "rata_critica=val_prod_segun_IC_min/TPH\n",
    "rata_produccion=mean_produccion/TPH\n",
    "print('promedio de consumo:',mean_consumo)\n",
    "print('promedio de produccion:',mean_produccion)\n",
    "print('valor minimo de IC Real:',min_IC_Real)\n",
    "print('valor minimo de IC Teorico:',min_IC_Teorico)\n",
    "print('potencial de ahorro:',pot_ahorro)\n",
    "print('porcentaje de ahorro:',porcen_ahorr)\n",
    "print('ahorro economico:',Ah_econo)\n",
    "print('TPH:',TPH)\n",
    "print('valor de produccion segun IC minimo:',val_prod_segun_IC_min)\n",
    "print('rata critica:',rata_critica)\n",
    "print('rata de produccion:',rata_produccion)"
   ]
  },
  {
   "cell_type": "code",
   "execution_count": 55,
   "id": "fe5479e0-4fa9-46f0-a14c-8c705232621c",
   "metadata": {},
   "outputs": [],
   "source": [
    "# se crea un dataframe que contine los datos originales y se crea un dataframe para el presupuesto con los datos originales"
   ]
  },
  {
   "cell_type": "code",
   "execution_count": 56,
   "id": "d4f1bf84-1d43-4d60-bcd6-1b4ebb6e73f0",
   "metadata": {},
   "outputs": [],
   "source": [
    "dforg= dfind.drop(['Ecalculado', 'E^2', 'Ei*Pi','E+(x*Sy,x)','E-(x*Sy,x)','(E+Sy,x)-Ei','Ei-(E-Sy,x)'], axis=1)\n",
    "dfpresupuesto=dforg\n",
    "n=len(dfpresupuesto['Producción Ton.'])\n",
    "a = 0\n",
    "b = 1"
   ]
  },
  {
   "cell_type": "code",
   "execution_count": 57,
   "id": "32822944-e267-4cbb-8383-60ec524c3945",
   "metadata": {},
   "outputs": [],
   "source": [
    "#sacaremos las ecuaciones de la linea de regresion, como el intercepto con eje, pendiente, y valor de R cuadrado"
   ]
  },
  {
   "cell_type": "code",
   "execution_count": 58,
   "id": "da943ac6-b4a0-4f1c-9031-219b46bbef95",
   "metadata": {},
   "outputs": [
    {
     "name": "stdout",
     "output_type": "stream",
     "text": [
      "pendiente: 0.049304017512758605\n",
      "interseccion eje: 34995.01718898106\n",
      "R2: 0.7753139270861864\n"
     ]
    }
   ],
   "source": [
    "x3 = dforg['Producción Ton.']\n",
    "y3= dforg['Consumo en Kpc']\n",
    "slope3, intercept3, r_value3, p_value3, std_err3 = linregress(x3, y3)\n",
    "r23 = r_value3**2\n",
    "print(\"pendiente:\",slope3) \n",
    "print(\"interseccion eje:\", intercept3)\n",
    "print(\"R2:\", r23)"
   ]
  },
  {
   "cell_type": "code",
   "execution_count": 59,
   "id": "775b1664-a97f-49d3-a92a-9860842d8af5",
   "metadata": {},
   "outputs": [],
   "source": [
    "#se introducen la produccion que se planea para los siguientes meses"
   ]
  },
  {
   "cell_type": "code",
   "execution_count": 60,
   "id": "3c1cd1aa-3dd1-4dd2-911b-77079eec9898",
   "metadata": {},
   "outputs": [
    {
     "name": "stdout",
     "output_type": "stream",
     "text": [
      "Introduzca la poduccion planeada del siguiente mes "
     ]
    },
    {
     "name": "stdin",
     "output_type": "stream",
     "text": [
      " 1\n"
     ]
    },
    {
     "name": "stdout",
     "output_type": "stream",
     "text": [
      "presione 0 para agregar otro mes y 1 para finalizar"
     ]
    },
    {
     "name": "stdin",
     "output_type": "stream",
     "text": [
      " 0\n"
     ]
    },
    {
     "name": "stdout",
     "output_type": "stream",
     "text": [
      "Introduzca la poduccion planeada del siguiente mes "
     ]
    },
    {
     "name": "stdin",
     "output_type": "stream",
     "text": [
      " 1\n"
     ]
    },
    {
     "name": "stdout",
     "output_type": "stream",
     "text": [
      "presione 0 para agregar otro mes y 1 para finalizar"
     ]
    },
    {
     "name": "stdin",
     "output_type": "stream",
     "text": [
      " 0\n"
     ]
    },
    {
     "name": "stdout",
     "output_type": "stream",
     "text": [
      "Introduzca la poduccion planeada del siguiente mes "
     ]
    },
    {
     "name": "stdin",
     "output_type": "stream",
     "text": [
      " 1\n"
     ]
    },
    {
     "name": "stdout",
     "output_type": "stream",
     "text": [
      "presione 0 para agregar otro mes y 1 para finalizar"
     ]
    },
    {
     "name": "stdin",
     "output_type": "stream",
     "text": [
      " 0\n"
     ]
    },
    {
     "name": "stdout",
     "output_type": "stream",
     "text": [
      "Introduzca la poduccion planeada del siguiente mes "
     ]
    },
    {
     "name": "stdin",
     "output_type": "stream",
     "text": [
      " 1\n"
     ]
    },
    {
     "name": "stdout",
     "output_type": "stream",
     "text": [
      "presione 0 para agregar otro mes y 1 para finalizar"
     ]
    },
    {
     "name": "stdin",
     "output_type": "stream",
     "text": [
      " 1\n"
     ]
    },
    {
     "name": "stdout",
     "output_type": "stream",
     "text": [
      "xxx\n"
     ]
    }
   ],
   "source": [
    "\n",
    "while a == 0:\n",
    "    print('Introduzca la poduccion planeada del siguiente mes ', end='')\n",
    "    p=input()\n",
    "    p=int(p)\n",
    "    dfpresupuesto.at[n,'produccion planeada']=p\n",
    "    print('presione 0 para agregar otro mes y 1 para finalizar', end='')\n",
    "    a = input() \n",
    "    a = int (a)\n",
    "    n = n+1\n",
    "    b = b+1\n",
    "print ('xxx')"
   ]
  },
  {
   "cell_type": "code",
   "execution_count": 61,
   "id": "06e13983-a7ba-47f6-9917-d9b3ea58f9dd",
   "metadata": {},
   "outputs": [
    {
     "name": "stdout",
     "output_type": "stream",
     "text": [
      "xxx\n"
     ]
    }
   ],
   "source": [
    "n1 = (n-b) + 1\n",
    "while n1 != n:\n",
    "    dfpresupuesto.at[n1,'consumo teorico']=(slope3*dfpresupuesto.at[n1,'produccion planeada'])+intercept3\n",
    "    n1 = n1+1\n",
    "    n1 = int(n1)\n",
    "print ('xxx')"
   ]
  },
  {
   "cell_type": "code",
   "execution_count": 62,
   "id": "01f15854-0932-4502-9242-c502e9c6fe78",
   "metadata": {},
   "outputs": [],
   "source": [
    "#se introduce el consumu real que tubo la empresa"
   ]
  },
  {
   "cell_type": "code",
   "execution_count": 63,
   "id": "439a1f0a-399d-46e5-88c3-33408bf5c92e",
   "metadata": {},
   "outputs": [
    {
     "name": "stdout",
     "output_type": "stream",
     "text": [
      "Introduzca consumo real del mes "
     ]
    },
    {
     "name": "stdin",
     "output_type": "stream",
     "text": [
      " 1\n"
     ]
    },
    {
     "name": "stdout",
     "output_type": "stream",
     "text": [
      "Introduzca consumo real del mes "
     ]
    },
    {
     "name": "stdin",
     "output_type": "stream",
     "text": [
      " 1\n"
     ]
    },
    {
     "name": "stdout",
     "output_type": "stream",
     "text": [
      "Introduzca consumo real del mes "
     ]
    },
    {
     "name": "stdin",
     "output_type": "stream",
     "text": [
      " 1\n"
     ]
    },
    {
     "name": "stdout",
     "output_type": "stream",
     "text": [
      "Introduzca consumo real del mes "
     ]
    },
    {
     "name": "stdin",
     "output_type": "stream",
     "text": [
      " 1\n"
     ]
    },
    {
     "name": "stdout",
     "output_type": "stream",
     "text": [
      "xxx\n"
     ]
    }
   ],
   "source": [
    "n1 = (n-b) + 1\n",
    "\n",
    "while n1 != n:\n",
    "    print('Introduzca consumo real del mes ', end='')\n",
    "    c=input()\n",
    "    c=int(c)\n",
    "    dfpresupuesto.at[n1,'consumo real']=c\n",
    "    n1 = n1+1\n",
    "    n1 = int(n1)\n",
    "print ('xxx')"
   ]
  },
  {
   "cell_type": "code",
   "execution_count": 64,
   "id": "1c3b8306-0165-43e2-bd43-74b083fe1cd6",
   "metadata": {},
   "outputs": [],
   "source": [
    "#se introduce la produccion real del mes"
   ]
  },
  {
   "cell_type": "code",
   "execution_count": null,
   "id": "2afa8762-2d94-4f08-abf7-bfa7e09e3ae2",
   "metadata": {},
   "outputs": [
    {
     "name": "stdout",
     "output_type": "stream",
     "text": [
      "Introduzca produccion real del mes "
     ]
    },
    {
     "name": "stdin",
     "output_type": "stream",
     "text": [
      " 1\n"
     ]
    },
    {
     "name": "stdout",
     "output_type": "stream",
     "text": [
      "Introduzca produccion real del mes "
     ]
    },
    {
     "name": "stdin",
     "output_type": "stream",
     "text": [
      " 1\n"
     ]
    },
    {
     "name": "stdout",
     "output_type": "stream",
     "text": [
      "Introduzca produccion real del mes "
     ]
    },
    {
     "name": "stdin",
     "output_type": "stream",
     "text": [
      " 1\n"
     ]
    },
    {
     "name": "stdout",
     "output_type": "stream",
     "text": [
      "Introduzca produccion real del mes "
     ]
    },
    {
     "name": "stdin",
     "output_type": "stream",
     "text": [
      " 1\n"
     ]
    },
    {
     "name": "stdout",
     "output_type": "stream",
     "text": [
      "xxx\n"
     ]
    }
   ],
   "source": [
    "n1 = (n-b) + 1\n",
    "while n1 != n:\n",
    "    print('Introduzca produccion real del mes ', end='')\n",
    "    p=input()\n",
    "    p = int(p)\n",
    "    dfpresupuesto.at[n1,'produccion real']=p\n",
    "    n1 = n1+1\n",
    "    n1 = int(n1)\n",
    "print ('xxx')"
   ]
  },
  {
   "cell_type": "code",
   "execution_count": null,
   "id": "236f03f9-55e6-4f22-887a-ace5a8ec0b1a",
   "metadata": {},
   "outputs": [],
   "source": [
    "#se añaden las siguientes columnas y se calculan los datos"
   ]
  },
  {
   "cell_type": "code",
   "execution_count": null,
   "id": "8c70d482-7c37-49e6-9a49-15fc5671b929",
   "metadata": {},
   "outputs": [],
   "source": [
    "dfpresupuesto['Var_pres_pro']=slope3*(dfpresupuesto['produccion real']-dfpresupuesto['produccion planeada'])"
   ]
  },
  {
   "cell_type": "code",
   "execution_count": null,
   "id": "d6cdaec2-ae46-458c-a87d-9bd789922544",
   "metadata": {},
   "outputs": [],
   "source": [
    "dfpresupuesto['E linea base']=(slope3*dfpresupuesto['produccion real'])+intercept3"
   ]
  },
  {
   "cell_type": "code",
   "execution_count": null,
   "id": "9fde8d3a-15ae-4d0e-b07c-449ca5b4aac3",
   "metadata": {},
   "outputs": [],
   "source": [
    "dfpresupuesto['Var_pres_efi']=dfpresupuesto['consumo real']-dfpresupuesto['E linea base']"
   ]
  },
  {
   "cell_type": "code",
   "execution_count": null,
   "id": "728841c2-adbf-4436-8333-ffce0da97997",
   "metadata": {},
   "outputs": [],
   "source": [
    "dfpresupuesto['Var_total']=dfpresupuesto['Var_pres_efi']+dfpresupuesto['Var_pres_pro']"
   ]
  },
  {
   "cell_type": "code",
   "execution_count": null,
   "id": "a7bf2a16-a97c-4edb-9bc1-5f5c8774f94a",
   "metadata": {},
   "outputs": [
    {
     "name": "stdout",
     "output_type": "stream",
     "text": [
      "       Año         Mes  Consumo en Kpc  Producción Ton.  produccion planeada  \\\n",
      "0   1998.0       Enero        134880.0        2385730.0                  NaN   \n",
      "1   1998.0     Febrero        138240.0        2040070.0                  NaN   \n",
      "2   1998.0       Marzo        138480.0        2161680.0                  NaN   \n",
      "3   1998.0       Abril        122880.0        2103370.0                  NaN   \n",
      "4   1998.0        Mayo        155280.0        2401320.0                  NaN   \n",
      "5   1998.0       Junio        157920.0        2537565.0                  NaN   \n",
      "6   1998.0       Julio        159600.0        2303359.0                  NaN   \n",
      "7   1998.0      Agosto        177600.0        2811775.0                  NaN   \n",
      "8   1998.0  Septiembre        158880.0        2337090.0                  NaN   \n",
      "9   1998.0     Octubre        131040.0        2157733.0                  NaN   \n",
      "10  1998.0   Noviembre        143760.0        2300890.0                  NaN   \n",
      "11  1998.0   Diciembre        153840.0        2282175.0                  NaN   \n",
      "12  1999.0       Enero        150480.0        2595580.0                  NaN   \n",
      "13  1999.0     Febrero        108240.0        1929556.0                  NaN   \n",
      "14  1999.0       Marzo        153120.0        2420295.0                  NaN   \n",
      "15  1999.0       Abril        159720.0        2509785.0                  NaN   \n",
      "16  1999.0        Mayo        165817.0        2656455.0                  NaN   \n",
      "17  1999.0       Junio        198000.0        2875225.0                  NaN   \n",
      "18  1999.0       Julio        176880.0        2804464.0                  NaN   \n",
      "19  1999.0      Agosto        171600.0        2635296.0                  NaN   \n",
      "20  1999.0  Septiembre        235580.0        3145100.0                  NaN   \n",
      "21  1999.0     Octubre        210560.0        3505180.0                  NaN   \n",
      "22  1999.0   Noviembre        246570.0        3967284.0                  NaN   \n",
      "23  1999.0   Diciembre        217654.0        4550585.0                  NaN   \n",
      "24     NaN         NaN             NaN              NaN                  1.0   \n",
      "25     NaN         NaN             NaN              NaN                  1.0   \n",
      "26     NaN         NaN             NaN              NaN                  1.0   \n",
      "27     NaN         NaN             NaN              NaN                  1.0   \n",
      "\n",
      "    consumo teorico  consumo real  produccion real  Var_pres_pro  \\\n",
      "0               NaN           NaN              NaN           NaN   \n",
      "1               NaN           NaN              NaN           NaN   \n",
      "2               NaN           NaN              NaN           NaN   \n",
      "3               NaN           NaN              NaN           NaN   \n",
      "4               NaN           NaN              NaN           NaN   \n",
      "5               NaN           NaN              NaN           NaN   \n",
      "6               NaN           NaN              NaN           NaN   \n",
      "7               NaN           NaN              NaN           NaN   \n",
      "8               NaN           NaN              NaN           NaN   \n",
      "9               NaN           NaN              NaN           NaN   \n",
      "10              NaN           NaN              NaN           NaN   \n",
      "11              NaN           NaN              NaN           NaN   \n",
      "12              NaN           NaN              NaN           NaN   \n",
      "13              NaN           NaN              NaN           NaN   \n",
      "14              NaN           NaN              NaN           NaN   \n",
      "15              NaN           NaN              NaN           NaN   \n",
      "16              NaN           NaN              NaN           NaN   \n",
      "17              NaN           NaN              NaN           NaN   \n",
      "18              NaN           NaN              NaN           NaN   \n",
      "19              NaN           NaN              NaN           NaN   \n",
      "20              NaN           NaN              NaN           NaN   \n",
      "21              NaN           NaN              NaN           NaN   \n",
      "22              NaN           NaN              NaN           NaN   \n",
      "23              NaN           NaN              NaN           NaN   \n",
      "24     34995.066493           1.0              1.0           0.0   \n",
      "25     34995.066493           1.0              1.0           0.0   \n",
      "26     34995.066493           1.0              1.0           0.0   \n",
      "27     34995.066493           1.0              1.0           0.0   \n",
      "\n",
      "    E linea base  Var_pres_efi     Var_total  \n",
      "0            NaN           NaN           NaN  \n",
      "1            NaN           NaN           NaN  \n",
      "2            NaN           NaN           NaN  \n",
      "3            NaN           NaN           NaN  \n",
      "4            NaN           NaN           NaN  \n",
      "5            NaN           NaN           NaN  \n",
      "6            NaN           NaN           NaN  \n",
      "7            NaN           NaN           NaN  \n",
      "8            NaN           NaN           NaN  \n",
      "9            NaN           NaN           NaN  \n",
      "10           NaN           NaN           NaN  \n",
      "11           NaN           NaN           NaN  \n",
      "12           NaN           NaN           NaN  \n",
      "13           NaN           NaN           NaN  \n",
      "14           NaN           NaN           NaN  \n",
      "15           NaN           NaN           NaN  \n",
      "16           NaN           NaN           NaN  \n",
      "17           NaN           NaN           NaN  \n",
      "18           NaN           NaN           NaN  \n",
      "19           NaN           NaN           NaN  \n",
      "20           NaN           NaN           NaN  \n",
      "21           NaN           NaN           NaN  \n",
      "22           NaN           NaN           NaN  \n",
      "23           NaN           NaN           NaN  \n",
      "24  34995.066493 -34994.066493 -34994.066493  \n",
      "25  34995.066493 -34994.066493 -34994.066493  \n",
      "26  34995.066493 -34994.066493 -34994.066493  \n",
      "27  34995.066493 -34994.066493 -34994.066493  \n"
     ]
    }
   ],
   "source": [
    "print(dfpresupuesto)"
   ]
  },
  {
   "cell_type": "code",
   "execution_count": null,
   "id": "71059ec8-dfd4-40d2-a8b4-c9f063e3d812",
   "metadata": {},
   "outputs": [],
   "source": [
    "# se concluye si se fue eficiente en produccion o en consumo"
   ]
  },
  {
   "cell_type": "code",
   "execution_count": null,
   "id": "367875bf-aa26-4b0e-a071-a1f4acf7a380",
   "metadata": {},
   "outputs": [
    {
     "name": "stdout",
     "output_type": "stream",
     "text": [
      "xxx\n"
     ]
    }
   ],
   "source": [
    "n1 = (n-b) + 1\n",
    "\n",
    "while n1 != n:\n",
    "    if dfpresupuesto.at[n1,'Var_pres_pro']>0 and dfpresupuesto.at[n1,'Var_pres_efi']<0:\n",
    "        dfpresupuesto.at[n1,'Observacion']='Fui eficiente en produccion y eficiente en consumo'\n",
    "    if dfpresupuesto.at[n1,'Var_pres_pro']<0 and dfpresupuesto.at[n1,'Var_pres_efi']<0:   \n",
    "        dfpresupuesto.at[n1,'Observacion']='Fui ineficiente en produccion y eficiente en consumo'\n",
    "    if dfpresupuesto.at[n1,'Var_pres_pro']>0 and dfpresupuesto.at[n1,'Var_pres_efi']>0:   \n",
    "        dfpresupuesto.at[n1,'Observacion']='Fui eficiente en produccion e ineficiente en consumo'\n",
    "    if dfpresupuesto.at[n1,'Var_pres_pro']<0 and dfpresupuesto.at[n1,'Var_pres_efi']>0:   \n",
    "        dfpresupuesto.at[n1,'Observacion']='Fui ineficiente en produccion e ineficiente en consumo'\n",
    "    if dfpresupuesto.at[n1,'Var_pres_pro']==0 and dfpresupuesto.at[n1,'Var_pres_efi']>0:   \n",
    "        dfpresupuesto.at[n1,'Observacion']='produccion solicitada e ineficiente en consumo'\n",
    "    if dfpresupuesto.at[n1,'Var_pres_pro']==0 and dfpresupuesto.at[n1,'Var_pres_efi']<0:   \n",
    "        dfpresupuesto.at[n1,'Observacion']='produccion solicitada y eficiente en consumo'\n",
    "    if dfpresupuesto.at[n1,'Var_pres_pro']>0 and dfpresupuesto.at[n1,'Var_pres_efi']==0:   \n",
    "        dfpresupuesto.at[n1,'Observacion']='eficiente en produccion y eficiente en consumo'\n",
    "    if dfpresupuesto.at[n1,'Var_pres_pro']<0 and dfpresupuesto.at[n1,'Var_pres_efi']==0:   \n",
    "        dfpresupuesto.at[n1,'Observacion']='ineficiente en produccion y eficiente en consumo'\n",
    "    if dfpresupuesto.at[n1,'Var_pres_pro']>0 and dfpresupuesto.at[n1,'Var_pres_efi']==0:   \n",
    "        dfpresupuesto.at[n1,'Observacion']='produccion solicitada y eficiente en consumo'\n",
    "    n1 = n1+1\n",
    "print ('xxx')"
   ]
  },
  {
   "cell_type": "code",
   "execution_count": null,
   "id": "271a99f6-db36-4710-89c8-a8c1fc003103",
   "metadata": {},
   "outputs": [
    {
     "name": "stdout",
     "output_type": "stream",
     "text": [
      "       Año         Mes  Consumo en Kpc  Producción Ton.  produccion planeada  \\\n",
      "0   1998.0       Enero        134880.0        2385730.0                  NaN   \n",
      "1   1998.0     Febrero        138240.0        2040070.0                  NaN   \n",
      "2   1998.0       Marzo        138480.0        2161680.0                  NaN   \n",
      "3   1998.0       Abril        122880.0        2103370.0                  NaN   \n",
      "4   1998.0        Mayo        155280.0        2401320.0                  NaN   \n",
      "5   1998.0       Junio        157920.0        2537565.0                  NaN   \n",
      "6   1998.0       Julio        159600.0        2303359.0                  NaN   \n",
      "7   1998.0      Agosto        177600.0        2811775.0                  NaN   \n",
      "8   1998.0  Septiembre        158880.0        2337090.0                  NaN   \n",
      "9   1998.0     Octubre        131040.0        2157733.0                  NaN   \n",
      "10  1998.0   Noviembre        143760.0        2300890.0                  NaN   \n",
      "11  1998.0   Diciembre        153840.0        2282175.0                  NaN   \n",
      "12  1999.0       Enero        150480.0        2595580.0                  NaN   \n",
      "13  1999.0     Febrero        108240.0        1929556.0                  NaN   \n",
      "14  1999.0       Marzo        153120.0        2420295.0                  NaN   \n",
      "15  1999.0       Abril        159720.0        2509785.0                  NaN   \n",
      "16  1999.0        Mayo        165817.0        2656455.0                  NaN   \n",
      "17  1999.0       Junio        198000.0        2875225.0                  NaN   \n",
      "18  1999.0       Julio        176880.0        2804464.0                  NaN   \n",
      "19  1999.0      Agosto        171600.0        2635296.0                  NaN   \n",
      "20  1999.0  Septiembre        235580.0        3145100.0                  NaN   \n",
      "21  1999.0     Octubre        210560.0        3505180.0                  NaN   \n",
      "22  1999.0   Noviembre        246570.0        3967284.0                  NaN   \n",
      "23  1999.0   Diciembre        217654.0        4550585.0                  NaN   \n",
      "24     NaN         NaN             NaN              NaN                  1.0   \n",
      "25     NaN         NaN             NaN              NaN                  1.0   \n",
      "26     NaN         NaN             NaN              NaN                  1.0   \n",
      "27     NaN         NaN             NaN              NaN                  1.0   \n",
      "\n",
      "    consumo teorico  consumo real  produccion real  Var_pres_pro  \\\n",
      "0               NaN           NaN              NaN           NaN   \n",
      "1               NaN           NaN              NaN           NaN   \n",
      "2               NaN           NaN              NaN           NaN   \n",
      "3               NaN           NaN              NaN           NaN   \n",
      "4               NaN           NaN              NaN           NaN   \n",
      "5               NaN           NaN              NaN           NaN   \n",
      "6               NaN           NaN              NaN           NaN   \n",
      "7               NaN           NaN              NaN           NaN   \n",
      "8               NaN           NaN              NaN           NaN   \n",
      "9               NaN           NaN              NaN           NaN   \n",
      "10              NaN           NaN              NaN           NaN   \n",
      "11              NaN           NaN              NaN           NaN   \n",
      "12              NaN           NaN              NaN           NaN   \n",
      "13              NaN           NaN              NaN           NaN   \n",
      "14              NaN           NaN              NaN           NaN   \n",
      "15              NaN           NaN              NaN           NaN   \n",
      "16              NaN           NaN              NaN           NaN   \n",
      "17              NaN           NaN              NaN           NaN   \n",
      "18              NaN           NaN              NaN           NaN   \n",
      "19              NaN           NaN              NaN           NaN   \n",
      "20              NaN           NaN              NaN           NaN   \n",
      "21              NaN           NaN              NaN           NaN   \n",
      "22              NaN           NaN              NaN           NaN   \n",
      "23              NaN           NaN              NaN           NaN   \n",
      "24     34995.066493           1.0              1.0           0.0   \n",
      "25     34995.066493           1.0              1.0           0.0   \n",
      "26     34995.066493           1.0              1.0           0.0   \n",
      "27     34995.066493           1.0              1.0           0.0   \n",
      "\n",
      "    E linea base  Var_pres_efi     Var_total  \\\n",
      "0            NaN           NaN           NaN   \n",
      "1            NaN           NaN           NaN   \n",
      "2            NaN           NaN           NaN   \n",
      "3            NaN           NaN           NaN   \n",
      "4            NaN           NaN           NaN   \n",
      "5            NaN           NaN           NaN   \n",
      "6            NaN           NaN           NaN   \n",
      "7            NaN           NaN           NaN   \n",
      "8            NaN           NaN           NaN   \n",
      "9            NaN           NaN           NaN   \n",
      "10           NaN           NaN           NaN   \n",
      "11           NaN           NaN           NaN   \n",
      "12           NaN           NaN           NaN   \n",
      "13           NaN           NaN           NaN   \n",
      "14           NaN           NaN           NaN   \n",
      "15           NaN           NaN           NaN   \n",
      "16           NaN           NaN           NaN   \n",
      "17           NaN           NaN           NaN   \n",
      "18           NaN           NaN           NaN   \n",
      "19           NaN           NaN           NaN   \n",
      "20           NaN           NaN           NaN   \n",
      "21           NaN           NaN           NaN   \n",
      "22           NaN           NaN           NaN   \n",
      "23           NaN           NaN           NaN   \n",
      "24  34995.066493 -34994.066493 -34994.066493   \n",
      "25  34995.066493 -34994.066493 -34994.066493   \n",
      "26  34995.066493 -34994.066493 -34994.066493   \n",
      "27  34995.066493 -34994.066493 -34994.066493   \n",
      "\n",
      "                                     Observacion  \n",
      "0                                            NaN  \n",
      "1                                            NaN  \n",
      "2                                            NaN  \n",
      "3                                            NaN  \n",
      "4                                            NaN  \n",
      "5                                            NaN  \n",
      "6                                            NaN  \n",
      "7                                            NaN  \n",
      "8                                            NaN  \n",
      "9                                            NaN  \n",
      "10                                           NaN  \n",
      "11                                           NaN  \n",
      "12                                           NaN  \n",
      "13                                           NaN  \n",
      "14                                           NaN  \n",
      "15                                           NaN  \n",
      "16                                           NaN  \n",
      "17                                           NaN  \n",
      "18                                           NaN  \n",
      "19                                           NaN  \n",
      "20                                           NaN  \n",
      "21                                           NaN  \n",
      "22                                           NaN  \n",
      "23                                           NaN  \n",
      "24  produccion solicitada y eficiente en consumo  \n",
      "25  produccion solicitada y eficiente en consumo  \n",
      "26  produccion solicitada y eficiente en consumo  \n",
      "27  produccion solicitada y eficiente en consumo  \n"
     ]
    }
   ],
   "source": [
    "print(dfpresupuesto)"
   ]
  },
  {
   "cell_type": "code",
   "execution_count": null,
   "id": "fd44042e-81d8-4748-8c43-66a7b3a81699",
   "metadata": {},
   "outputs": [],
   "source": [
    "#se guardan nuevamente los datos originales"
   ]
  },
  {
   "cell_type": "code",
   "execution_count": null,
   "id": "60c00c85-166c-45c2-924f-77775b5509e6",
   "metadata": {},
   "outputs": [],
   "source": [
    "dforg= dfind.drop(['Ecalculado', 'E^2', 'Ei*Pi','E+(x*Sy,x)','E-(x*Sy,x)','(E+Sy,x)-Ei','Ei-(E-Sy,x)'], axis=1)"
   ]
  },
  {
   "cell_type": "code",
   "execution_count": null,
   "id": "82667604-ed0a-4ff2-bb1a-b666e778837c",
   "metadata": {},
   "outputs": [],
   "source": [
    "#se crea un nuevo dataframe para el indicador de eficiencia"
   ]
  },
  {
   "cell_type": "code",
   "execution_count": null,
   "id": "8ba94fb6-c4c8-4478-9567-6e320d47a3c7",
   "metadata": {},
   "outputs": [],
   "source": [
    "df_indefic_año2=dforg\n"
   ]
  },
  {
   "cell_type": "code",
   "execution_count": null,
   "id": "9a367aed-4bf6-4c86-bff6-7941e9fa2c40",
   "metadata": {},
   "outputs": [],
   "source": [
    "# se seleecionan solo los datos del año 2"
   ]
  },
  {
   "cell_type": "code",
   "execution_count": null,
   "id": "77163168-5d37-47b8-8562-968ed2e6e333",
   "metadata": {},
   "outputs": [],
   "source": [
    "indexNames=df_indefic_año2[df_indefic_año2['Año']==2004].index"
   ]
  },
  {
   "cell_type": "code",
   "execution_count": null,
   "id": "1038e680-43f7-4992-a257-13f61e7a847f",
   "metadata": {},
   "outputs": [],
   "source": [
    "df_indefic_año2.drop(indexNames, inplace=True)"
   ]
  },
  {
   "cell_type": "code",
   "execution_count": null,
   "id": "4282d423-4ed6-43ec-b9a5-9f0b54e62a59",
   "metadata": {},
   "outputs": [],
   "source": [
    "df_indefic_año2.reset_index(drop=True, inplace=True)"
   ]
  },
  {
   "cell_type": "code",
   "execution_count": null,
   "id": "28109296-9859-405c-a83c-812d395fc93c",
   "metadata": {},
   "outputs": [
    {
     "name": "stdout",
     "output_type": "stream",
     "text": [
      "     Año         Mes  Consumo en Kpc  Producción Ton.\n",
      "0   1998       Enero          134880          2385730\n",
      "1   1998     Febrero          138240          2040070\n",
      "2   1998       Marzo          138480          2161680\n",
      "3   1998       Abril          122880          2103370\n",
      "4   1998        Mayo          155280          2401320\n",
      "5   1998       Junio          157920          2537565\n",
      "6   1998       Julio          159600          2303359\n",
      "7   1998      Agosto          177600          2811775\n",
      "8   1998  Septiembre          158880          2337090\n",
      "9   1998     Octubre          131040          2157733\n",
      "10  1998   Noviembre          143760          2300890\n",
      "11  1998   Diciembre          153840          2282175\n",
      "12  1999       Enero          150480          2595580\n",
      "13  1999     Febrero          108240          1929556\n",
      "14  1999       Marzo          153120          2420295\n",
      "15  1999       Abril          159720          2509785\n",
      "16  1999        Mayo          165817          2656455\n",
      "17  1999       Junio          198000          2875225\n",
      "18  1999       Julio          176880          2804464\n",
      "19  1999      Agosto          171600          2635296\n",
      "20  1999  Septiembre          235580          3145100\n",
      "21  1999     Octubre          210560          3505180\n",
      "22  1999   Noviembre          246570          3967284\n",
      "23  1999   Diciembre          217654          4550585\n"
     ]
    }
   ],
   "source": [
    "print(df_indefic_año2)"
   ]
  },
  {
   "cell_type": "code",
   "execution_count": null,
   "id": "bc8a61d1-957c-4c3a-b89d-0e1ebdc19082",
   "metadata": {},
   "outputs": [],
   "source": [
    "dforg= dfind.drop(['Ecalculado', 'E^2', 'Ei*Pi','E+(x*Sy,x)','E-(x*Sy,x)','(E+Sy,x)-Ei','Ei-(E-Sy,x)'], axis=1)"
   ]
  },
  {
   "cell_type": "code",
   "execution_count": null,
   "id": "b1bac78e-51df-449b-86e0-6b8e877de2f9",
   "metadata": {},
   "outputs": [],
   "source": [
    "# se seleccionan solo los datos de año 1"
   ]
  },
  {
   "cell_type": "code",
   "execution_count": null,
   "id": "ebcdd18f-5484-41a8-8a38-1b4d3e1125da",
   "metadata": {},
   "outputs": [],
   "source": [
    "df_indefic_año1=dforg"
   ]
  },
  {
   "cell_type": "code",
   "execution_count": null,
   "id": "a4979757-217b-44fe-bf5c-4bab65f20c1f",
   "metadata": {},
   "outputs": [],
   "source": [
    "\n",
    "indexNames=df_indefic_año1[df_indefic_año1['Año']==2005].index"
   ]
  },
  {
   "cell_type": "code",
   "execution_count": null,
   "id": "3ea00066-f11c-4016-ad08-8a854555b023",
   "metadata": {},
   "outputs": [],
   "source": [
    "df_indefic_año1.drop(indexNames, inplace=True)\n"
   ]
  },
  {
   "cell_type": "code",
   "execution_count": null,
   "id": "2093804c-5335-4e30-b635-40033586f5a4",
   "metadata": {},
   "outputs": [
    {
     "name": "stdout",
     "output_type": "stream",
     "text": [
      "     Año         Mes  Consumo en Kpc  Producción Ton.\n",
      "0   1998       Enero          134880          2385730\n",
      "1   1998     Febrero          138240          2040070\n",
      "2   1998       Marzo          138480          2161680\n",
      "3   1998       Abril          122880          2103370\n",
      "4   1998        Mayo          155280          2401320\n",
      "5   1998       Junio          157920          2537565\n",
      "6   1998       Julio          159600          2303359\n",
      "7   1998      Agosto          177600          2811775\n",
      "8   1998  Septiembre          158880          2337090\n",
      "9   1998     Octubre          131040          2157733\n",
      "10  1998   Noviembre          143760          2300890\n",
      "11  1998   Diciembre          153840          2282175\n",
      "12  1999       Enero          150480          2595580\n",
      "13  1999     Febrero          108240          1929556\n",
      "14  1999       Marzo          153120          2420295\n",
      "15  1999       Abril          159720          2509785\n",
      "16  1999        Mayo          165817          2656455\n",
      "17  1999       Junio          198000          2875225\n",
      "18  1999       Julio          176880          2804464\n",
      "19  1999      Agosto          171600          2635296\n",
      "20  1999  Septiembre          235580          3145100\n",
      "21  1999     Octubre          210560          3505180\n",
      "22  1999   Noviembre          246570          3967284\n",
      "23  1999   Diciembre          217654          4550585\n"
     ]
    }
   ],
   "source": [
    "print(df_indefic_año1)"
   ]
  },
  {
   "cell_type": "code",
   "execution_count": null,
   "id": "2633e354-3b26-4460-a19b-2723784358f6",
   "metadata": {},
   "outputs": [],
   "source": [
    "#sacaremos las ecuaciones de la linea de regresion, como el intercepto con eje, pendiente, y valor de R cuadrado del año 1"
   ]
  },
  {
   "cell_type": "code",
   "execution_count": null,
   "id": "9e1142e9-51fe-4cb2-b378-d86845ba9743",
   "metadata": {},
   "outputs": [
    {
     "name": "stdout",
     "output_type": "stream",
     "text": [
      "pendiente: 0.049304017512758605\n",
      "interseccion eje: 34995.01718898106\n",
      "R2: 0.7753139270861864\n"
     ]
    }
   ],
   "source": [
    "x4 = df_indefic_año1['Producción Ton.']\n",
    "y4= df_indefic_año1['Consumo en Kpc']\n",
    "slope4, intercept4, r_value4, p_value4, std_err4 = linregress(x4, y4)\n",
    "r24 = r_value4**2\n",
    "print(\"pendiente:\",slope4) \n",
    "print(\"interseccion eje:\", intercept4)\n",
    "print(\"R2:\", r24)"
   ]
  },
  {
   "cell_type": "code",
   "execution_count": null,
   "id": "47a48325-1a19-47cc-8247-9b6e6fca4516",
   "metadata": {},
   "outputs": [],
   "source": []
  },
  {
   "cell_type": "code",
   "execution_count": null,
   "id": "179d121b-6fca-403f-81b4-3718dc1857d6",
   "metadata": {},
   "outputs": [
    {
     "name": "stdout",
     "output_type": "stream",
     "text": [
      "sumatoria Ei= 3966621\n",
      "sumatoria E^2= 683143852105\n",
      "sumatoria Ei*Pi= 10914732989285\n",
      "16776.19468315288\n"
     ]
    }
   ],
   "source": [
    "\n",
    "df_indefic_año1['Ecalculado']=((df_indefic_año1['Producción Ton.']*slope4)+intercept4)\n",
    "\n",
    "df_indefic_año1['E^2']=df_indefic_año1['Consumo en Kpc']**2\n",
    "\n",
    "df_indefic_año1['Ei*Pi']=df_indefic_año1['Consumo en Kpc']*df_indefic_año1['Producción Ton.']\n",
    "\n",
    "\n",
    "suma_Ei= df_indefic_año1['Consumo en Kpc'].sum()\n",
    "suma_E2=df_indefic_año1['E^2'].sum()\n",
    "suma_EixPi=df_indefic_año1['Ei*Pi'].sum()\n",
    "print('sumatoria Ei=', suma_Ei)\n",
    "print('sumatoria E^2=', suma_E2)\n",
    "print('sumatoria Ei*Pi=', suma_EixPi)\n",
    "\n",
    "des_Est=((suma_E2-(intercept4*suma_Ei)-(slope4*suma_EixPi))/(df_indefic_año1.shape[0]-2))**0.5\n",
    "print(des_Est)"
   ]
  },
  {
   "cell_type": "code",
   "execution_count": null,
   "id": "fb5c3ecf-b67a-4c2f-b96e-a674a14495e1",
   "metadata": {},
   "outputs": [],
   "source": [
    "dfaux1=df_indefic_año1.drop(['Ecalculado', 'E^2', 'Ei*Pi'], axis=1)"
   ]
  },
  {
   "cell_type": "code",
   "execution_count": null,
   "id": "fc15bc29-8b20-4563-97b6-b4a3646f9138",
   "metadata": {},
   "outputs": [
    {
     "data": {
      "text/html": [
       "<div>\n",
       "<style scoped>\n",
       "    .dataframe tbody tr th:only-of-type {\n",
       "        vertical-align: middle;\n",
       "    }\n",
       "\n",
       "    .dataframe tbody tr th {\n",
       "        vertical-align: top;\n",
       "    }\n",
       "\n",
       "    .dataframe thead th {\n",
       "        text-align: right;\n",
       "    }\n",
       "</style>\n",
       "<table border=\"1\" class=\"dataframe\">\n",
       "  <thead>\n",
       "    <tr style=\"text-align: right;\">\n",
       "      <th></th>\n",
       "      <th>Año</th>\n",
       "      <th>Mes</th>\n",
       "      <th>Consumo en Kpc</th>\n",
       "      <th>Producción Ton.</th>\n",
       "      <th>Ecalculado</th>\n",
       "      <th>E^2</th>\n",
       "      <th>Ei*Pi</th>\n",
       "    </tr>\n",
       "  </thead>\n",
       "  <tbody>\n",
       "    <tr>\n",
       "      <th>0</th>\n",
       "      <td>1998</td>\n",
       "      <td>Enero</td>\n",
       "      <td>134880</td>\n",
       "      <td>2385730</td>\n",
       "      <td>152621.090890</td>\n",
       "      <td>18192614400</td>\n",
       "      <td>321787262400</td>\n",
       "    </tr>\n",
       "    <tr>\n",
       "      <th>1</th>\n",
       "      <td>1998</td>\n",
       "      <td>Febrero</td>\n",
       "      <td>138240</td>\n",
       "      <td>2040070</td>\n",
       "      <td>135578.664196</td>\n",
       "      <td>19110297600</td>\n",
       "      <td>282019276800</td>\n",
       "    </tr>\n",
       "    <tr>\n",
       "      <th>2</th>\n",
       "      <td>1998</td>\n",
       "      <td>Marzo</td>\n",
       "      <td>138480</td>\n",
       "      <td>2161680</td>\n",
       "      <td>141574.525766</td>\n",
       "      <td>19176710400</td>\n",
       "      <td>299349446400</td>\n",
       "    </tr>\n",
       "    <tr>\n",
       "      <th>3</th>\n",
       "      <td>1998</td>\n",
       "      <td>Abril</td>\n",
       "      <td>122880</td>\n",
       "      <td>2103370</td>\n",
       "      <td>138699.608505</td>\n",
       "      <td>15099494400</td>\n",
       "      <td>258462105600</td>\n",
       "    </tr>\n",
       "    <tr>\n",
       "      <th>4</th>\n",
       "      <td>1998</td>\n",
       "      <td>Mayo</td>\n",
       "      <td>155280</td>\n",
       "      <td>2401320</td>\n",
       "      <td>153389.740523</td>\n",
       "      <td>24111878400</td>\n",
       "      <td>372876969600</td>\n",
       "    </tr>\n",
       "    <tr>\n",
       "      <th>5</th>\n",
       "      <td>1998</td>\n",
       "      <td>Junio</td>\n",
       "      <td>157920</td>\n",
       "      <td>2537565</td>\n",
       "      <td>160107.166389</td>\n",
       "      <td>24938726400</td>\n",
       "      <td>400732264800</td>\n",
       "    </tr>\n",
       "    <tr>\n",
       "      <th>6</th>\n",
       "      <td>1998</td>\n",
       "      <td>Julio</td>\n",
       "      <td>159600</td>\n",
       "      <td>2303359</td>\n",
       "      <td>148559.869663</td>\n",
       "      <td>25472160000</td>\n",
       "      <td>367616096400</td>\n",
       "    </tr>\n",
       "    <tr>\n",
       "      <th>7</th>\n",
       "      <td>1998</td>\n",
       "      <td>Agosto</td>\n",
       "      <td>177600</td>\n",
       "      <td>2811775</td>\n",
       "      <td>173626.821031</td>\n",
       "      <td>31541760000</td>\n",
       "      <td>499371240000</td>\n",
       "    </tr>\n",
       "    <tr>\n",
       "      <th>8</th>\n",
       "      <td>1998</td>\n",
       "      <td>Septiembre</td>\n",
       "      <td>158880</td>\n",
       "      <td>2337090</td>\n",
       "      <td>150222.943478</td>\n",
       "      <td>25242854400</td>\n",
       "      <td>371316859200</td>\n",
       "    </tr>\n",
       "    <tr>\n",
       "      <th>9</th>\n",
       "      <td>1998</td>\n",
       "      <td>Octubre</td>\n",
       "      <td>131040</td>\n",
       "      <td>2157733</td>\n",
       "      <td>141379.922809</td>\n",
       "      <td>17171481600</td>\n",
       "      <td>282749332320</td>\n",
       "    </tr>\n",
       "    <tr>\n",
       "      <th>10</th>\n",
       "      <td>1998</td>\n",
       "      <td>Noviembre</td>\n",
       "      <td>143760</td>\n",
       "      <td>2300890</td>\n",
       "      <td>148438.138044</td>\n",
       "      <td>20666937600</td>\n",
       "      <td>330775946400</td>\n",
       "    </tr>\n",
       "    <tr>\n",
       "      <th>11</th>\n",
       "      <td>1998</td>\n",
       "      <td>Diciembre</td>\n",
       "      <td>153840</td>\n",
       "      <td>2282175</td>\n",
       "      <td>147515.413356</td>\n",
       "      <td>23666745600</td>\n",
       "      <td>351089802000</td>\n",
       "    </tr>\n",
       "    <tr>\n",
       "      <th>12</th>\n",
       "      <td>1999</td>\n",
       "      <td>Enero</td>\n",
       "      <td>150480</td>\n",
       "      <td>2595580</td>\n",
       "      <td>162967.538965</td>\n",
       "      <td>22644230400</td>\n",
       "      <td>390582878400</td>\n",
       "    </tr>\n",
       "    <tr>\n",
       "      <th>13</th>\n",
       "      <td>1999</td>\n",
       "      <td>Febrero</td>\n",
       "      <td>108240</td>\n",
       "      <td>1929556</td>\n",
       "      <td>130129.880005</td>\n",
       "      <td>11715897600</td>\n",
       "      <td>208855141440</td>\n",
       "    </tr>\n",
       "    <tr>\n",
       "      <th>14</th>\n",
       "      <td>1999</td>\n",
       "      <td>Marzo</td>\n",
       "      <td>153120</td>\n",
       "      <td>2420295</td>\n",
       "      <td>154325.284255</td>\n",
       "      <td>23445734400</td>\n",
       "      <td>370595570400</td>\n",
       "    </tr>\n",
       "    <tr>\n",
       "      <th>15</th>\n",
       "      <td>1999</td>\n",
       "      <td>Abril</td>\n",
       "      <td>159720</td>\n",
       "      <td>2509785</td>\n",
       "      <td>158737.500782</td>\n",
       "      <td>25510478400</td>\n",
       "      <td>400862860200</td>\n",
       "    </tr>\n",
       "    <tr>\n",
       "      <th>16</th>\n",
       "      <td>1999</td>\n",
       "      <td>Mayo</td>\n",
       "      <td>165817</td>\n",
       "      <td>2656455</td>\n",
       "      <td>165968.921031</td>\n",
       "      <td>27495277489</td>\n",
       "      <td>440485398735</td>\n",
       "    </tr>\n",
       "    <tr>\n",
       "      <th>17</th>\n",
       "      <td>1999</td>\n",
       "      <td>Junio</td>\n",
       "      <td>198000</td>\n",
       "      <td>2875225</td>\n",
       "      <td>176755.160942</td>\n",
       "      <td>39204000000</td>\n",
       "      <td>569294550000</td>\n",
       "    </tr>\n",
       "    <tr>\n",
       "      <th>18</th>\n",
       "      <td>1999</td>\n",
       "      <td>Julio</td>\n",
       "      <td>176880</td>\n",
       "      <td>2804464</td>\n",
       "      <td>173266.359359</td>\n",
       "      <td>31286534400</td>\n",
       "      <td>496053592320</td>\n",
       "    </tr>\n",
       "    <tr>\n",
       "      <th>19</th>\n",
       "      <td>1999</td>\n",
       "      <td>Agosto</td>\n",
       "      <td>171600</td>\n",
       "      <td>2635296</td>\n",
       "      <td>164925.697324</td>\n",
       "      <td>29446560000</td>\n",
       "      <td>452216793600</td>\n",
       "    </tr>\n",
       "    <tr>\n",
       "      <th>20</th>\n",
       "      <td>1999</td>\n",
       "      <td>Septiembre</td>\n",
       "      <td>235580</td>\n",
       "      <td>3145100</td>\n",
       "      <td>190061.082668</td>\n",
       "      <td>55497936400</td>\n",
       "      <td>740922658000</td>\n",
       "    </tr>\n",
       "    <tr>\n",
       "      <th>21</th>\n",
       "      <td>1999</td>\n",
       "      <td>Octubre</td>\n",
       "      <td>210560</td>\n",
       "      <td>3505180</td>\n",
       "      <td>207814.473294</td>\n",
       "      <td>44335513600</td>\n",
       "      <td>738050700800</td>\n",
       "    </tr>\n",
       "    <tr>\n",
       "      <th>22</th>\n",
       "      <td>1999</td>\n",
       "      <td>Noviembre</td>\n",
       "      <td>246570</td>\n",
       "      <td>3967284</td>\n",
       "      <td>230598.057003</td>\n",
       "      <td>60796764900</td>\n",
       "      <td>978213215880</td>\n",
       "    </tr>\n",
       "    <tr>\n",
       "      <th>23</th>\n",
       "      <td>1999</td>\n",
       "      <td>Diciembre</td>\n",
       "      <td>217654</td>\n",
       "      <td>4550585</td>\n",
       "      <td>259357.139722</td>\n",
       "      <td>47373263716</td>\n",
       "      <td>990453027590</td>\n",
       "    </tr>\n",
       "  </tbody>\n",
       "</table>\n",
       "</div>"
      ],
      "text/plain": [
       "     Año         Mes  Consumo en Kpc  Producción Ton.     Ecalculado  \\\n",
       "0   1998       Enero          134880          2385730  152621.090890   \n",
       "1   1998     Febrero          138240          2040070  135578.664196   \n",
       "2   1998       Marzo          138480          2161680  141574.525766   \n",
       "3   1998       Abril          122880          2103370  138699.608505   \n",
       "4   1998        Mayo          155280          2401320  153389.740523   \n",
       "5   1998       Junio          157920          2537565  160107.166389   \n",
       "6   1998       Julio          159600          2303359  148559.869663   \n",
       "7   1998      Agosto          177600          2811775  173626.821031   \n",
       "8   1998  Septiembre          158880          2337090  150222.943478   \n",
       "9   1998     Octubre          131040          2157733  141379.922809   \n",
       "10  1998   Noviembre          143760          2300890  148438.138044   \n",
       "11  1998   Diciembre          153840          2282175  147515.413356   \n",
       "12  1999       Enero          150480          2595580  162967.538965   \n",
       "13  1999     Febrero          108240          1929556  130129.880005   \n",
       "14  1999       Marzo          153120          2420295  154325.284255   \n",
       "15  1999       Abril          159720          2509785  158737.500782   \n",
       "16  1999        Mayo          165817          2656455  165968.921031   \n",
       "17  1999       Junio          198000          2875225  176755.160942   \n",
       "18  1999       Julio          176880          2804464  173266.359359   \n",
       "19  1999      Agosto          171600          2635296  164925.697324   \n",
       "20  1999  Septiembre          235580          3145100  190061.082668   \n",
       "21  1999     Octubre          210560          3505180  207814.473294   \n",
       "22  1999   Noviembre          246570          3967284  230598.057003   \n",
       "23  1999   Diciembre          217654          4550585  259357.139722   \n",
       "\n",
       "            E^2         Ei*Pi  \n",
       "0   18192614400  321787262400  \n",
       "1   19110297600  282019276800  \n",
       "2   19176710400  299349446400  \n",
       "3   15099494400  258462105600  \n",
       "4   24111878400  372876969600  \n",
       "5   24938726400  400732264800  \n",
       "6   25472160000  367616096400  \n",
       "7   31541760000  499371240000  \n",
       "8   25242854400  371316859200  \n",
       "9   17171481600  282749332320  \n",
       "10  20666937600  330775946400  \n",
       "11  23666745600  351089802000  \n",
       "12  22644230400  390582878400  \n",
       "13  11715897600  208855141440  \n",
       "14  23445734400  370595570400  \n",
       "15  25510478400  400862860200  \n",
       "16  27495277489  440485398735  \n",
       "17  39204000000  569294550000  \n",
       "18  31286534400  496053592320  \n",
       "19  29446560000  452216793600  \n",
       "20  55497936400  740922658000  \n",
       "21  44335513600  738050700800  \n",
       "22  60796764900  978213215880  \n",
       "23  47373263716  990453027590  "
      ]
     },
     "execution_count": 94,
     "metadata": {},
     "output_type": "execute_result"
    }
   ],
   "source": [
    "df_indefic_año1"
   ]
  },
  {
   "cell_type": "code",
   "execution_count": null,
   "id": "a888bb6b-d943-4f1d-8f70-40f73ad3ab4f",
   "metadata": {},
   "outputs": [
    {
     "name": "stdout",
     "output_type": "stream",
     "text": [
      "0.0 %\n",
      "0\n",
      "4\n",
      "0.0 %\n",
      "0\n",
      "3.8\n",
      "0.0 %\n",
      "0\n",
      "3.5999999999999996\n",
      "0.0 %\n",
      "0\n",
      "3.3999999999999995\n",
      "0.0 %\n",
      "0\n",
      "3.1999999999999993\n",
      "0.0 %\n",
      "0\n",
      "2.999999999999999\n",
      "0.0 %\n",
      "0\n",
      "2.799999999999999\n",
      "4.166666666666666 %\n",
      "1\n",
      "2.5999999999999988\n"
     ]
    }
   ],
   "source": [
    "por_dt_eliminar1 = 40\n",
    "x=4\n",
    "while (por_dt_eliminar1 < 1 or por_dt_eliminar1 > 30):\n",
    "    \n",
    "   df_indefic_año1['E+(x*Sy,x)']=df_indefic_año1['Ecalculado']+(des_Est*x)\n",
    "   df_indefic_año1['E-(x*Sy,x)']=df_indefic_año1['Ecalculado']-(des_Est*x)\n",
    "\n",
    "   df_indefic_año1['(E+Sy,x)-Ei']=df_indefic_año1['E+(x*Sy,x)']-df_indefic_año1['Consumo en Kpc']\n",
    "   df_indefic_año1['Ei-(E-Sy,x)']=df_indefic_año1['Consumo en Kpc']-df_indefic_año1['E-(x*Sy,x)']\n",
    "\n",
    "   dffiltro1 = df_indefic_año1.drop(df_indefic_año1[df_indefic_año1['(E+Sy,x)-Ei']<0].index)\n",
    "   dffiltro1 = dffiltro1.drop(dffiltro1[dffiltro1['Ei-(E-Sy,x)']<0].index)\n",
    "   dffiltro1.reset_index(drop=True, inplace=True)\n",
    "\n",
    "   dt_eliminar1 = df_indefic_año1.shape[0]-dffiltro1.shape[0]\n",
    "   por_dt_eliminar1=(dt_eliminar1/df_indefic_año1.shape[0])*100\n",
    "   print(por_dt_eliminar1,'%')\n",
    "   print(dt_eliminar1)\n",
    "   print(x)\n",
    "   x = x-0.2\n",
    "   \n"
   ]
  },
  {
   "cell_type": "code",
   "execution_count": null,
   "id": "417c8fc9-7f91-472a-a6fd-ef249ed1c510",
   "metadata": {},
   "outputs": [
    {
     "name": "stdout",
     "output_type": "stream",
     "text": [
      "     Año         Mes  Consumo en Kpc  Producción Ton.     Ecalculado  \\\n",
      "0   1998       Enero          134880          2385730  152621.090890   \n",
      "1   1998     Febrero          138240          2040070  135578.664196   \n",
      "2   1998       Marzo          138480          2161680  141574.525766   \n",
      "3   1998       Abril          122880          2103370  138699.608505   \n",
      "4   1998        Mayo          155280          2401320  153389.740523   \n",
      "5   1998       Junio          157920          2537565  160107.166389   \n",
      "6   1998       Julio          159600          2303359  148559.869663   \n",
      "7   1998      Agosto          177600          2811775  173626.821031   \n",
      "8   1998  Septiembre          158880          2337090  150222.943478   \n",
      "9   1998     Octubre          131040          2157733  141379.922809   \n",
      "10  1998   Noviembre          143760          2300890  148438.138044   \n",
      "11  1998   Diciembre          153840          2282175  147515.413356   \n",
      "12  1999       Enero          150480          2595580  162967.538965   \n",
      "13  1999     Febrero          108240          1929556  130129.880005   \n",
      "14  1999       Marzo          153120          2420295  154325.284255   \n",
      "15  1999       Abril          159720          2509785  158737.500782   \n",
      "16  1999        Mayo          165817          2656455  165968.921031   \n",
      "17  1999       Junio          198000          2875225  176755.160942   \n",
      "18  1999       Julio          176880          2804464  173266.359359   \n",
      "19  1999      Agosto          171600          2635296  164925.697324   \n",
      "20  1999  Septiembre          235580          3145100  190061.082668   \n",
      "21  1999     Octubre          210560          3505180  207814.473294   \n",
      "22  1999   Noviembre          246570          3967284  230598.057003   \n",
      "23  1999   Diciembre          217654          4550585  259357.139722   \n",
      "\n",
      "            E^2         Ei*Pi     E+(x*Sy,x)     E-(x*Sy,x)   (E+Sy,x)-Ei  \\\n",
      "0   18192614400  321787262400  196239.197066  109002.984713  61359.197066   \n",
      "1   19110297600  282019276800  179196.770372   91960.558020  40956.770372   \n",
      "2   19176710400  299349446400  185192.631942   97956.419590  46712.631942   \n",
      "3   15099494400  258462105600  182317.714681   95081.502329  59437.714681   \n",
      "4   24111878400  372876969600  197007.846699  109771.634347  41727.846699   \n",
      "5   24938726400  400732264800  203725.272565  116489.060213  45805.272565   \n",
      "6   25472160000  367616096400  192177.975839  104941.763487  32577.975839   \n",
      "7   31541760000  499371240000  217244.927207  130008.714855  39644.927207   \n",
      "8   25242854400  371316859200  193841.049654  106604.837302  34961.049654   \n",
      "9   17171481600  282749332320  184998.028985   97761.816633  53958.028985   \n",
      "10  20666937600  330775946400  192056.244220  104820.031868  48296.244220   \n",
      "11  23666745600  351089802000  191133.519532  103897.307180  37293.519532   \n",
      "12  22644230400  390582878400  206585.645141  119349.432789  56105.645141   \n",
      "13  11715897600  208855141440  173747.986181   86511.773829  65507.986181   \n",
      "14  23445734400  370595570400  197943.390431  110707.178079  44823.390431   \n",
      "15  25510478400  400862860200  202355.606958  115119.394606  42635.606958   \n",
      "16  27495277489  440485398735  209587.027207  122350.814855  43770.027207   \n",
      "17  39204000000  569294550000  220373.267118  133137.054766  22373.267118   \n",
      "18  31286534400  496053592320  216884.465535  129648.253183  40004.465535   \n",
      "19  29446560000  452216793600  208543.803500  121307.591148  36943.803500   \n",
      "20  55497936400  740922658000  233679.188845  146442.976492  -1900.811155   \n",
      "21  44335513600  738050700800  251432.579471  164196.367118  40872.579471   \n",
      "22  60796764900  978213215880  274216.163179  186979.950827  27646.163179   \n",
      "23  47373263716  990453027590  302975.245898  215739.033546  85321.245898   \n",
      "\n",
      "     Ei-(E-Sy,x)  \n",
      "0   25877.015287  \n",
      "1   46279.441980  \n",
      "2   40523.580410  \n",
      "3   27798.497671  \n",
      "4   45508.365653  \n",
      "5   41430.939787  \n",
      "6   54658.236513  \n",
      "7   47591.285145  \n",
      "8   52275.162698  \n",
      "9   33278.183367  \n",
      "10  38939.968132  \n",
      "11  49942.692820  \n",
      "12  31130.567211  \n",
      "13  21728.226171  \n",
      "14  42412.821921  \n",
      "15  44600.605394  \n",
      "16  43466.185145  \n",
      "17  64862.945234  \n",
      "18  47231.746817  \n",
      "19  50292.408852  \n",
      "20  89137.023508  \n",
      "21  46363.632882  \n",
      "22  59590.049173  \n",
      "23   1914.966454  \n"
     ]
    }
   ],
   "source": [
    "print(df_indefic_año1)"
   ]
  },
  {
   "cell_type": "code",
   "execution_count": null,
   "id": "932163a4-1835-42d4-9562-f1d4d21fa40f",
   "metadata": {},
   "outputs": [
    {
     "data": {
      "image/png": "[encoded data removed]",
      "text/plain": [
       "<Figure size 432x288 with 1 Axes>"
      ]
     },
     "metadata": {
      "needs_background": "light"
     },
     "output_type": "display_data"
    }
   ],
   "source": [
    "fig, ax = plt.subplots()\n",
    "sb.regplot(x='Producción Ton.', y='E+(x*Sy,x)', data=df_indefic_año1, ax=ax, color='r',label = \"LIMITE SUPERIOR\")\n",
    "sb.regplot(x='Producción Ton.', y='E-(x*Sy,x)', data=df_indefic_año1, ax=ax, color='g',label = \"LIMITE INFERIOR\")\n",
    "sb.regplot(x='Producción Ton.', y='Consumo en Kpc',ci=None, data=df_indefic_año1, ax=ax,label = \"LINEA BASE\")\n",
    "ax.grid(axis = 'both', color = 'gray', linestyle = 'dashed')\n",
    "ax.set_title( \"Produccion vs Consumo\" , size = 24 )\n",
    "plt.legend()\n",
    "plt.show()"
   ]
  },
  {
   "cell_type": "code",
   "execution_count": null,
   "id": "17fc4a3e-0a1f-41c9-a654-60dd82336c0b",
   "metadata": {},
   "outputs": [],
   "source": []
  },
  {
   "cell_type": "code",
   "execution_count": null,
   "id": "6e1fd276-6448-476e-8705-2e61c8515122",
   "metadata": {},
   "outputs": [],
   "source": [
    "dffiltro1=dffiltro1.drop(['Ecalculado','E^2','Ei*Pi','E+(x*Sy,x)','E-(x*Sy,x)','(E+Sy,x)-Ei','Ei-(E-Sy,x)'],axis=1)"
   ]
  },
  {
   "cell_type": "code",
   "execution_count": null,
   "id": "a8269df9-2b71-4dbe-96b7-fb5ca63f7035",
   "metadata": {},
   "outputs": [],
   "source": []
  },
  {
   "cell_type": "code",
   "execution_count": null,
   "id": "cd11d3f0-05d0-4dda-ac0f-c669c04a0fae",
   "metadata": {},
   "outputs": [
    {
     "name": "stdout",
     "output_type": "stream",
     "text": [
      "pendiente: 0.046503304816071865\n",
      "interseccion eje: 40355.31859125616\n",
      "R2: 0.8230871338053873\n"
     ]
    }
   ],
   "source": [
    "x = dffiltro1['Producción Ton.']\n",
    "y = dffiltro1['Consumo en Kpc']\n",
    "slope5, intercept5, r_value5, p_value5, std_err5 = linregress(x, y)\n",
    "r25 = r_value5**2\n",
    "print(\"pendiente:\",slope5) \n",
    "print(\"interseccion eje:\", intercept5)\n",
    "print(\"R2:\", r25)"
   ]
  },
  {
   "cell_type": "code",
   "execution_count": null,
   "id": "eff9bf29-f394-4881-b43d-6d111f3741f5",
   "metadata": {},
   "outputs": [],
   "source": [
    "dffiltro1['Consumo teorico']=(slope5*dffiltro1['Producción Ton.']+intercept5)\n"
   ]
  },
  {
   "cell_type": "code",
   "execution_count": null,
   "id": "230cb3f3-b76b-41bd-b6d2-c64665f12863",
   "metadata": {},
   "outputs": [],
   "source": [
    "dffiltro1['Real-Teorico']=dffiltro1['Consumo en Kpc']-dffiltro1['Consumo teorico']"
   ]
  },
  {
   "cell_type": "code",
   "execution_count": null,
   "id": "8a74710f-fd9e-4b24-9242-f3dcd64eee83",
   "metadata": {},
   "outputs": [],
   "source": [
    "dffiltro1['Diferencia al cuadrado']=(dffiltro1['Real-Teorico'].clip(upper=0))**2\n"
   ]
  },
  {
   "cell_type": "code",
   "execution_count": null,
   "id": "4637cacc-ec93-4714-9fff-e1158d37a620",
   "metadata": {},
   "outputs": [
    {
     "name": "stdout",
     "output_type": "stream",
     "text": [
      "     Año         Mes  Consumo en Kpc  Producción Ton.  Consumo teorico  \\\n",
      "0   1998       Enero          134880          2385730    151299.647990   \n",
      "1   1998     Febrero          138240          2040070    135225.315647   \n",
      "2   1998       Marzo          138480          2161680    140880.582546   \n",
      "3   1998       Abril          122880          2103370    138168.974842   \n",
      "4   1998        Mayo          155280          2401320    152024.634512   \n",
      "5   1998       Junio          157920          2537565    158360.477277   \n",
      "6   1998       Julio          159600          2303359    147469.124269   \n",
      "7   1998      Agosto          177600          2811775    171112.148490   \n",
      "8   1998  Septiembre          158880          2337090    149037.727244   \n",
      "9   1998     Octubre          131040          2157733    140697.034002   \n",
      "10  1998   Noviembre          143760          2300890    147354.307610   \n",
      "11  1998   Diciembre          153840          2282175    146483.998260   \n",
      "12  1999       Enero          150480          2595580    161058.366506   \n",
      "13  1999     Febrero          108240          1929556    130086.049419   \n",
      "14  1999       Marzo          153120          2420295    152907.034721   \n",
      "15  1999       Abril          159720          2509785    157068.615469   \n",
      "16  1999        Mayo          165817          2656455    163889.255186   \n",
      "17  1999       Junio          198000          2875225    174062.783181   \n",
      "18  1999       Julio          176880          2804464    170772.162829   \n",
      "19  1999      Agosto          171600          2635296    162905.291760   \n",
      "20  1999     Octubre          210560          3505180    203357.772566   \n",
      "21  1999   Noviembre          246570          3967284    224847.135735   \n",
      "22  1999   Diciembre          217654          4550585    251972.559938   \n",
      "\n",
      "    Real-Teorico  Diferencia al cuadrado  \n",
      "0  -16419.647990            2.696048e+08  \n",
      "1    3014.684353            0.000000e+00  \n",
      "2   -2400.582546            5.762797e+06  \n",
      "3  -15288.974842            2.337528e+08  \n",
      "4    3255.365488            0.000000e+00  \n",
      "5    -440.477277            1.940202e+05  \n",
      "6   12130.875731            0.000000e+00  \n",
      "7    6487.851510            0.000000e+00  \n",
      "8    9842.272756            0.000000e+00  \n",
      "9   -9657.034002            9.325831e+07  \n",
      "10  -3594.307610            1.291905e+07  \n",
      "11   7356.001740            0.000000e+00  \n",
      "12 -10578.366506            1.119018e+08  \n",
      "13 -21846.049419            4.772499e+08  \n",
      "14    212.965279            0.000000e+00  \n",
      "15   2651.384531            0.000000e+00  \n",
      "16   1927.744814            0.000000e+00  \n",
      "17  23937.216819            0.000000e+00  \n",
      "18   6107.837171            0.000000e+00  \n",
      "19   8694.708240            0.000000e+00  \n",
      "20   7202.227434            0.000000e+00  \n",
      "21  21722.864265            0.000000e+00  \n",
      "22 -34318.559938            1.177764e+09  \n"
     ]
    }
   ],
   "source": [
    "print(dffiltro1)"
   ]
  },
  {
   "cell_type": "code",
   "execution_count": null,
   "id": "dbeacbbe-fe68-4d09-8f5b-b15b07d7c71f",
   "metadata": {},
   "outputs": [
    {
     "data": {
      "text/plain": [
       "0     2.696048e+08\n",
       "1     0.000000e+00\n",
       "2     5.762797e+06\n",
       "3     2.337528e+08\n",
       "4     0.000000e+00\n",
       "5     1.940202e+05\n",
       "6     0.000000e+00\n",
       "7     0.000000e+00\n",
       "8     0.000000e+00\n",
       "9     9.325831e+07\n",
       "10    1.291905e+07\n",
       "11    0.000000e+00\n",
       "12    1.119018e+08\n",
       "13    4.772499e+08\n",
       "14    0.000000e+00\n",
       "15    0.000000e+00\n",
       "16    0.000000e+00\n",
       "17    0.000000e+00\n",
       "18    0.000000e+00\n",
       "19    0.000000e+00\n",
       "20    0.000000e+00\n",
       "21    0.000000e+00\n",
       "22    1.177764e+09\n",
       "Name: Diferencia al cuadrado, dtype: float64"
      ]
     },
     "execution_count": 104,
     "metadata": {},
     "output_type": "execute_result"
    }
   ],
   "source": [
    "dfaux1=dffiltro1['Diferencia al cuadrado']\n",
    "dfaux1"
   ]
  },
  {
   "cell_type": "code",
   "execution_count": null,
   "id": "57555ecb-2fc5-4bdd-ad81-2f2eebd9058d",
   "metadata": {},
   "outputs": [
    {
     "data": {
      "text/plain": [
       "9"
      ]
     },
     "execution_count": 105,
     "metadata": {},
     "output_type": "execute_result"
    }
   ],
   "source": [
    "dfaux1 = dfaux1.drop(dfaux1[dfaux1==0].index)\n",
    "dfaux1.reset_index(drop=True, inplace=True)\n",
    "val_neg1=dfaux1.shape[0]\n",
    "val_neg1"
   ]
  },
  {
   "cell_type": "code",
   "execution_count": null,
   "id": "56ef1203-8272-4718-ad3f-0714a85bf670",
   "metadata": {},
   "outputs": [],
   "source": [
    "varianza1=(dfaux1.sum()/val_neg1)"
   ]
  },
  {
   "cell_type": "code",
   "execution_count": null,
   "id": "ef7d5820-7b02-4fa4-9268-8bca72c9d2c5",
   "metadata": {},
   "outputs": [
    {
     "name": "stdout",
     "output_type": "stream",
     "text": [
      "varianza=  264711892.32069534\n",
      "Des. Estandar=  16269.969032567189\n"
     ]
    }
   ],
   "source": [
    "D_estandar1=varianza1**0.5\n",
    "print(\"varianza= \",varianza1)\n",
    "print(\"Des. Estandar= \",D_estandar1)\n"
   ]
  },
  {
   "cell_type": "code",
   "execution_count": null,
   "id": "e3e120d6-031d-4fc3-86b1-78a925c1f880",
   "metadata": {},
   "outputs": [],
   "source": [
    "dffiltro1['Linea meta'] = ((slope5*dffiltro1['Producción Ton.'])+D_estandar1) \n"
   ]
  },
  {
   "cell_type": "code",
   "execution_count": null,
   "id": "23848df2-1f75-4ec3-9496-68ddefd0d0cd",
   "metadata": {},
   "outputs": [
    {
     "name": "stdout",
     "output_type": "stream",
     "text": [
      "     Año         Mes  Consumo en Kpc  Producción Ton.  Consumo teorico  \\\n",
      "0   1998       Enero          134880          2385730    151299.647990   \n",
      "1   1998     Febrero          138240          2040070    135225.315647   \n",
      "2   1998       Marzo          138480          2161680    140880.582546   \n",
      "3   1998       Abril          122880          2103370    138168.974842   \n",
      "4   1998        Mayo          155280          2401320    152024.634512   \n",
      "5   1998       Junio          157920          2537565    158360.477277   \n",
      "6   1998       Julio          159600          2303359    147469.124269   \n",
      "7   1998      Agosto          177600          2811775    171112.148490   \n",
      "8   1998  Septiembre          158880          2337090    149037.727244   \n",
      "9   1998     Octubre          131040          2157733    140697.034002   \n",
      "10  1998   Noviembre          143760          2300890    147354.307610   \n",
      "11  1998   Diciembre          153840          2282175    146483.998260   \n",
      "12  1999       Enero          150480          2595580    161058.366506   \n",
      "13  1999     Febrero          108240          1929556    130086.049419   \n",
      "14  1999       Marzo          153120          2420295    152907.034721   \n",
      "15  1999       Abril          159720          2509785    157068.615469   \n",
      "16  1999        Mayo          165817          2656455    163889.255186   \n",
      "17  1999       Junio          198000          2875225    174062.783181   \n",
      "18  1999       Julio          176880          2804464    170772.162829   \n",
      "19  1999      Agosto          171600          2635296    162905.291760   \n",
      "20  1999     Octubre          210560          3505180    203357.772566   \n",
      "21  1999   Noviembre          246570          3967284    224847.135735   \n",
      "22  1999   Diciembre          217654          4550585    251972.559938   \n",
      "\n",
      "    Real-Teorico  Diferencia al cuadrado     Linea meta  \n",
      "0  -16419.647990            2.696048e+08  127214.298431  \n",
      "1    3014.684353            0.000000e+00  111139.966089  \n",
      "2   -2400.582546            5.762797e+06  116795.232987  \n",
      "3  -15288.974842            2.337528e+08  114083.625284  \n",
      "4    3255.365488            0.000000e+00  127939.284953  \n",
      "5    -440.477277            1.940202e+05  134275.127718  \n",
      "6   12130.875731            0.000000e+00  123383.774710  \n",
      "7    6487.851510            0.000000e+00  147026.798932  \n",
      "8    9842.272756            0.000000e+00  124952.377685  \n",
      "9   -9657.034002            9.325831e+07  116611.684443  \n",
      "10  -3594.307610            1.291905e+07  123268.958051  \n",
      "11   7356.001740            0.000000e+00  122398.648701  \n",
      "12 -10578.366506            1.119018e+08  136973.016947  \n",
      "13 -21846.049419            4.772499e+08  106000.699860  \n",
      "14    212.965279            0.000000e+00  128821.685162  \n",
      "15   2651.384531            0.000000e+00  132983.265910  \n",
      "16   1927.744814            0.000000e+00  139803.905628  \n",
      "17  23937.216819            0.000000e+00  149977.433622  \n",
      "18   6107.837171            0.000000e+00  146686.813270  \n",
      "19   8694.708240            0.000000e+00  138819.942201  \n",
      "20   7202.227434            0.000000e+00  179272.423008  \n",
      "21  21722.864265            0.000000e+00  200761.786176  \n",
      "22 -34318.559938            1.177764e+09  227887.210379  \n"
     ]
    }
   ],
   "source": [
    "print(dffiltro1)"
   ]
  },
  {
   "cell_type": "code",
   "execution_count": null,
   "id": "4ebe9c99-4f9c-4cf2-9be1-de6e4e72e82f",
   "metadata": {},
   "outputs": [
    {
     "data": {
      "image/png": "[encoded data removed]",
      "text/plain": [
       "<Figure size 432x288 with 1 Axes>"
      ]
     },
     "metadata": {
      "needs_background": "light"
     },
     "output_type": "display_data"
    }
   ],
   "source": [
    "fig, ax = plt.subplots()\n",
    "sb.regplot(x='Producción Ton.', y='Linea meta', data=dffiltro1, ax=ax, color='g',label = \"LINEA META\")\n",
    "sb.regplot(x='Producción Ton.', y='Consumo en Kpc',ci=None, data=dffiltro1, ax=ax,label = \"LINEA BASE\")\n",
    "ax.grid(axis = 'both', color = 'gray', linestyle = 'dashed')\n",
    "ax.set_title( \"Produccion vs Consumo\" , size = 24 )\n",
    "plt.legend()\n",
    "plt.show()"
   ]
  },
  {
   "cell_type": "code",
   "execution_count": null,
   "id": "7f9f2942-cd32-4c89-879f-c2313bfea341",
   "metadata": {},
   "outputs": [],
   "source": [
    "# se calculan los datos del año 2 para el indicador de eficiencia en base 100"
   ]
  },
  {
   "cell_type": "code",
   "execution_count": null,
   "id": "16c5c026-b101-4f75-bd53-a5d8d050d1bd",
   "metadata": {},
   "outputs": [],
   "source": [
    "df_indefic_año2['EL=mlb*Preal+E0LB']=(slope5*df_indefic_año2['Producción Ton.'])+intercept5"
   ]
  },
  {
   "cell_type": "code",
   "execution_count": null,
   "id": "06622c12-7347-48e5-b0cb-2ff49efab739",
   "metadata": {},
   "outputs": [],
   "source": [
    "df_indefic_año2['Em=mlm*Preal+E0Lm']=(slope5*df_indefic_año2['Producción Ton.'])+D_estandar1"
   ]
  },
  {
   "cell_type": "code",
   "execution_count": null,
   "id": "49985f51-070e-4eed-9d26-b18a216ee03c",
   "metadata": {},
   "outputs": [],
   "source": [
    "df_indefic_año2['lb100=(Elb/Ereal)*100']=(df_indefic_año2['EL=mlb*Preal+E0LB']/df_indefic_año2['Consumo en Kpc'])*100"
   ]
  },
  {
   "cell_type": "code",
   "execution_count": null,
   "id": "65bc06d3-29e4-428b-a791-9df0a421570a",
   "metadata": {},
   "outputs": [],
   "source": [
    "df_indefic_año2['lb100=(Elm/Ereal)*100']=(df_indefic_año2['Em=mlm*Preal+E0Lm']/df_indefic_año2['Consumo en Kpc'])*100"
   ]
  },
  {
   "cell_type": "code",
   "execution_count": null,
   "id": "84d8fab6-d629-4602-be19-8ca555f3c831",
   "metadata": {},
   "outputs": [],
   "source": [
    "df_indefic_año2.reset_index(drop=True, inplace=True)\n",
    "tam=(df_indefic_año2.shape[0])\n",
    "tam\n",
    "naux=0"
   ]
  },
  {
   "cell_type": "code",
   "execution_count": null,
   "id": "7cc7e4dc-8ebb-4a8f-8081-60f330b5cae5",
   "metadata": {},
   "outputs": [
    {
     "data": {
      "text/plain": [
       "24"
      ]
     },
     "execution_count": 117,
     "metadata": {},
     "output_type": "execute_result"
    }
   ],
   "source": [
    "tam"
   ]
  },
  {
   "cell_type": "code",
   "execution_count": null,
   "id": "27525068-4920-4daa-9229-f915c428a6ab",
   "metadata": {},
   "outputs": [
    {
     "name": "stdout",
     "output_type": "stream",
     "text": [
      "1\n",
      "2\n",
      "3\n",
      "4\n",
      "5\n",
      "6\n",
      "7\n",
      "8\n",
      "9\n",
      "10\n",
      "11\n",
      "12\n",
      "13\n",
      "14\n",
      "15\n",
      "16\n",
      "17\n",
      "18\n",
      "19\n",
      "20\n",
      "21\n",
      "22\n",
      "23\n",
      "24\n"
     ]
    }
   ],
   "source": [
    "\n",
    "while (naux<tam):\n",
    "    df_indefic_año2.at[naux,'a']=naux\n",
    "    df_indefic_año2['b']=100\n",
    "    df_indefic_año2['c']=120\n",
    "    df_indefic_año2['d']=80\n",
    "    naux=naux+1\n",
    "   \n",
    "    "
   ]
  },
  {
   "cell_type": "code",
   "execution_count": null,
   "id": "5092b312-d027-4db7-8b93-b9491f3fd7ed",
   "metadata": {},
   "outputs": [
    {
     "name": "stdout",
     "output_type": "stream",
     "text": [
      "     Año         Mes  Consumo en Kpc  Producción Ton.  EL=mlb*Preal+E0LB  \\\n",
      "0   1998       Enero          134880          2385730      151299.647990   \n",
      "1   1998     Febrero          138240          2040070      135225.315647   \n",
      "2   1998       Marzo          138480          2161680      140880.582546   \n",
      "3   1998       Abril          122880          2103370      138168.974842   \n",
      "4   1998        Mayo          155280          2401320      152024.634512   \n",
      "5   1998       Junio          157920          2537565      158360.477277   \n",
      "6   1998       Julio          159600          2303359      147469.124269   \n",
      "7   1998      Agosto          177600          2811775      171112.148490   \n",
      "8   1998  Septiembre          158880          2337090      149037.727244   \n",
      "9   1998     Octubre          131040          2157733      140697.034002   \n",
      "10  1998   Noviembre          143760          2300890      147354.307610   \n",
      "11  1998   Diciembre          153840          2282175      146483.998260   \n",
      "12  1999       Enero          150480          2595580      161058.366506   \n",
      "13  1999     Febrero          108240          1929556      130086.049419   \n",
      "14  1999       Marzo          153120          2420295      152907.034721   \n",
      "15  1999       Abril          159720          2509785      157068.615469   \n",
      "16  1999        Mayo          165817          2656455      163889.255186   \n",
      "17  1999       Junio          198000          2875225      174062.783181   \n",
      "18  1999       Julio          176880          2804464      170772.162829   \n",
      "19  1999      Agosto          171600          2635296      162905.291760   \n",
      "20  1999  Septiembre          235580          3145100      186612.862568   \n",
      "21  1999     Octubre          210560          3505180      203357.772566   \n",
      "22  1999   Noviembre          246570          3967284      224847.135735   \n",
      "23  1999   Diciembre          217654          4550585      251972.559938   \n",
      "\n",
      "    Em=mlm*Preal+E0Lm  lb100=(Elb/Ereal)*100  lb100=(Elm/Ereal)*100     a  \\\n",
      "0       127214.298431             112.173523              94.316651   0.0   \n",
      "1       111139.966089              97.819239              80.396388   1.0   \n",
      "2       116795.232987             101.733523              84.340867   2.0   \n",
      "3       114083.625284             112.442200              92.841492   3.0   \n",
      "4       127939.284953              97.903551              82.392636   4.0   \n",
      "5       134275.127718             100.278924              85.027310   5.0   \n",
      "6       123383.774710              92.399201              77.308130   6.0   \n",
      "7       147026.798932              96.346930              82.785360   7.0   \n",
      "8       124952.377685              93.805216              78.645756   8.0   \n",
      "9       116611.684443             107.369531              88.989381   9.0   \n",
      "10      123268.958051             102.500214              85.746354  10.0   \n",
      "11      122398.648701              95.218408              79.562304  11.0   \n",
      "12      136973.016947             107.029749              91.024068  12.0   \n",
      "13      106000.699860             120.182972              97.931171  13.0   \n",
      "14      128821.685162              99.860916              84.131195  14.0   \n",
      "15      132983.265910              98.339980              83.260247  15.0   \n",
      "16      139803.905628              98.837426              84.312167  16.0   \n",
      "17      149977.433622              87.910497              75.746179  17.0   \n",
      "18      146686.813270              96.546903              82.930130  18.0   \n",
      "19      138819.942201              94.933154              80.897402  19.0   \n",
      "20      162527.513010              79.214221              68.990370  20.0   \n",
      "21      179272.423008              96.579489              85.140778  21.0   \n",
      "22      200761.786176              91.189981              81.421822  22.0   \n",
      "23      227887.210379             115.767484             104.701595  23.0   \n",
      "\n",
      "      b    c   d  \n",
      "0   100  120  80  \n",
      "1   100  120  80  \n",
      "2   100  120  80  \n",
      "3   100  120  80  \n",
      "4   100  120  80  \n",
      "5   100  120  80  \n",
      "6   100  120  80  \n",
      "7   100  120  80  \n",
      "8   100  120  80  \n",
      "9   100  120  80  \n",
      "10  100  120  80  \n",
      "11  100  120  80  \n",
      "12  100  120  80  \n",
      "13  100  120  80  \n",
      "14  100  120  80  \n",
      "15  100  120  80  \n",
      "16  100  120  80  \n",
      "17  100  120  80  \n",
      "18  100  120  80  \n",
      "19  100  120  80  \n",
      "20  100  120  80  \n",
      "21  100  120  80  \n",
      "22  100  120  80  \n",
      "23  100  120  80  \n"
     ]
    }
   ],
   "source": [
    "print(df_indefic_año2)"
   ]
  },
  {
   "cell_type": "code",
   "execution_count": null,
   "id": "c9a15e46-a78e-4ee3-9b1e-0347db2349a2",
   "metadata": {},
   "outputs": [],
   "source": [
    "# se grafica el indicador de eficiencia en base 100"
   ]
  },
  {
   "cell_type": "code",
   "execution_count": null,
   "id": "a2c024e0-21b7-4dc9-bdba-de5d712aa834",
   "metadata": {},
   "outputs": [
    {
     "data": {
      "image/png": "[encoded data removed]",
      "text/plain": [
       "<Figure size 432x288 with 1 Axes>"
      ]
     },
     "metadata": {
      "needs_background": "light"
     },
     "output_type": "display_data"
    }
   ],
   "source": [
    "fig, ax = plt.subplots()\n",
    "sb.lineplot(x='a', y='c',ci=None, data=df_indefic_año2, ax=ax, color='g',label = \"LIMITE SUPERIOR ZONA CUMPLIMIENTO\")\n",
    "sb.lineplot(x='a', y='d',ci=None, data=df_indefic_año2, ax=ax, color='r',label = \"LIMITE INFERIOR ZONA NO CUMPLIMIENTO\")\n",
    "sb.lineplot(x='a', y='lb100=(Elb/Ereal)*100',ci=None, data=df_indefic_año2, ax=ax, color='b',label = \"E LINEA BASE\")\n",
    "sb.lineplot(x='a', y='lb100=(Elm/Ereal)*100',ci=None, data=df_indefic_año2, ax=ax, color='m',label = \"E LINEA META\")\n",
    "sb.lineplot(x='a', y='b',ci=None, data=df_indefic_año2, ax=ax, color='gray' ,label = \"LINEA BASE 100\")\n",
    "ax.grid(axis = 'both', color = 'gray', linestyle = 'dashed')\n",
    "ax.set_title( \"Produccion vs Consumo\" , size = 24 )\n",
    "plt.xticks(range(0,naux,1))\n",
    "plt.xlabel(\"X Label\",color='w')\n",
    "plt.ylabel(\"INDICADOR BASE 100\", size = 16)\n",
    "plt.legend(bbox_to_anchor=(1.05, 1.0), loc='upper left')\n",
    "plt.show()"
   ]
  },
  {
   "cell_type": "code",
   "execution_count": null,
   "id": "7c0570d7-039e-4004-87b6-93e0fcb302ef",
   "metadata": {},
   "outputs": [],
   "source": []
  }
 ],
 "metadata": {
  "kernelspec": {
   "display_name": "Python 3 (ipykernel)",
   "language": "python",
   "name": "python3"
  },
  "language_info": {
   "codemirror_mode": {
    "name": "ipython",
    "version": 3
   },
   "file_extension": ".py",
   "mimetype": "text/x-python",
   "name": "python",
   "nbconvert_exporter": "python",
   "pygments_lexer": "ipython3",
   "version": "3.9.12"
  }
 },
 "nbformat": 4,
 "nbformat_minor": 5
}
